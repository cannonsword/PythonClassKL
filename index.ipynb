{
 "cells": [
  {
   "cell_type": "markdown",
   "metadata": {
    "collapsed": true
   },
   "source": [
    "# FRC Analytics with Python\n",
    "## I. Table of Contents\n",
    "This course is still under construction.\n",
    "\n",
    "### A. Class Sessions\n",
    "If you are new to this course, start with session 1 below.\n",
    "* [Session 01: Introduction to Python](sessions/s01_intro_python/s01_intro.ipynb)\n",
    "* [Session 02: Data Types I](sessions/s02_data_types_I/s02_data_types_I.ipynb)\n",
    "* [Session 03: Control Statements](sessions/s03_Control_Statements/s03_Control_Statements.ipynb)\n",
    "* [Session 04: Functions](sessions/s04_functions/s04_functions.ipynb)\n",
    "* Session 5: Under Construction\n",
    "* Session 6: Under Construction\n",
    "* [Session 7: HTTP](sessions/s07_http/s07_http.ipynb)\n",
    "\n",
    "### B. Procedures\n",
    "Procedures address how to install and configure software or setup online accounts that are needed for this course. \n",
    "* [1. Python - Windows](procedures/pc01_install_python/pc01_install_python_windows.ipynb)\n",
    "* [2. Git](procedures/pc02_git/pc02_git.ipynb)\n",
    "* [3. Blue Alliance API Key](procedures/pc03_tba_api_key/pc03_tba_api_key.ipynb)\n",
    "\n",
    "### C. Projects\n",
    "Try out these projects once you are familiar with Python and are interested in a challenge.\n",
    "3. Retrieve and Analyze Data from *The Blue Alliance*\n",
    "  * [Notebook 1: HTTP Requests](projects/pj01_tba_api/pj01_nb01_tba_http.ipynb)\n",
    "  * [Notebook 2: Flat Data](projects/pj01_tba_api/pj01_nb02_tba_flat_data.ipynb)\n",
    "  * [Notebook 3: Nested Data](projects/pj01_tba_api/pj01_nb03_tba_nested_data.ipynb)\n",
    "\n",
    "### D. Useful Links\n",
    "* All of the files that make up this course are store on the [FRC Python Class Github Repository](https://github.com/irs1318dev/pyclass_frc).\n",
    "* These course materials are replacing an older course that was constructed entirely in Google Docs. [The Github repository for that course is here.](https://github.com/irs1318dev/python_class) and links to the [Google Docs are here.](https://github.com/irs1318dev/python_class/blob/master/sessions.md)"
   ]
  },
  {
   "cell_type": "markdown",
   "metadata": {},
   "source": [
    "## II. Scouting Verses Analytics\n",
    "\n",
    "#### Scouting\n",
    "* Collection and evaluation of data on rival drive teams and robot performance.\n",
    "* The data is used to improve decisions on regarding drive team strategy and alliance selection.\n",
    "* This use of the term *scouting* is unique to FIRST Robotics Competition (FRC).\n",
    "\n",
    "#### Analytics\n",
    "* The discovery, interpretation, and communication of meaningful patterns in data; and the process of applying those patterns towards effective decision making.\n",
    "* Relies heavily on statistics, other branches of mathematics, and computer programming\n",
    "* The term *analytics* is commonly in many fields (business, tech, etc.)\n",
    "* Applications: Finance, sports, software design, marketing, healthcare, etc.\n",
    "* See https://en.wikipedia.org/wiki/Analytics\n"
   ]
  },
  {
   "cell_type": "markdown",
   "metadata": {},
   "source": [
    "## III. Cool Things You Can Do With Python\n",
    "Python is useful - even if you are not going to major in computer science.\n",
    "\n",
    "### Charts\n",
    "![Charts](images/charts_slide.svg)\n",
    "\n",
    "### Algebra\n",
    "![Math](images/math_slide.svg)\n",
    "\n",
    "### Answer Random Questions\n",
    "![Questions](images/schedule_slide.svg)"
   ]
  }
 ],
 "metadata": {
  "kernelspec": {
   "display_name": "Python 3",
   "language": "python",
   "name": "python3"
  },
  "language_info": {
   "codemirror_mode": {
    "name": "ipython",
    "version": 3
   },
   "file_extension": ".py",
   "mimetype": "text/x-python",
   "name": "python",
   "nbconvert_exporter": "python",
   "pygments_lexer": "ipython3",
   "version": "3.7.6"
  }
 },
 "nbformat": 4,
 "nbformat_minor": 2
}
