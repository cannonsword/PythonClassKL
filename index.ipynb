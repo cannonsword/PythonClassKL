{
 "cells": [
  {
   "cell_type": "markdown",
   "metadata": {
    "collapsed": true
   },
   "source": [
    "# FRC Analytics with Python\n",
    "## Table of Contents\n",
    "This course is still under construction.\n",
    "\n",
    "### Class Sessions\n",
    "If you are new to this course, start with session 1 below.\n",
    "* [Session 1: Introduction to Python](sessions/s01_intro_python/s01_intro.ipynb)\n",
    "* [Session 2: Control Statements](sessions/s02_Control_Statements/s02_Control_Statements.ipynb)\n",
    "* [Session 7: HTTP](sessions/s07_http/s07_http.ipynb)\n",
    "\n",
    "### Procedures\n",
    "Procedures address how to install and configure software or setup online accounts that are needed for this course. \n",
    "* [2. Git](procedures/pc02_git/pc02_git.ipynb)\n",
    "* [3. Blue Alliance API Key](procedures/pc03_tba_api_key/pc03_tba_api_key.ipynb)\n",
    "\n",
    "### Projects\n",
    "Try out these projects once you are familiar with Python and are interested in a challenge.\n",
    "3. Retrieve and Analyze Data from *The Blue Alliance*\n",
    "  * [Notebook 1: HTTP Requests](projects/pj01_tba_api/pj01_nb01_tba_http.ipynb)\n",
    "  * [Notebook 2: Flat Data](projects/pj01_tba_api/pj01_nb02_tba_flat_data.ipynb)\n",
    "  * [Notebook 3: Nested Data](projects/pj01_tba_api/pj01_nb03_tba_nested_data.ipynb)\n",
    "\n",
    "### Useful Links\n",
    "* All of the files that make up this course are store on the [FRC Python Class Github Repository](https://github.com/irs1318dev/pyclass_frc).\n",
    "* These course materials are replacing an older course that was constructed entirely in Google Docs. [The Github repository for that course is here.](https://github.com/irs1318dev/python_class) and links to the [Google Docs are here.](https://github.com/irs1318dev/python_class/blob/master/sessions.md)"
   ]
  }
 ],
 "metadata": {
  "kernelspec": {
   "display_name": "Python 3",
   "language": "python",
   "name": "python3"
  },
  "language_info": {
   "codemirror_mode": {
    "name": "ipython",
    "version": 3
   },
   "file_extension": ".py",
   "mimetype": "text/x-python",
   "name": "python",
   "nbconvert_exporter": "python",
   "pygments_lexer": "ipython3",
   "version": "3.7.6"
  }
 },
 "nbformat": 4,
 "nbformat_minor": 2
}
