{
 "cells": [
  {
   "cell_type": "markdown",
   "metadata": {},
   "source": [
    "[Table of Contents](../../index.ipynb)"
   ]
  },
  {
   "cell_type": "markdown",
   "metadata": {},
   "source": [
    "# FRC Analytics with Python - Procedure 01\n",
    "# Installing Python - Windows 10\n",
    "**Last Upated: 28 April 2020**"
   ]
  },
  {
   "cell_type": "markdown",
   "metadata": {},
   "source": [
    "## I. Preparing for Install\n",
    "1. Make sure there are no spaces in your user folder name on Windows. Spaces can cause problems later on.\n",
    "  * BAD: C:\\Users\\Don Bossi\n",
    "  * GOOD: C:\\Users\\don\n",
    "  * Consider installing Python on a different user account if your account name contains a space.\n",
    "2. Uninstall all other versions of Python that were previously installed.\n",
    "  * Goto *Add or Remove Programs*.\n",
    "  * Search the list of installed programs and uninstall anything with Python in the program name.\n",
    "  * Restart your computer after install."
   ]
  },
  {
   "cell_type": "markdown",
   "metadata": {},
   "source": [
    "# II. Download Python\n",
    "There are many ways to install Python. The IRS uses the Miniconda version of CPython.\n",
    "* Miniconda downloads and installs faster than other types of Python.\n",
    "* Download Python here: https://docs.conda.io/en/latest/miniconda.html\n",
    "* Select the 64-bit versin of Python 3.7 or newer. (Do not download version 2.7!)\n",
    "![Miniconda Download Page](images/miniconda.png)\n",
    "\n",
    "Miniconda is almost exactly the same as another Python distribution called Anaconda\n",
    "* In addition to installing Python, Anaconda installs over a hundred optional Python software modules, which makes downloading and installing take a long time.\n",
    "* We don't need most of the  optional modules, so we install Miniconda instead.\n",
    "* Even though we installed Miniconda, you will see many references to Anaconda -- in many respects they are the same thing."
   ]
  },
  {
   "cell_type": "markdown",
   "metadata": {},
   "source": [
    "# III. Install Miniconda\n",
    "![Python Install Process](images\\install_process.png)"
   ]
  },
  {
   "cell_type": "markdown",
   "metadata": {},
   "source": [
    "## IV. Verify Installation\n",
    "1. Miniconda adds a shortcut to the *Windows Start Menu* for a special version of the Powershell CLI, called the *Anaconda Powershell*. Find the Anaconda *Powershell* program in the Anaconda3 folder on the start menu.\n",
    "  * There are shortcuts to two different programs in your anaconda folder, one for *PowerShell* and one for the traditional Windows command prompt. Open the *PowerShell* prompt.\n",
    "![Start Menu](images/start_menu.png)\n",
    "2. Type `Python -V` and hit enter. You should see something like this:\n",
    "![Anaconda Prompt on Windows](images/verify_python.png)"
   ]
  },
  {
   "cell_type": "markdown",
   "metadata": {},
   "source": [
    "## V. Create a Python Environment\n",
    "Enter this command at the Anaconda Prompt:\n",
    "```bash\n",
    "conda create --name pyclass\n",
    "```"
   ]
  },
  {
   "cell_type": "markdown",
   "metadata": {},
   "source": [
    "## V. Install Jupyter\n",
    "1. First, activate the new *pyclass* environment by entering this command at the prompt.\n",
    "```bash\n",
    "conda activate pyclass\n",
    "```\n",
    "\n",
    "The beginning of the PowerShell prompt has now changed from `(base)` to `(pyclass)` to indicate you have left the *base* environment and are not in the *pyclass* environment.\n",
    "\n",
    "2. Install the Jupyter package into the new *pyclass* environment.\n",
    "```bash\n",
    "conda install jupyter\n",
    "```\n",
    "\n",
    "![Installing Jupyter](images/conda_install_jupyter.png)\n"
   ]
  },
  {
   "cell_type": "markdown",
   "metadata": {},
   "source": [
    "## VI. Run Jupyter\n",
    "Run this command to start the Jupyter notebook server.\n",
    "```bash\n",
    "jupyter notebook\n",
    "```\n",
    "Note that *jupyter* is spelled funny. Your web browser will open and you should see the main *Jupyter* page."
   ]
  },
  {
   "cell_type": "markdown",
   "metadata": {},
   "source": [
    "## VII Next Step\n",
    "Go to [procedure 02](../pc02_git/pc02_git.ipynb) to install Git and copy the Python class to your local computer. Or go back to [session 04 on command line interfaces](../../sessions/s04_command_line/s04_command_line.ipynb)"
   ]
  },
  {
   "cell_type": "markdown",
   "metadata": {},
   "source": [
    "[Table of Contents](../../index.ipynb)"
   ]
  }
 ],
 "metadata": {
  "kernelspec": {
   "display_name": "Python 3",
   "language": "python",
   "name": "python3"
  },
  "language_info": {
   "codemirror_mode": {
    "name": "ipython",
    "version": 3
   },
   "file_extension": ".py",
   "mimetype": "text/x-python",
   "name": "python",
   "nbconvert_exporter": "python",
   "pygments_lexer": "ipython3",
   "version": "3.8.2"
  }
 },
 "nbformat": 4,
 "nbformat_minor": 4
}
