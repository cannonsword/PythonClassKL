{
 "cells": [
  {
   "cell_type": "markdown",
   "metadata": {},
   "source": [
    "[Table of Contents](../../index.ipynb)"
   ]
  },
  {
   "cell_type": "markdown",
   "metadata": {},
   "source": [
    "# Procedure 02: Getting Started with Git and Github\n",
    "This class uses the Git version control system and the Github code sharing service. To complete this class, students will eventually need to install Git on their local computer and download the class materials from Github."
   ]
  },
  {
   "cell_type": "markdown",
   "metadata": {},
   "source": [
    "## 1. Install Git\n",
    "1. Go to http://git-scm.com/downloads and download and install the version of git for your operating system.\n",
    "![Git Download Link](images/git_01.png)\n",
    "2. Accept all default options, *except* on the 5th screen, set *Visual Studio Code* to be the default editor.\n",
    "3. Test the git installation.\n",
    "  * Open a Powershell window.\n",
    "  * Run this command: `git --version`\n",
    "  * You should see somewthing like this:\n",
    "  ![Git Version Check](images/git_02.png)"
   ]
  },
  {
   "cell_type": "markdown",
   "metadata": {},
   "source": [
    "## 2. Create a Github Account\n",
    "1. Go to http://github.com.\n",
    "\n",
    "2. Click the *Sign up* link in the upper right.\n",
    "\n",
    "3. Create a username, enter an email address, and create a password. Follow the instructions on the screen to create your github account.\n",
    "* You will probably have to verify your email address.\n",
    "* Unless you sometimes find yourself thinking \"Gee, I wish I received more useless email,\" uncheck the box under *Email preferences*."
   ]
  },
  {
   "cell_type": "markdown",
   "metadata": {},
   "source": [
    "## 3. Clone this Repository to Your Local Computer\n",
    "1. Go to the Github page for this repository: https://github.com/irs1318dev/pyclass_frc. Click on the *Cone or Download* button.\n",
    "![myTBA Link](images/github_01.png) \n",
    "\n",
    "\n",
    "2. Click on the clipboard icon to copy the repository URL to your clipboard.\n",
    "![myTBA Link](images/github_02.png) \n",
    "\n",
    "3. Open Windows Powershell or Mac Terminal. Navigate to the folder where you want to clone the *FRC Python Class* repository. Type `git clone ` and then paste the URL you copied in step 2. Hit *ENTER*.\n",
    "\n",
    "![myTBA Link](images/github_03.png) \n",
    "\n",
    "4. In step 3 you just copied this notebook and the rest of the *FRC Python Class* repository to your computer. Run Jupyter Notebook on your computer and open and run the local copy of this notebook."
   ]
  },
  {
   "cell_type": "markdown",
   "metadata": {},
   "source": [
    "## 4. What Did We Just Do?\n",
    "* Git just made a copy of all the files from the Github repository on your local computer.\n",
    "* We will use github for the remainder of this course to share code and other files.\n",
    "* Think of the git program that we installed earlier as a client program, and github is the server. Git allows us to upload and download code to and from the Github server.\n",
    "* Git has tools that makes it easier for several people to work on a program at the same time.\n",
    "* Git can store different versions of the same program, and allows you to easily revert back to earlier versions of code by typing a simple command.\n",
    "\n",
    "The IRS and many other FRC teams use github to store code for all programming projects. "
   ]
  },
  {
   "cell_type": "markdown",
   "metadata": {},
   "source": [
    "## 4. Learn About Git\n",
    "You will probably use Git every day if you end up programming for your FRC team or working on other programming projects. The online [*Pro Git* book](http://git-scm.com/book/) is an excellent way to learn about this powerful tool. I recommend reading these sections to start:\n",
    "* 1.1: [About Version Control](https://git-scm.com/book/en/v2/Getting-Started-About-Version-Control)\n",
    "* 1.3: [What is Git?](https://git-scm.com/book/en/v2/Getting-Started-What-is-Git%3F)\n",
    "* 1.6: [First-Time Git Setup](https://git-scm.com/book/en/v2/Getting-Started-First-Time-Git-Setup)\n",
    "* 1.7: [Getting Help](https://git-scm.com/book/en/v2/Getting-Started-Getting-Help)\n",
    "* 2.1: [Getting a Git Repository](https://git-scm.com/book/en/v2/Git-Basics-Getting-a-Git-Repository)\n",
    "* 2.2: [Recording Changes to the Repository](https://git-scm.com/book/en/v2/Git-Basics-Recording-Changes-to-the-Repository)"
   ]
  },
  {
   "cell_type": "markdown",
   "metadata": {},
   "source": [
    "## 5. Exercises\n",
    "1. Create a branch in your newly cloned git repository. The branch name should be your first name. For example, if you name is Dean, the command is:  \n",
    "```git branch dean```  \n",
    "2. Now checkout branch you just created:  \n",
    "`git checkout dean`  \n",
    "3. Now see what branches exist in our repository. Run the command  \n",
    "`git branch` \n",
    "You should see something that looks like this:\n",
    "![Git Command Examples](images/git_03.png)"
   ]
  },
  {
   "cell_type": "markdown",
   "metadata": {},
   "source": [
    "[Table of Contents](../../index.ipynb)"
   ]
  }
 ],
 "metadata": {
  "kernelspec": {
   "display_name": "Python 3",
   "language": "python",
   "name": "python3"
  },
  "language_info": {
   "codemirror_mode": {
    "name": "ipython",
    "version": 3
   },
   "file_extension": ".py",
   "mimetype": "text/x-python",
   "name": "python",
   "nbconvert_exporter": "python",
   "pygments_lexer": "ipython3",
   "version": "3.7.6"
  }
 },
 "nbformat": 4,
 "nbformat_minor": 4
}
