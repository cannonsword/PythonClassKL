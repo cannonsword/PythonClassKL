{
 "cells": [
  {
   "cell_type": "markdown",
   "metadata": {},
   "source": [
    "[Table of Contents](../../index.ipynb)"
   ]
  },
  {
   "cell_type": "markdown",
   "metadata": {
    "collapsed": true
   },
   "source": [
    "# FRC Analytics with Python - Session 01\n",
    "This is an introductory course in programming in Python that was developed for FIRST Robotics Competition (FRC) students. The course focuses on using Python for data analysis and visualization. This course was developed by the Issaquah Robotics Society (IRS), FRC 1318, to prepare students to maintain, operate, and extend the IRS's FRC scouting system."
   ]
  },
  {
   "cell_type": "markdown",
   "metadata": {},
   "source": [
    "## I. Course Overview\n",
    "### Course Objectives\n",
    "Participants who complete this course will be able to:\n",
    "* Create and run Python functions.\n",
    "* Organize Python code into classes.\n",
    "* Get data from external sources using HTTP and SQL.\n",
    "* Manipulate and analyze tabular data using Pandas, a powerful Python package for data analysis.\n",
    "* Evaluate data using descriptive statistics.\n",
    "* Create data visualizations using Bokeh, a Python package for creating charts and graphs.\n",
    "* Use Python for other scientific or engineering projects.\n",
    "\n",
    "### Necessary materials\n",
    "* Laptop, preferably Windows 10 because that’s what the instructor uses, but any operating system should work.\n",
    "* No books needed - all necessary reference materials are online.\n",
    "\n",
    "### Instructional Techniques\n",
    "The course author believes that the ability to use official documentation is essential for a good analyst or programmer.\n",
    "* Instead of replicating resources that are already available, students will be directed to review official documentation when appropriate.\n",
    "* This course is more of a roadmap than a complete tutorial.\n",
    "* Many practice problems will be provided. The best way to learn programming is to program."
   ]
  },
  {
   "cell_type": "markdown",
   "metadata": {},
   "source": [
    "## II. Introduction to Python\n",
    "![XKCD Python Cartoon](images/python.png)  \n",
    "**Cartoon from xkcd.com. [Creative Commons License](https://creativecommons.org/licenses/by-nc/2.5/)**\n",
    "\n",
    "One of the most popular computer programming languages, along with Java, C, and C++\n",
    "* First released in 1991.\n",
    "* Open source and free to use.\n",
    "* Designed for readability.\n",
    "* Supports many different styles of programming, such as functional and object-oriented.\n",
    "\n",
    "Python is an interpreted language\n",
    "* Interpreted means program code is not compiled.\n",
    "* Instead, text files with program code are read and executed by another program called the Python interpreter.\n",
    "\n",
    "Benefits of an interpreted language\n",
    "* Programs can be run on any operating system (e.g., Linux, Windows, Mac, etc.).\n",
    "* Simpler development cycle since no compilation is required.\n",
    "Disadvantages of an interpreted language\n",
    "* Computer must have interpreter installed to be able to run program.\n",
    "* Programs do not execute as fast as compiled languages.\n",
    "\n",
    "#### Why is it Named *Python*?\n",
    "It has nothing to do with snakes. The createor of Python, Guido van Rossum, is apparantly a fan of *Monty Python's Flying Circus*, which was a British sketch comedy TV series that ran from 1969 to 1974. The name reflects one of the goals of Python's developers - Python should be fun to use. [Here is a link to the instructors favorite sketch](https://youtu.be/xpAvcGcEc0k).\n",
    "![Monty Python and the Holy Grail](images/MontyPythonHolyGrail.jpg)"
   ]
  },
  {
   "cell_type": "markdown",
   "metadata": {},
   "source": [
    "## III. Why Does the IRS Use Python for Data Analysis?\n",
    "* Python is one of the most popular languages for data science. So there are many excellent and free packages available in Python for data analysis, data access and retrieval, graphing, statistics, etc.\n",
    "* Python is relatively easy to learn (compared to C or Java)\n",
    "* Python programming is a valuable skill for all STEM majors (not just computer science).\n",
    "* Python is an excellent tool for:\n",
    "  * Statistical analysis via numpy and scipy packages\n",
    "  * Symbolic mathematics via Sympy package\n",
    "  * Writing technical reports via Jupyter Notebooks\n",
    "  * And much more...\n",
    "* Slow speed due to being interpreted is not an issue - Python is plenty fast for our purposes.\n",
    "\n",
    "The IRS uses the CPython implementation, which is the most common implementation. It is written in C and can be extended with modules written in C or C++.\n",
    "\n",
    "The IRS uses Python 3. Python 2 is no longer be supported as of 1 January 2020."
   ]
  },
  {
   "cell_type": "markdown",
   "metadata": {},
   "source": [
    "## IV. Running Python Code in this Notebook\n",
    "For our first class session, we'll run Python code directly in this notebook.\n",
    "\n",
    "Jupyter notebooks consist of three types of cells: markdown, code, and raw nbconvert cells. Raw nbconvert cells are uncommon so we won't discuss those.\n",
    "\n",
    "#### Markdown Cells\n",
    "The cell you are reading this very second is a markdown cell, which is used to display formated text, hyperlinks, and images.\n",
    "\n",
    "Double click on this cell to enter edit mode and see how the text is formatted. Put the cursor in the cell and press *SHIFT + CTRL* or *SHIFT + ENTER* to convert the cell back into nice-looking formatted text."
   ]
  },
  {
   "cell_type": "markdown",
   "metadata": {},
   "source": [
    "#### Code Cells\n",
    "The cell immediately below this cell is a code cell. Put the cursor in that cell and press *SHIFT + ENTER* to run the Python code and see the results."
   ]
  },
  {
   "cell_type": "code",
   "execution_count": null,
   "metadata": {},
   "outputs": [],
   "source": [
    "# This is a code cell. Press SHIFT + ENTER to run the code\n",
    "#   and see the results.\n",
    "num = 1737124\n",
    "f'The square root of {num} is {int(num**0.5)}!'"
   ]
  },
  {
   "cell_type": "markdown",
   "metadata": {},
   "source": [
    "Here is what you should understand about the code above:\n",
    "* The green text following the hash mark (#) is a comment and is ignored by the Python interpreter. \n",
    "* Everything else is Python code. Don't worry if you don't understand it at this point.\n",
    "* When you run a code cell (by pressing *SHIFT + ENTER*), Jupyter will print out the results of the last line below the cell. That's why you see the message appear below the cell."
   ]
  },
  {
   "cell_type": "markdown",
   "metadata": {},
   "source": [
    "#### Working in the Notebook\n",
    "1. You can create new cells by pressing the \"+\" button in the notebook toolbar. Or you can press *ESC* then *A* to insert a cell above the current cell. Can you guess what *ESC* then *B* does?\n",
    "2. You change the cell from code to markdown using the dropdown box in the tool menu. Or you can press *ESC + M* to change to a markdown cell, or *ESC + Y* to change back to a code cell.\n",
    "3. The notebook toolbar also includes buttons for cutting, copying, and pasting cells, as well as saving your notebook, running cells, and moving cells up or down within the notebook.\n",
    "4. There are lots of keyboard shortcuts. Go to *Help->Keyboard Shortcuts* to see them all. Explore the notebook menu while you are at it."
   ]
  },
  {
   "cell_type": "markdown",
   "metadata": {},
   "source": [
    "## V. Getting Started with the Python Tutorial\n",
    "The official Python tutorial is an excellent way to get started with Python. You can access it here: https://docs.python.org/3/tutorial/index.html\n",
    "\n",
    "In this class we will work through much of the Python tutorial.\n",
    "\n",
    "Do note that I didn't say *Read through* or *Scan*. You won't successfully learn to code just by reading or scanning!  \n",
    "\n",
    "\"Work through\" means that you should type the example code from the tutorial into your Python interpreter.  \n",
    "\n",
    "Experiment! Make changes to the example code and predict what will happen. Then run the modified code and see if you were right.\n",
    "* If you were, that's a good sign that you understand the material.\n",
    "* If not, think about the concept some more and keep experimenting."
   ]
  },
  {
   "cell_type": "markdown",
   "metadata": {},
   "source": [
    "### 1. Using Python as a Calculator\n",
    "You can't do analytics without math. Section 3.1.1 of the [Python Tutorial](https://docs.python.org/3/tutorial/index.html) explains how to use Python as a calculator.\n",
    "* OK, most people don't rev up Python when they just need to multiply a couple numbers together. But the calculation techniques in this section are used all the time in Python programs.\n",
    "\n",
    "Read the beginning of section 3 and work through section 3.1.1. Try out the tutorial examples in the code cell below."
   ]
  },
  {
   "cell_type": "code",
   "execution_count": null,
   "metadata": {},
   "outputs": [],
   "source": []
  },
  {
   "cell_type": "markdown",
   "metadata": {},
   "source": [
    "**Ex. #1.** Now minimize the tutorial and see if you can complate these calculations. Re-review the tutorial if you have trouble."
   ]
  },
  {
   "cell_type": "markdown",
   "metadata": {},
   "source": [
    "**Ex. #2.**What is 13 to the 18th power?"
   ]
  },
  {
   "cell_type": "code",
   "execution_count": null,
   "metadata": {},
   "outputs": [],
   "source": []
  },
  {
   "cell_type": "markdown",
   "metadata": {},
   "source": [
    "**Ex. #3.** What is the remainder of 13 to the 18th power divided by 1318?"
   ]
  },
  {
   "cell_type": "code",
   "execution_count": null,
   "metadata": {},
   "outputs": [],
   "source": []
  },
  {
   "cell_type": "markdown",
   "metadata": {},
   "source": [
    "**Ex. #4.** How are the expressions 5/2 and 5//2 different? Predict the result of each expression and then try them out below to see if you are right."
   ]
  },
  {
   "cell_type": "code",
   "execution_count": null,
   "metadata": {},
   "outputs": [],
   "source": []
  },
  {
   "cell_type": "markdown",
   "metadata": {},
   "source": [
    "**Ex. #5.** Write a statement that increments a variable by 1. For example, if the variable contains the value 5, set the variable to the value 6."
   ]
  },
  {
   "cell_type": "code",
   "execution_count": null,
   "metadata": {},
   "outputs": [],
   "source": []
  },
  {
   "cell_type": "markdown",
   "metadata": {},
   "source": [
    "**Ex. #6.** Round the value 4/3 to two decimal places"
   ]
  },
  {
   "cell_type": "code",
   "execution_count": null,
   "metadata": {},
   "outputs": [],
   "source": []
  },
  {
   "cell_type": "markdown",
   "metadata": {},
   "source": [
    "### 2. Working with Strings (i.e., Text)\n",
    "Now work through section 3.1.2 of the [Python Tutorial](https://docs.python.org/3/tutorial/index.html). In computer programming, text values are called strings. Try out the tutorial examples below."
   ]
  },
  {
   "cell_type": "code",
   "execution_count": null,
   "metadata": {},
   "outputs": [],
   "source": []
  },
  {
   "cell_type": "markdown",
   "metadata": {},
   "source": [
    "**Ex. #7.** Assign the phrase *Autonomous Period* to a variable. Use indexing (i.e., [] notation) to get the 13th character"
   ]
  },
  {
   "cell_type": "code",
   "execution_count": null,
   "metadata": {},
   "outputs": [],
   "source": []
  },
  {
   "cell_type": "markdown",
   "metadata": {},
   "source": [
    "**Ex. #8.** Using the string variable created above, use indexing to retrieve the last three characters from the variable."
   ]
  },
  {
   "cell_type": "code",
   "execution_count": null,
   "metadata": {},
   "outputs": [],
   "source": []
  },
  {
   "cell_type": "markdown",
   "metadata": {},
   "source": [
    "**Ex. #9.** Use the len() function to get the number of characters in the string created in the previous exercise"
   ]
  },
  {
   "cell_type": "code",
   "execution_count": null,
   "metadata": {},
   "outputs": [],
   "source": []
  },
  {
   "cell_type": "markdown",
   "metadata": {},
   "source": [
    "### 3. Lists\n",
    "Finally, work through [section 3.1.3 on Python lists](https://docs.python.org/3/tutorial/introduction.html#lists). A list is a sequence of many objects, such as integers, strings, other lists, or more complex objects that we haven't learned anything about yet. Try out some of list examples from the tutorial in the cell below."
   ]
  },
  {
   "cell_type": "code",
   "execution_count": null,
   "metadata": {},
   "outputs": [],
   "source": []
  },
  {
   "cell_type": "markdown",
   "metadata": {},
   "source": [
    "Run the cell below to define the list `seasons`. Use `seasons` for the next two exercises."
   ]
  },
  {
   "cell_type": "code",
   "execution_count": null,
   "metadata": {},
   "outputs": [],
   "source": [
    "seasons = [\"Logo Motion\", \"Rebound Rumble\", \"Ultimate Ascent\", \"Aerial Assist\", \"Recycle Rush\",\n",
    "\"FIRST Stronghold\", \"FIRST Steamworks\", \"FIRST Power Up\", \"Destination: Deep Space\",\n",
    "\"Infinite Recharge\"]"
   ]
  },
  {
   "cell_type": "markdown",
   "metadata": {},
   "source": [
    "**Ex #10**. Use list indexing to display the four most recent seasons."
   ]
  },
  {
   "cell_type": "code",
   "execution_count": null,
   "metadata": {},
   "outputs": [],
   "source": []
  },
  {
   "cell_type": "markdown",
   "metadata": {},
   "source": [
    "**Ex #11.** Use list indexing to display every other season, starting with \"Rebound Rumble\"."
   ]
  },
  {
   "cell_type": "code",
   "execution_count": null,
   "metadata": {},
   "outputs": [],
   "source": []
  },
  {
   "cell_type": "markdown",
   "metadata": {},
   "source": [
    "Run the cell below to define the nested list. Used `nested` for the next two exercises."
   ]
  },
  {
   "cell_type": "code",
   "execution_count": null,
   "metadata": {},
   "outputs": [],
   "source": [
    "nested = [[1, 2, 3], [4, 5, 6], ['a', 'b', 'c']]"
   ]
  },
  {
   "cell_type": "markdown",
   "metadata": {},
   "source": [
    "**Ex #12.** Use indexing to access the 1st element of the third list (the 'a')."
   ]
  },
  {
   "cell_type": "code",
   "execution_count": null,
   "metadata": {},
   "outputs": [],
   "source": []
  },
  {
   "cell_type": "markdown",
   "metadata": {},
   "source": [
    "**Ex #13.** Use the `len()` function to determine the length of `nested`. What value is returned? Does it make sense? Why?"
   ]
  },
  {
   "cell_type": "code",
   "execution_count": null,
   "metadata": {},
   "outputs": [],
   "source": []
  },
  {
   "cell_type": "markdown",
   "metadata": {},
   "source": [
    "**Ex #14.** What happens if you add the two lists (`seasons` and `nested`) together?"
   ]
  },
  {
   "cell_type": "code",
   "execution_count": null,
   "metadata": {},
   "outputs": [],
   "source": [
    "# What does seasons + nested return?\n"
   ]
  },
  {
   "cell_type": "markdown",
   "metadata": {},
   "source": [
    "**Ex #15.** Use the `append()` method to add the next number in the series to the list."
   ]
  },
  {
   "cell_type": "code",
   "execution_count": null,
   "metadata": {},
   "outputs": [],
   "source": [
    "series = [1, 4, 27, 256]"
   ]
  },
  {
   "cell_type": "code",
   "execution_count": null,
   "metadata": {},
   "outputs": [],
   "source": [
    "# Use append() function in this cell to add an element to series.\n"
   ]
  },
  {
   "cell_type": "markdown",
   "metadata": {},
   "source": [
    "### 4. More Exercises"
   ]
  },
  {
   "cell_type": "markdown",
   "metadata": {},
   "source": [
    "**Ex. #16.** How many robots are in an FRC match? Create a variable to hold that number."
   ]
  },
  {
   "cell_type": "code",
   "execution_count": null,
   "metadata": {},
   "outputs": [],
   "source": []
  },
  {
   "cell_type": "markdown",
   "metadata": {},
   "source": [
    "**Ex. #17.** If there are 37 teams at an FRC competition, and every team plays 12 qualification matches, how many qualification matches will there be at the competition? Assign the result to a variable and display the result."
   ]
  },
  {
   "cell_type": "code",
   "execution_count": null,
   "metadata": {},
   "outputs": [],
   "source": []
  },
  {
   "cell_type": "markdown",
   "metadata": {},
   "source": [
    "**Ex. #18.** The sum of the weight of all 37 robots is 4,579 pounds. What is the average robot weight?"
   ]
  },
  {
   "cell_type": "code",
   "execution_count": null,
   "metadata": {},
   "outputs": [],
   "source": []
  },
  {
   "cell_type": "markdown",
   "metadata": {},
   "source": [
    "**Ex. #19.** How would you calculate the average weight rounded down to the\n",
    "nearest integer?"
   ]
  },
  {
   "cell_type": "code",
   "execution_count": null,
   "metadata": {},
   "outputs": [],
   "source": []
  },
  {
   "cell_type": "markdown",
   "metadata": {},
   "source": [
    "**Ex. #20.** Use the `round()` function to calculate the average weight calculated to the nearest integer (up or down)."
   ]
  },
  {
   "cell_type": "code",
   "execution_count": null,
   "metadata": {},
   "outputs": [],
   "source": []
  },
  {
   "cell_type": "markdown",
   "metadata": {},
   "source": [
    "**Ex. #21.** For our competition with 37 teams, calculat how many possible permutations of robots can be on the alliance? Don't ignore station assignment. For example, {1318: station 1, 2976: station 2: 4131: station 3} and {4131: station 1, 1318: station 2, 2976: station 3} are two different permutations.\n",
    "\n",
    "Checkout https://www.mathsisfun.com/combinatorics/combinations-permutations.html if you are not sure about the math."
   ]
  },
  {
   "cell_type": "code",
   "execution_count": null,
   "metadata": {},
   "outputs": [],
   "source": []
  },
  {
   "cell_type": "markdown",
   "metadata": {},
   "source": [
    "**Ex. #22.** Now calculate the number of alliance combinations for a 37-team competition, where station assignments don't matter."
   ]
  },
  {
   "cell_type": "markdown",
   "metadata": {},
   "source": [
    "**Ex. #23.** Use string concatenation to assemble the quote from Dean Kamen and display it in the correct order."
   ]
  },
  {
   "cell_type": "code",
   "execution_count": null,
   "metadata": {},
   "outputs": [],
   "source": [
    "w1 = 'fail at the'\n",
    "w2 = 'you might'\n",
    "w3 = \"If you're\"\n",
    "w4 = 'big ones.'\n",
    "w5 = 'going to'\n",
    "w6 = 'as well'\n",
    "w8 = 'fail,'"
   ]
  },
  {
   "cell_type": "markdown",
   "metadata": {},
   "source": [
    "**Ex. #24.** Use string slicing and concatenation to put the words below in the correct order (don't forget the space)."
   ]
  },
  {
   "cell_type": "code",
   "execution_count": null,
   "metadata": {},
   "outputs": [],
   "source": [
    "pg = \"Professionalism Gracious\" # Leave this line alone\n",
    "\n"
   ]
  },
  {
   "cell_type": "markdown",
   "metadata": {},
   "source": [
    "## VI. Concept and Terminology Review\n",
    "You should be able to define the following terms or drescribe the concept. Go back to the [Python Tutorial](https://docs.python.org/3/tutorial/index.html) if any of these seem unfamiliar.\n",
    "* Interpreted Language\n",
    "* Code Comment\n",
    "* Variable\n",
    "* Variable Assignment\n",
    "* Difference Between Regular Division and Floor Division\n",
    "* String\n",
    "* String Indexing\n",
    "* String Slicing\n",
    "* String Concatenation\n",
    "* List\n",
    "* List Slicing\n",
    "* Determining String Length\n",
    "* Combinations and Permutations\n",
    "  * *Did you think this class wouldn't include any probability or statistics? You can't do much analytics without statistics!* \n",
    "   For help on this concept, go to https://www.mathsisfun.com/combinatorics/combinations-permutations.html.\n"
   ]
  },
  {
   "cell_type": "markdown",
   "metadata": {},
   "source": [
    "[Table of Contents](../../index.ipynb)"
   ]
  }
 ],
 "metadata": {
  "kernelspec": {
   "display_name": "Python 3",
   "language": "python",
   "name": "python3"
  },
  "language_info": {
   "codemirror_mode": {
    "name": "ipython",
    "version": 3
   },
   "file_extension": ".py",
   "mimetype": "text/x-python",
   "name": "python",
   "nbconvert_exporter": "python",
   "pygments_lexer": "ipython3",
   "version": "3.7.6"
  }
 },
 "nbformat": 4,
 "nbformat_minor": 2
}
