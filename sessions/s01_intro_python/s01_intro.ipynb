{
 "cells": [
  {
   "cell_type": "markdown",
   "metadata": {},
   "source": [
    "[Table of Contents](../../index.ipynb)"
   ]
  },
  {
   "cell_type": "markdown",
   "metadata": {
    "collapsed": true
   },
   "source": [
    "# FRC Analytics with Python - Session 01\n",
    "**Last Updated: 24 April 2020**\n",
    "\n",
    "This is an introductory course in programming in Python that was developed for FIRST Robotics Competition (FRC) students. The course focuses on using Python for data analysis and visualization. This course was developed by the Issaquah Robotics Society (IRS), FRC 1318, to prepare students to maintain, operate, and extend the IRS's FRC scouting system."
   ]
  },
  {
   "cell_type": "markdown",
   "metadata": {},
   "source": [
    "## I. Course Overview\n",
    "### Course Objectives\n",
    "Participants who complete this course will be able to:\n",
    "* Create and run Python functions.\n",
    "* Organize Python code into classes.\n",
    "* Get data from external sources using HTTP and SQL.\n",
    "* Manipulate and analyze tabular data using Pandas, a powerful Python package for data analysis.\n",
    "* Evaluate data using descriptive statistics.\n",
    "* Create data visualizations using Bokeh, a Python package for creating charts and graphs.\n",
    "* Use Python for other scientific or engineering projects.\n",
    "\n",
    "### Necessary materials\n",
    "* Laptop, preferably Windows 10 because that’s what the mentor uses, but any operating system should work.\n",
    "* No books needed - all necessary reference materials are online.\n",
    "\n",
    "### Instructional Techniques\n",
    "The course mentor believes that the ability to use official documentation is essential for a good analyst or programmer.\n",
    "* Instead of replicating resources that are already available, students will be directed to review official documentation when appropriate.\n",
    "* Many practice problems will be provided. The best way to learn programming is to program."
   ]
  },
  {
   "cell_type": "markdown",
   "metadata": {},
   "source": [
    "## II. Introduction to Python\n",
    "![XKCD Python Cartoon](images/python.png)  \n",
    "**Cartoon from xkcd.com. [Creative Commons License](https://creativecommons.org/licenses/by-nc/2.5/)**\n",
    "\n",
    "One of the most popular computer programming languages, along with Java, C, and C++\n",
    "* First released in 1991.\n",
    "* Open source and free to use.\n",
    "* Designed for readability.\n",
    "* Supports many different styles of programming, such as functional and object-oriented.\n",
    "\n",
    "Python is an interpreted language\n",
    "* Interpreted means program code is not compiled.\n",
    "* Instead, text files with program code are read and executed by another program called the Python interpreter.\n",
    "\n",
    "Benefits of an interpreted language\n",
    "* Programs can be run on any operating system (e.g., Linux, Windows, Mac, etc.).\n",
    "* Simpler development cycle since no compilation is required.\n",
    "Disadvantages of an interpreted language\n",
    "* Computer must have interpreter installed to be able to run program.\n",
    "* Programs do not execute as fast as compiled languages.\n",
    "\n",
    "#### Why is it Named *Python*?\n",
    "It has nothing to do with snakes. The createor of Python, Guido van Rossum, is apparantly a fan of *Monty Python's Flying Circus*, which was a British sketch comedy TV series that ran from 1969 to 1974. The name reflects one of the goals of Python's developers - Python should be fun to use. [Here is a link to the mentor's favorite sketch](https://youtu.be/xpAvcGcEc0k).\n",
    "![Monty Python and the Holy Grail](images/MontyPythonHolyGrail.jpg)"
   ]
  },
  {
   "cell_type": "markdown",
   "metadata": {},
   "source": [
    "## III. Why Does the IRS Use Python for Data Analysis?\n",
    "* Python is one of the most popular languages for data science. So there are many excellent and free packages available in Python for data analysis, data access and retrieval, graphing, statistics, etc.\n",
    "* Python is relatively easy to learn (compared to C or Java)\n",
    "* Python programming is a valuable skill for all STEM majors (not just computer science).\n",
    "* Python is an excellent tool for:\n",
    "  * Statistical analysis via numpy and scipy packages\n",
    "  * Symbolic mathematics via Sympy package\n",
    "  * Writing technical reports via Jupyter Notebooks\n",
    "  * And much more...\n",
    "* Slow speed due to being interpreted is not an issue - Python is plenty fast for our purposes.\n",
    "\n",
    "The IRS uses the CPython implementation, which is the most common implementation. It is written in C and can be extended with modules written in C or C++.\n",
    "\n",
    "The IRS uses Python 3. Python 2 is no longer be supported as of 1 January 2020."
   ]
  },
  {
   "cell_type": "markdown",
   "metadata": {},
   "source": [
    "## IV. Running Python Code in this Notebook\n",
    "Later on we'll cover how to write Python programs that you can run by double clicking an icon or from a command line, but for our first few class sessions we'll run Python code directly in this notebook. \n",
    "\n",
    "The web page you are looking at right now is a Jupyter notebook. Jupyter notebooks consist of three types of cells: markdown, code, and raw nbconvert cells. Raw nbconvert cells are uncommon so we won't discuss those.\n",
    "\n",
    "#### Markdown Cells\n",
    "The cell you are reading this very second is a markdown cell, which is used to display formated text, hyperlinks, and images.\n",
    "\n",
    "Double click on this cell to enter edit mode and see how the text is formatted. Put the cursor in the cell and press *SHIFT + CTRL* or *SHIFT + ENTER* to convert the cell back into nice-looking formatted text."
   ]
  },
  {
   "cell_type": "markdown",
   "metadata": {},
   "source": [
    "#### Code Cells\n",
    "The cell immediately below this cell is a code cell. Put the cursor in that cell and press *SHIFT + ENTER* to run the Python code and see the results."
   ]
  },
  {
   "cell_type": "code",
   "execution_count": null,
   "metadata": {},
   "outputs": [],
   "source": [
    "# This is a code cell. Press SHIFT + ENTER to run the code\n",
    "#   and see the results.\n",
    "num = 1737124\n",
    "f'The square root of {num} is {int(num**0.5)}!'"
   ]
  },
  {
   "cell_type": "markdown",
   "metadata": {},
   "source": [
    "Here is what you should understand about the code above:\n",
    "* The green text following the hash mark (#) is a comment and is ignored by the Python interpreter. \n",
    "* Everything else is Python code. Don't worry if you don't understand it at this point.\n",
    "* When you run a code cell (by pressing *SHIFT + ENTER*), *Jupyter will print out the results of the last line* below the cell. That's why you see the message appear below the cell.\n",
    "\n",
    "**For this course, whenever you come across a code cell, you should run it.**"
   ]
  },
  {
   "cell_type": "markdown",
   "metadata": {},
   "source": [
    "#### Working in the Notebook\n",
    "1. You can create new cells by pressing the \"+\" button in the notebook toolbar. Or you can press *ESC* then *A* to insert a cell above the current cell. Can you guess what *ESC* then *B* does?\n",
    "2. You change the cell from code to markdown using the dropdown box in the tool menu. Or you can press *ESC + M* to change to a markdown cell, or *ESC + Y* to change back to a code cell.\n",
    "3. The notebook toolbar also includes buttons for cutting, copying, and pasting cells, as well as saving your notebook, running cells, and moving cells up or down within the notebook.\n",
    "4. There are lots of keyboard shortcuts. Go to *Help->Keyboard Shortcuts* to see them all. Explore the notebook menu while you are at it."
   ]
  },
  {
   "cell_type": "markdown",
   "metadata": {},
   "source": [
    "## V. First Steps\n",
    "This section covers how do use Python for basic calculations. Work through the information, examples, and exercises in the rest of this notebook.\n",
    "\n",
    "Do note that I didn't say *Read through* or *Scan*. You won't successfully learn to code just by reading or scanning!  \n",
    "\n",
    "*Work through* means that you should type the example code from the tutorial into your Python interpreter.  \n",
    "\n",
    "Experiment! Make changes to the example code and predict what will happen. Then run the modified code and see if you were right.\n",
    "* If you were, that's a good sign that you understand the material.\n",
    "* If not, think about the concept some more and keep experimenting."
   ]
  },
  {
   "cell_type": "markdown",
   "metadata": {},
   "source": [
    "### A. Comments and Basic Operations\n",
    "Let's analyze our first lines of code. We'll start with comments and some basic math. Place the cursor in the cell below and hit CTRL+ENTER to run it."
   ]
  },
  {
   "cell_type": "code",
   "execution_count": null,
   "metadata": {},
   "outputs": [],
   "source": [
    "# Text that starts with a `#` is a comment\n",
    "3 + 7  # Comments don't have to be placed at the beginning of a line."
   ]
  },
  {
   "cell_type": "markdown",
   "metadata": {},
   "source": [
    "The first line of the cell is a comment. Comments start with the hash character (*#*). Comments explain code to human readers and are ignored by Python. You will learn later in this class that *comments are extremely important.*\n",
    "\n",
    "Surley you can guess what the second line of the code cell does. It adds the numbers 3 and 7. And if you ran the cell, you can see the sum immediately below the cell. (If you don't see '10' below the cell, please run it). The second line of code also contains another comment. While a comment can follow code on a line, code can never follow a comment.\n",
    "\n",
    "In addition to addition, Python can also subtract using the dash symbol `-`, multiply using the asterisk `*`, and divide using the forward slash `/`. Yes, multiplication and division would be more intuitive if Python used $\\times$ and $\\div$, but I've never been able to find those keys on my keyboard. Here is an example of subtraction (run the cell):"
   ]
  },
  {
   "cell_type": "code",
   "execution_count": null,
   "metadata": {},
   "outputs": [],
   "source": [
    "# Subtraction Example\n",
    "25 - 36"
   ]
  },
  {
   "cell_type": "markdown",
   "metadata": {},
   "source": [
    "Now let's try multiplication and division. Run this cell:"
   ]
  },
  {
   "cell_type": "code",
   "execution_count": null,
   "metadata": {},
   "outputs": [],
   "source": [
    "8 * 9\n",
    "75 / 5"
   ]
  },
  {
   "cell_type": "markdown",
   "metadata": {},
   "source": [
    "That's weird. We're only seeing the results of the division (quotient), but not the results of the multiplication (product).\n",
    "\n",
    "Actually it's not weird. Python doesn't display any result unless you specifically tell it to. But Jupyter notebook code cells display the result of the last line of code in the cell. If we swap the order of the operations we'll see the product instead of the quotient."
   ]
  },
  {
   "cell_type": "code",
   "execution_count": null,
   "metadata": {},
   "outputs": [],
   "source": [
    "75 / 5\n",
    "8 * 9"
   ]
  },
  {
   "cell_type": "markdown",
   "metadata": {},
   "source": [
    "Python provides a way to display multiple results from a single code cell: the `print()` function."
   ]
  },
  {
   "cell_type": "markdown",
   "metadata": {},
   "source": [
    "### B. The `print()` Function\n",
    "Run the next cell."
   ]
  },
  {
   "cell_type": "code",
   "execution_count": null,
   "metadata": {
    "scrolled": true
   },
   "outputs": [],
   "source": [
    "# The print() function\n",
    "print(75 / 5)\n",
    "print(8 * 9)"
   ]
  },
  {
   "cell_type": "markdown",
   "metadata": {},
   "source": [
    "`print()` is a function that's built into Python. We'll discuss exactly what a function is in session 04. For now, just understand that the `print()` function will display whatever we put between the parentheses."
   ]
  },
  {
   "cell_type": "markdown",
   "metadata": {},
   "source": [
    "### C. Operators and More Math\n",
    "In Python and other programming languages, the symbols `+`, `-`, `*`, and `/` are called operators. An operator is a symbol that instructs Python to do something. The `+` operator tells Python to add the number to the left of the `+` sign to the number on the right of the `+` sign. The `-` operator tells Python to subtract the number on the right of the `-` sign from the number on the left of the `-` sign. The `*` operator tells Python to ... well, you get the idea.\n",
    "\n",
    "More specifically, `+`, `-`, `*`, and `/` are *binary* operators because they each operate on two numbers.\n",
    "\n",
    "The `-` operator can also be used as a unary operator, meaning it operates on only one number. Run the next cell."
   ]
  },
  {
   "cell_type": "code",
   "execution_count": null,
   "metadata": {},
   "outputs": [],
   "source": [
    "# Using '-' as a unary operator\n",
    "print(5 + -10)\n",
    "print(5 - -10)"
   ]
  },
  {
   "cell_type": "markdown",
   "metadata": {},
   "source": [
    "Python correctly determined that we wanted the `-` sign to negate the number 10. As a unary operator, `-` negates the number that follows it.\n",
    "\n",
    "There are a few other mathematical operators. Run the next cell."
   ]
  },
  {
   "cell_type": "code",
   "execution_count": null,
   "metadata": {},
   "outputs": [],
   "source": [
    "print(23 // 5)  # Two slashes is floor division - answer is always an integer.\n",
    "print(24 / 5)   # Remember, one slash is regular division \n",
    "print(23 % 5)   # Percent sign gives us the remainder\n",
    "print(5 ** 3)   # Two asterisks is exponentiation."
   ]
  },
  {
   "cell_type": "markdown",
   "metadata": {},
   "source": [
    "Parentheses can be used to control order of operation. Without parenthesis, Python follows standard rules for precedence."
   ]
  },
  {
   "cell_type": "code",
   "execution_count": null,
   "metadata": {},
   "outputs": [],
   "source": [
    "# Operators within parentheses are executed first.\n",
    "print((10 + 5) * 2)\n",
    "print(10 + 5 * 2)"
   ]
  },
  {
   "cell_type": "markdown",
   "metadata": {},
   "source": [
    "### D. Variables\n",
    "In computer programming, we often need to save the results of calculations and use them later. And by often, I mean *all the time*. For this we use *variables*. Variables are named values. In Python we create a variable by typing the name of the variable followed by an `=` sign, followed by the value we want the variable to represent."
   ]
  },
  {
   "cell_type": "code",
   "execution_count": null,
   "metadata": {},
   "outputs": [],
   "source": [
    "# Using Variables\n",
    "radius = 2     # Assignment statement\n",
    "pi = 3.14      # Assignment statement\n",
    "height = 5     # Assignment statement\n",
    "\n",
    "# This line both reads variables and assigns the results of a mathematical expression to\n",
    "#   a new variable\n",
    "cylinder_volume = pi * radius**2 * height\n",
    "\n",
    "# Placing the variable on the final line of the code cell causes Jupyter to\n",
    "#   to display it's value.\n",
    "cylinder_volume"
   ]
  },
  {
   "cell_type": "markdown",
   "metadata": {},
   "source": [
    "There are a few things to keep in mind regarding variables if you don't want errors."
   ]
  },
  {
   "cell_type": "code",
   "execution_count": null,
   "metadata": {},
   "outputs": [],
   "source": [
    "# Trying to access a variable before it's defined causes an error.\n",
    "var1 = 5 + undefined_var"
   ]
  },
  {
   "cell_type": "code",
   "execution_count": null,
   "metadata": {},
   "outputs": [],
   "source": [
    "# Numbers on the left side of the `=` sign cause an erro\n",
    "5 = height"
   ]
  },
  {
   "cell_type": "markdown",
   "metadata": {},
   "source": [
    "Variable names must start with either a letter or an underscore (\\_) character. Variable names can contain numbers, letters, or th underscore."
   ]
  },
  {
   "cell_type": "markdown",
   "metadata": {},
   "source": [
    "### E. Important! Python is Case Sensitive\n",
    "Python, like many well-known programming languages (Java, C, C++, Ruby, R, Julia, JavaScript) is case sensitive. That means the variables `weight` and `Weight` are two different variables."
   ]
  },
  {
   "cell_type": "code",
   "execution_count": null,
   "metadata": {},
   "outputs": [],
   "source": [
    "# Creating an error by using the wrong case\n",
    "weight = 125\n",
    "print(Weight)"
   ]
  },
  {
   "cell_type": "markdown",
   "metadata": {},
   "source": [
    "You can use the `print()` function all day, but using `Print()` is problematic."
   ]
  },
  {
   "cell_type": "code",
   "execution_count": null,
   "metadata": {},
   "outputs": [],
   "source": [
    "# Using the wrong case with print() causes an error\n",
    "Print(2 + 2)"
   ]
  },
  {
   "cell_type": "markdown",
   "metadata": {},
   "source": [
    "Options are a bit limited if you want to use a case-insenitive language. Examples of case insensitive languages include Visual Basic and most other versions of BASIC, as well as Pascal, and Fortran."
   ]
  },
  {
   "cell_type": "markdown",
   "metadata": {},
   "source": [
    "### F. Strings (i.e., Text)\n",
    "Variables can hold text as well as numbers. In computer programming, sequences of letters and other characters are called strings. Strings must be surrounded with either single or double quotes."
   ]
  },
  {
   "cell_type": "code",
   "execution_count": null,
   "metadata": {},
   "outputs": [],
   "source": [
    "# Example String Variables\n",
    "string1 = 'Keep calm and build robots.'\n",
    "\n",
    "# Can place single quote in string surrounded by double quotes.\n",
    "string2 = \"Sir, it's quite possible this asterioid is not entirely stable.\"\n",
    "\n",
    "# A backwards slash allows single quote in string surrounded by single quotes.\n",
    "string3 = 'Dean said \"If you\\'re going to fail, you might as well fail at the big ones.\"'\n",
    "\n",
    "# Let's see how these print out\n",
    "print(string1)\n",
    "print(string2)  \n",
    "print(string3)  "
   ]
  },
  {
   "cell_type": "markdown",
   "metadata": {},
   "source": [
    "The fact that Python allows strings to be enclosed in both single and double quotes comes in handy. If we need to have a single quote within our string we can enclose the string in double quotes (like in `string1`), and vice versa. We can also place a single or double quote inside a string if we precede it with a slash (like in `string3`).\n",
    "\n",
    "If you want to place a backwards slash inside a string, use two backward slashes: `\"//\"`."
   ]
  },
  {
   "cell_type": "code",
   "execution_count": null,
   "metadata": {},
   "outputs": [],
   "source": [
    "back_slash = 'This is a backwards slash: \\\\'\n",
    "print(back_slash)"
   ]
  },
  {
   "cell_type": "markdown",
   "metadata": {},
   "source": [
    "In computer programming, the backwards slash (\\\\) and the forward slash (/) *are not interchangeable*. The backwards slash won't divide squat, and the forward's slash won't help you put a quotation mark inside a string. The mentor has spent time debugging because he mixed up his slashes. \n",
    "\n",
    "There are no special rules for placing a forward slash in a string."
   ]
  },
  {
   "cell_type": "markdown",
   "metadata": {},
   "source": [
    "## VI. The Python Tutorial\n",
    "The Python Software Foundation maintains an official Python Tutorial that is an excellent resource. We will frequently refer to the Python Tutorial and other portions of Python's official documentation.\n",
    "\n",
    "### A. Numbers Tutorial\n",
    "Now work through [section 3.1.1 of the Python Tutorial](https://docs.python.org/3/tutorial/introduction.html) on numbers.\n",
    "\n",
    "Read the beginning of section 3 and work through section 3.1.1. Try out the tutorial examples in the code cell below."
   ]
  },
  {
   "cell_type": "code",
   "execution_count": null,
   "metadata": {},
   "outputs": [],
   "source": [
    "# Numbers Tutorial Examples\n",
    "\n"
   ]
  },
  {
   "cell_type": "markdown",
   "metadata": {},
   "source": [
    "Now see if you can complate these calculations. Re-review the tutorial or earlier portions of this notebook if you have trouble."
   ]
  },
  {
   "cell_type": "markdown",
   "metadata": {},
   "source": [
    "**Ex. #1.**What is 13 to the 18th power?"
   ]
  },
  {
   "cell_type": "code",
   "execution_count": null,
   "metadata": {},
   "outputs": [],
   "source": [
    "# Ex 1\n"
   ]
  },
  {
   "cell_type": "markdown",
   "metadata": {},
   "source": [
    "**Ex. #2.** What is the remainder of 13 to the 18th power divided by 1318?"
   ]
  },
  {
   "cell_type": "code",
   "execution_count": null,
   "metadata": {},
   "outputs": [],
   "source": [
    "# Ex 2\n"
   ]
  },
  {
   "cell_type": "markdown",
   "metadata": {},
   "source": [
    "**Ex. #3.** How are the expressions 5/2 and 5//2 different? Predict the result of each expression and then try them out below to see if you are right."
   ]
  },
  {
   "cell_type": "code",
   "execution_count": null,
   "metadata": {},
   "outputs": [],
   "source": [
    "# Ex 3\n"
   ]
  },
  {
   "cell_type": "markdown",
   "metadata": {},
   "source": [
    "**Ex. #4.** Write a statement that increments a variable by 1. For example, if the variable contains the value 5, set the variable to the value 6."
   ]
  },
  {
   "cell_type": "code",
   "execution_count": null,
   "metadata": {},
   "outputs": [],
   "source": [
    "# Ex 4\n"
   ]
  },
  {
   "cell_type": "markdown",
   "metadata": {},
   "source": [
    "**Ex. #5.** Round the value 4/3 to two decimal places"
   ]
  },
  {
   "cell_type": "code",
   "execution_count": null,
   "metadata": {},
   "outputs": [],
   "source": [
    "# Ex 5\n"
   ]
  },
  {
   "cell_type": "code",
   "execution_count": null,
   "metadata": {},
   "outputs": [],
   "source": [
    "forward_slash = 'This is a foward slash: /'\n",
    "print(forward_slash)"
   ]
  },
  {
   "cell_type": "markdown",
   "metadata": {},
   "source": [
    "### B. String Tutorial\n",
    "Now work through section 3.1.2 of the [Python Tutorial](https://docs.python.org/3/tutorial/index.html). Try out the tutorial examples below."
   ]
  },
  {
   "cell_type": "code",
   "execution_count": null,
   "metadata": {},
   "outputs": [],
   "source": [
    "# String Tutorial Examples\n",
    "\n",
    "\n"
   ]
  },
  {
   "cell_type": "markdown",
   "metadata": {},
   "source": [
    "**Ex. #6.** Assign the phrase *Autonomous Period* to a variable. Use indexing (i.e., [] notation) to get the 13th character"
   ]
  },
  {
   "cell_type": "code",
   "execution_count": null,
   "metadata": {},
   "outputs": [],
   "source": [
    "# Ex 6\n"
   ]
  },
  {
   "cell_type": "markdown",
   "metadata": {},
   "source": [
    "**Ex. #7.** Using the string variable created above, use indexing to retrieve the last three characters from the variable."
   ]
  },
  {
   "cell_type": "code",
   "execution_count": null,
   "metadata": {},
   "outputs": [],
   "source": [
    "# Ex 7\n"
   ]
  },
  {
   "cell_type": "markdown",
   "metadata": {},
   "source": [
    "**Ex. #8.** Use the len() function to get the number of characters in the string created in the previous exercise"
   ]
  },
  {
   "cell_type": "code",
   "execution_count": null,
   "metadata": {},
   "outputs": [],
   "source": [
    "# Ex 8\n"
   ]
  },
  {
   "cell_type": "markdown",
   "metadata": {},
   "source": [
    "## VII. More Exercises"
   ]
  },
  {
   "cell_type": "markdown",
   "metadata": {},
   "source": [
    "**Ex. #9.** How many robots are in an FRC match? Create a variable to hold that number."
   ]
  },
  {
   "cell_type": "code",
   "execution_count": null,
   "metadata": {},
   "outputs": [],
   "source": [
    "# Ex 9:\n",
    "\n"
   ]
  },
  {
   "cell_type": "markdown",
   "metadata": {},
   "source": [
    "**Ex. #10.** If there are 37 teams at an FRC competition, and every team plays 12 qualification matches, how many qualification matches will there be at the competition? Assign the result to a variable and display the result."
   ]
  },
  {
   "cell_type": "code",
   "execution_count": null,
   "metadata": {},
   "outputs": [],
   "source": [
    "# Ex 10:\n"
   ]
  },
  {
   "cell_type": "markdown",
   "metadata": {},
   "source": [
    "**Ex. #11.** The sum of the weight of all 37 robots is 4,579 pounds. What is the average robot weight?"
   ]
  },
  {
   "cell_type": "code",
   "execution_count": null,
   "metadata": {},
   "outputs": [],
   "source": [
    "# Ex 11:\n"
   ]
  },
  {
   "cell_type": "markdown",
   "metadata": {},
   "source": [
    "**Ex. #12.** Use the `round()` function to calculate the average weight to the nearest integer (up or down)."
   ]
  },
  {
   "cell_type": "code",
   "execution_count": null,
   "metadata": {},
   "outputs": [],
   "source": [
    "# Ex 12:\n"
   ]
  },
  {
   "cell_type": "markdown",
   "metadata": {},
   "source": [
    "**Ex. #13.** For our competition with 37 teams, calculate how many possible permutations of robots can be on the alliance. Don't ignore station assignment. For example, {1318: station 1, 2976: station 2: 4131: station 3} and {4131: station 1, 1318: station 2, 2976: station 3} are two different permutations.\n",
    "\n",
    "Checkout https://www.mathsisfun.com/combinatorics/combinations-permutations.html if you are not sure about the math."
   ]
  },
  {
   "cell_type": "code",
   "execution_count": 5,
   "metadata": {},
   "outputs": [],
   "source": [
    "# Ex 13:\n"
   ]
  },
  {
   "cell_type": "markdown",
   "metadata": {},
   "source": [
    "**Ex. #14.** Now calculate the number of alliance combinations for a 37-team competition, where station assignments don't matter."
   ]
  },
  {
   "cell_type": "code",
   "execution_count": null,
   "metadata": {},
   "outputs": [],
   "source": [
    "# Ex 14:\n"
   ]
  },
  {
   "cell_type": "markdown",
   "metadata": {},
   "source": [
    "**Ex. #15.** Use string concatenation to assemble the quote from Dean Kamen and display it in the correct order."
   ]
  },
  {
   "cell_type": "code",
   "execution_count": null,
   "metadata": {},
   "outputs": [],
   "source": [
    "# Ex 15: Assemble the quote\n",
    "\n",
    "w1 = 'fail at the'\n",
    "w2 = 'you might'\n",
    "w3 = \"If you're\"\n",
    "w4 = 'big ones.'\n",
    "w5 = 'going to'\n",
    "w6 = 'as well'\n",
    "w8 = 'fail,'"
   ]
  },
  {
   "cell_type": "markdown",
   "metadata": {},
   "source": [
    "**Ex. #16.** Use string slicing and concatenation to put the words below in the correct order (don't forget the space)."
   ]
  },
  {
   "cell_type": "code",
   "execution_count": null,
   "metadata": {},
   "outputs": [],
   "source": [
    "# Ex 16\n",
    "pg = \"Professionalism Gracious\" # Leave this line alone\n",
    "\n"
   ]
  },
  {
   "cell_type": "markdown",
   "metadata": {},
   "source": [
    "## VIII. Save Your Work\n",
    "Once you have completed the exercises, go to the *File* menu above and select *Download As->HTML*. Download an HTML version of this page that shows the completed exercises. Use this page to check your answers, or to provide to the course instructor in case they want to see how you are doing."
   ]
  },
  {
   "cell_type": "markdown",
   "metadata": {},
   "source": [
    "## IX. Concept and Terminology Review\n",
    "You should be able to define the following terms or drescribe the concept. Go back to the [Python Tutorial](https://docs.python.org/3/tutorial/index.html) if any of these seem unfamiliar.\n",
    "* Interpreted Language\n",
    "* Code Comment\n",
    "* Mathematical Operators\n",
    "* print Function\n",
    "* Variable\n",
    "* Variable Assignment\n",
    "* Difference Between Regular Division and Floor Division\n",
    "* String\n",
    "* String Indexing\n",
    "* String Slicing\n",
    "* String Concatenation\n",
    "* Determining String Length\n",
    "* Combinations and Permutations\n",
    "  * *Did you think this class wouldn't include any probability or statistics? You can't do much analytics without statistics!* \n",
    "   For help on this concept, go to https://www.mathsisfun.com/combinatorics/combinations-permutations.html."
   ]
  },
  {
   "cell_type": "markdown",
   "metadata": {},
   "source": [
    "[Table of Contents](../../index.ipynb)"
   ]
  }
 ],
 "metadata": {
  "kernelspec": {
   "display_name": "Python 3",
   "language": "python",
   "name": "python3"
  },
  "language_info": {
   "codemirror_mode": {
    "name": "ipython",
    "version": 3
   },
   "file_extension": ".py",
   "mimetype": "text/x-python",
   "name": "python",
   "nbconvert_exporter": "python",
   "pygments_lexer": "ipython3",
   "version": "3.8.2"
  }
 },
 "nbformat": 4,
 "nbformat_minor": 2
}
