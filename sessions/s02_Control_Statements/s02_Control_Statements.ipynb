{
 "cells": [
  {
   "cell_type": "markdown",
   "metadata": {},
   "source": [
    "# Control Statements\n",
    "\n",
    "![](flowchart.png)\n",
    "\n",
    "Control statements in python are used to control the order of execution of the program based on the values and logic"
   ]
  },
  {
   "cell_type": "markdown",
   "metadata": {},
   "source": [
    "## What are control statements used for? \n",
    "\n",
    "A control statement is a statement that determines whether other statements will be executed. An if statement decides whether to execute another statement, or decides which of two statements to execute. A loop decides how many times to execute another statement. Control statements are used very frequently in python code to decipher between different inputs and most importantly to decide what code to run in response to a set condition.\n",
    "\n",
    "In our scouting system, loops and conditions are used to process data input from tablets and create ideal data outputs.\n",
    "\n",
    "For Example, when data is entered into the tablet, the count for game pieces placed should not go below 0. This can be controlled using an if statement like this:\n",
    " ```Python\n",
    "        if(pc_count <= 0): \n",
    "                pc_count = 0\n",
    "        ```\n",
    "            \n",
    "            "
   ]
  },
  {
   "cell_type": "markdown",
   "metadata": {},
   "source": [
    "In the cells below, go through sections 4.1-4.5 of the python tutorial linked. \n",
    "Experiment with:\n",
    "- If statements\n",
    "- For loops\n",
    "- Range function\n",
    "- Else Clauses\n",
    "- Break and Continue statements\n",
    "\n",
    "https://docs.python.org/3/tutorial/index.html"
   ]
  },
  {
   "cell_type": "code",
   "execution_count": null,
   "metadata": {},
   "outputs": [],
   "source": [
    "#practice if statements here"
   ]
  },
  {
   "cell_type": "code",
   "execution_count": null,
   "metadata": {},
   "outputs": [],
   "source": [
    "#practice for loops here"
   ]
  },
  {
   "cell_type": "code",
   "execution_count": null,
   "metadata": {},
   "outputs": [],
   "source": [
    "#practice range funtions here"
   ]
  },
  {
   "cell_type": "code",
   "execution_count": null,
   "metadata": {},
   "outputs": [],
   "source": [
    "#practice else clauses here"
   ]
  },
  {
   "cell_type": "code",
   "execution_count": null,
   "metadata": {},
   "outputs": [],
   "source": [
    "#practice break and continue statements here"
   ]
  },
  {
   "cell_type": "markdown",
   "metadata": {},
   "source": [
    "## Python Tutorial Section 4.1: If Statements\n",
    "Go back and work through section 4.1 if you have trouble answering any of these questions:\n",
    "- What is the difference between the elif and else keywords? \n",
    "- Can there be more than one elif statement?\n",
    "- Can there be more than one else statement?\n",
    "\n",
    "More information on if statements: https://www.tutorialspoint.com/python/python_decision_making.htm"
   ]
  },
  {
   "cell_type": "markdown",
   "metadata": {},
   "source": [
    "## Python Tutorial Sections 4.2 - 4.3: For Loops\n",
    "You should be able to answer these questions\n",
    "- How is a for loop different than a while loop? See tutorial section 3.2 if you need a review on while loops.\n",
    "- Other than for, what other Python keyword is used in a for statement at the beginning of a for loop?\n",
    "- What are the three arguments to the range() function?\n",
    "- What numbers exactly will the following for loops print?\n",
    "\n",
    "### For loop #1\n",
    "   ```Python\n",
    "    for idx in range(5):\n",
    "        print(idx)\n",
    "    ```\n",
    "### For loop #2\n",
    "   ```Python\n",
    "    for idx in range(3, 6):\n",
    "        print(idx)\n",
    "    ```\n",
    "\n",
    "### For loop #3\n",
    " ```Python   \n",
    "    for idx in range(5, -5, -2):\n",
    "        print(idx)\n",
    "  ```  \n",
    "\n",
    "More information on range(): https://www.geeksforgeeks.org/python-range-function/\n",
    "\n",
    "\n",
    "Number 1: Prints 0, 1, 2, 3, and 4\n",
    "\n",
    "Number 2: Prints 3, 4, and 5\n",
    "\n",
    "Number 3: Prints 5, 3, 1, -1, -3"
   ]
  },
  {
   "cell_type": "markdown",
   "metadata": {},
   "source": [
    "## Python Tutorial Sections 4.4: Break and Continue Statements\n",
    "You should be able to answer these questions\n",
    "- Where are break and continue statements used?\n",
    "- What is the difference between a break and a continue statement?\n",
    "- Under what conditions, exactly, will statements within a for-loop else clause not be executed?\n",
    "\n",
    "More information on for loops: https://www.tutorialspoint.com/python/python_loops.htm"
   ]
  },
  {
   "cell_type": "markdown",
   "metadata": {},
   "source": [
    "## Python Tutorial Sections 4.4 - 4.5: Break, Continue, and pass Statements\n",
    "You should be able to answer these questions\n",
    "- Where are break and continue statements used?\n",
    "- What is the difference between a break and a continue statement?\n",
    "- Under what conditions, exactly, will statements within a for-loop else clause not be executed?\n",
    "- What statement does nothing, but might be useful while you are coding?"
   ]
  },
  {
   "cell_type": "markdown",
   "metadata": {},
   "source": [
    "Complete the excersises in the cells below:"
   ]
  },
  {
   "cell_type": "code",
   "execution_count": null,
   "metadata": {},
   "outputs": [],
   "source": [
    "#Use a for loop to calculate the factorial of 13, 18, and 1318"
   ]
  },
  {
   "cell_type": "code",
   "execution_count": null,
   "metadata": {},
   "outputs": [],
   "source": [
    "#Use a while loop to calculate the factorial of 13, 18, and 1318"
   ]
  },
  {
   "cell_type": "code",
   "execution_count": null,
   "metadata": {},
   "outputs": [],
   "source": [
    "#Print all integers between 0 and 1318 that are multiples of 13 or 18"
   ]
  },
  {
   "cell_type": "code",
   "execution_count": null,
   "metadata": {},
   "outputs": [],
   "source": [
    "'''Use a for loop and range() to reverse the letters in \"Issaquah Robotics Society\" \n",
    "Hint: The += operator might also come in handy.'''"
   ]
  },
  {
   "cell_type": "code",
   "execution_count": null,
   "metadata": {},
   "outputs": [],
   "source": [
    "'''Use a for loop and to print out all the numbers between 0 and 100, \n",
    "except for numbers that are multiples of 9 (use the continue statement and % operator)'''\n"
   ]
  },
  {
   "cell_type": "markdown",
   "metadata": {},
   "source": [
    "## Check your answers!"
   ]
  },
  {
   "cell_type": "code",
   "execution_count": null,
   "metadata": {},
   "outputs": [],
   "source": [
    "#Factorial of 13\n",
    "fact = 1\n",
    "for idx in range(1,14):\n",
    "     fact *= idx\n",
    "fact"
   ]
  },
  {
   "cell_type": "code",
   "execution_count": null,
   "metadata": {},
   "outputs": [],
   "source": [
    "#Factorial of 18\n",
    "fact = 1\n",
    "for idx in range(1,19):\n",
    "     fact *= idx\n",
    "fact"
   ]
  },
  {
   "cell_type": "code",
   "execution_count": null,
   "metadata": {},
   "outputs": [],
   "source": [
    "#Factorial of 1318\n",
    "fact = 1\n",
    "for idx in range(1,1319):\n",
    "     fact *= idx\n",
    "fact"
   ]
  },
  {
   "cell_type": "markdown",
   "metadata": {},
   "source": [
    "You should be able to answer these questions:\n",
    "- Why do we use range objects that go to 14 and 19 instead of 13 and 18?\n",
    "- What answer would we get if we omitted the 1 from the range arguments (i.e., range(14)?"
   ]
  },
  {
   "cell_type": "code",
   "execution_count": null,
   "metadata": {},
   "outputs": [],
   "source": [
    "#Factorial of 13\n",
    "idx = 13\n",
    "result = 1 \n",
    "while idx > 0:\n",
    "    result *= idx\n",
    "    idx -= -1\n",
    "result"
   ]
  },
  {
   "cell_type": "code",
   "execution_count": null,
   "metadata": {},
   "outputs": [],
   "source": [
    "#Factorial of 18\n",
    "idx = 18\n",
    "result = 1 \n",
    "while idx > 0:\n",
    "    result *= idx\n",
    "    idx -= -1\n",
    "result"
   ]
  },
  {
   "cell_type": "code",
   "execution_count": null,
   "metadata": {},
   "outputs": [],
   "source": [
    "#Factorial of 1318\n",
    "idx = 1318\n",
    "result = 1 \n",
    "while idx > 0:\n",
    "    result *= idx\n",
    "    idx -= -1\n",
    "result"
   ]
  },
  {
   "cell_type": "code",
   "execution_count": null,
   "metadata": {},
   "outputs": [],
   "source": [
    "#All integers between 0 and 1318 that are multiples of 13 or 18\n",
    "result = []\n",
    "for idx in range(1319):\n",
    "    if(idx%13 == 0 or idx%18 == 0):\n",
    "        result.append(idx)\n",
    "result"
   ]
  },
  {
   "cell_type": "code",
   "execution_count": null,
   "metadata": {},
   "outputs": [],
   "source": [
    "#Use a for loop and range() to reverse the letters in \"Issaquah Robotics Society\"\n",
    "\n",
    "irs_str = 'Issaquah Robotics Society'\n",
    "result = ''\n",
    "for idx in range(len(irs_str) -1, -1, -1):\n",
    "    result += irs_str[idx]\n",
    "result"
   ]
  },
  {
   "cell_type": "code",
   "execution_count": null,
   "metadata": {},
   "outputs": [],
   "source": [
    "#Use a for loop to print out all the numbers between 0 and 100, except for numbers that are multiples of 9 \n",
    "\n",
    "for i in range(0,101):\n",
    "    if (i % 9 == 0):\n",
    "        continue\n",
    "    print(i, end = ', ')"
   ]
  }
 ],
 "metadata": {
  "kernelspec": {
   "display_name": "Python 3",
   "language": "python",
   "name": "python3"
  },
  "language_info": {
   "codemirror_mode": {
    "name": "ipython",
    "version": 3
   },
   "file_extension": ".py",
   "mimetype": "text/x-python",
   "name": "python",
   "nbconvert_exporter": "python",
   "pygments_lexer": "ipython3",
   "version": "3.7.6"
  }
 },
 "nbformat": 4,
 "nbformat_minor": 2
}
