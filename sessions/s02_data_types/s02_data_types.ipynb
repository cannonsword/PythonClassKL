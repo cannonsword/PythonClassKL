{
 "cells": [
  {
   "cell_type": "markdown",
   "metadata": {},
   "source": [
    "[Table of Contents](../../index.ipynb)"
   ]
  },
  {
   "cell_type": "markdown",
   "metadata": {},
   "source": [
    "# FRC Analytics with Python - Session 02\n",
    "# Data Types Part I\n",
    "**Last Updated: 3 May 2020**\n",
    "\n",
    "In session 01 we used Python to manipulate numbers and strings (i.e., text). Python can manipulate many other kinds of data as well. But there is an important concept we must understand before we move on: the *data type*."
   ]
  },
  {
   "cell_type": "markdown",
   "metadata": {},
   "source": [
    "## I. Some Advice\n",
    "![Why does it work?](images/why_it_works_cartoon.png)\n",
    "\n",
    "It is at least as important to understand *why code works* as it is important to understand why it doesn't work. Spend some time thinking about the examples and exercises and why they work. Experiment by making modifications to the code. When it comes to code, every character, every symbol, and even many of the blank spaces are there for a reason.\n",
    "\n",
    "Some things can be best explained by flipping the logic. What if you didn't care if you ever used Python to do anything useful? Here are a few ways to ensure that this course is a waste of time.\n",
    "\n",
    "1. Don't establish a routine for learning Python. Make sure at least two weeks elapse between sessions, so you can forget all of the old material before attempting anything new.\n",
    "2. Comprehension is overrated - go ahead and speed read the reading assignments.\n",
    "3. If the code works, don't ask yourself why it worked this time and didn't work last time. Just move on.\n",
    "4. Use copy and paste as much as you can. Don't practice the details of syntax by typing code by hand.\n",
    "5. Immediately look up the answer to an exercise if the solution is not obvious.\n",
    "6. Avoid reading official documentation like the plague.\n",
    "7. Don't ever look at anyone else's code to see how they approached a problem.\n",
    "8. Don't talk about concepts or exercises with other students or mentors. Assume you are on your own if you get stuck.\n",
    "9. Don't try anything that's not mentioned in this course. Assume your computer will burst into flames if you do.\n",
    "10. Don't be curious and never ask why."
   ]
  },
  {
   "cell_type": "markdown",
   "metadata": {},
   "source": [
    "## II. More Jupyter Notebook Tips\n",
    "![Jupyter Tips Slide](images/jupyter_slide.png)"
   ]
  },
  {
   "cell_type": "markdown",
   "metadata": {},
   "source": [
    "## III. A Note on Functions\n",
    "Remember how in session 01 we used `print()` to make Python display things, and we used `round()` to round decimal numbers to an integer? How about `len()` for finding out how many characters are in a string? These items are functions. Functions often (but not always) return a value or complete some sort of action.\n",
    "\n",
    "We pass data to the function by placing the data in the parenthesis that follow the function name. The values that we pass to functions inside the parenthesis are called arguments."
   ]
  },
  {
   "cell_type": "markdown",
   "metadata": {},
   "source": [
    "## IV. Basic Data Types and the `type()` Function\n",
    "It's time to add a new function to our repetoire: `type()`."
   ]
  },
  {
   "cell_type": "code",
   "execution_count": null,
   "metadata": {},
   "outputs": [],
   "source": [
    "# What happens if we pass an integer to type()?\n",
    "type(5)"
   ]
  },
  {
   "cell_type": "code",
   "execution_count": null,
   "metadata": {},
   "outputs": [],
   "source": [
    "# What if we pass a different integer?\n",
    "type(-247)"
   ]
  },
  {
   "cell_type": "markdown",
   "metadata": {},
   "source": [
    "### A. Integers\n",
    "\n",
    "The `type()` function determines the data type of whatever value is placed in the parenthesis. For integers like 5 or -247, `type()` tells us that the value's data type is *int*, which is short for integer. Python integers can be positive or negative, and one of the great things about Python is that integers can be arbitrarily large. Their size is limited only by the amount of memory in your computer. I'll prove it. Run the next cell."
   ]
  },
  {
   "cell_type": "code",
   "execution_count": null,
   "metadata": {},
   "outputs": [],
   "source": [
    "365**365"
   ]
  },
  {
   "cell_type": "markdown",
   "metadata": {},
   "source": [
    "Ha! Try that in *Excel*! Unless the answer to the problem you are trying to solve is *#NUM!*, you will be dissapointed.\n",
    "\n",
    "The `type()` function determines the data type of whatever value is placed in the parenthesis. For integers like 5 or -247, `type()` tells us that the value's data type is *int*, which is short for integer. Python integers can be positive or negative, and one of the great things about Python is that integers can be arbitrarily large. I'll prove it. Run the next cell.\n",
    "\n",
    "### B. Floats\n",
    "What happens if we pass a real number with digits to the right of the decimal point?"
   ]
  },
  {
   "cell_type": "code",
   "execution_count": null,
   "metadata": {},
   "outputs": [],
   "source": [
    "# How about a number with digits to the right of the decimal point?\n",
    "type(6.0221409)"
   ]
  },
  {
   "cell_type": "markdown",
   "metadata": {},
   "source": [
    "The data type *float* refers to *floating point arithmetic*, which is the mechanism computers use to represent non-integer real numbers in binary."
   ]
  },
  {
   "cell_type": "code",
   "execution_count": null,
   "metadata": {},
   "outputs": [],
   "source": [
    "# What data type is this?\n",
    "type(5.0)"
   ]
  },
  {
   "cell_type": "markdown",
   "metadata": {},
   "source": [
    "Python assumes that the `5.0` should be a float, even though it's equivalent to an integer from a mathematical perspective.\n",
    "\n",
    "Floats can be written in scientific notation>"
   ]
  },
  {
   "cell_type": "code",
   "execution_count": null,
   "metadata": {},
   "outputs": [],
   "source": [
    "G = 6.67408e-11\n",
    "h = 6.62607004E-34\n",
    "print(\"Gravity constant:\", G)\n",
    "print(\"Planck's constant:\", h)"
   ]
  },
  {
   "cell_type": "markdown",
   "metadata": {},
   "source": [
    "What happens if we mix data types in an equation?"
   ]
  },
  {
   "cell_type": "code",
   "execution_count": null,
   "metadata": {},
   "outputs": [],
   "source": [
    "# Add integer to a float\n",
    "int_5 = 5\n",
    "float_5 = 5.0\n",
    "\n",
    "print(int_5 + float_5)\n",
    "type(int_5 + float_5)"
   ]
  },
  {
   "cell_type": "markdown",
   "metadata": {},
   "source": [
    "Python has no trouble adding a float to an integer, but the result is a float. It makes sense if you think about it. The float could have a fractional part. If we added such a float to an integer and then converted the result to an integer, we would lose the fractional part of the sum. In general, Python will choose the data type that has greater precision. A float has more precision than an integer because it can include fracional values."
   ]
  },
  {
   "cell_type": "markdown",
   "metadata": {},
   "source": [
    "### C. Strings\n",
    "By now, you can likely guess what will happen if we pass a string to `type()`."
   ]
  },
  {
   "cell_type": "code",
   "execution_count": null,
   "metadata": {},
   "outputs": [],
   "source": [
    "# Sending text to type()\n",
    "type('Water Game')"
   ]
  },
  {
   "cell_type": "markdown",
   "metadata": {},
   "source": [
    "No big surprise - the data type for strings is *str*.\n",
    "\n",
    "What happens if we try to use a string in an equation?"
   ]
  },
  {
   "cell_type": "code",
   "execution_count": null,
   "metadata": {},
   "outputs": [],
   "source": [
    "# Add integer to a string\n",
    "int_6 = 6\n",
    "str_6 = '6'\n",
    "\n",
    "print(int_6 + str_6)\n",
    "type(int_y + str_6)"
   ]
  },
  {
   "cell_type": "markdown",
   "metadata": {},
   "source": [
    "Whoa. Python didn't like that at all. The `+` operation is not defined for an integer and a string. There is a good reason. In this example our string represents a number. But a string could also be a word. What does `6 + robot` even mean?\n",
    "\n",
    "It's for the best if Python just throw a type error. If you are trying to add 6 and '6', you are probably doing something you shouldn't be doing."
   ]
  },
  {
   "cell_type": "markdown",
   "metadata": {},
   "source": [
    "## V. Type Conversions\n",
    "Each of these data types has its own built in function.\n",
    "* `int()`\n",
    "* `float()`\n",
    "* `str()`\n",
    "\n",
    "We will start with `int()`."
   ]
  },
  {
   "cell_type": "code",
   "execution_count": null,
   "metadata": {},
   "outputs": [],
   "source": [
    "# Converting a float to an integer\n",
    "floatvar = 7.5\n",
    "print(float_7, ':', type(float_7))\n",
    "newvar = int(floatvar)\n",
    "print(newvar, ':', type(newvar))"
   ]
  },
  {
   "cell_type": "markdown",
   "metadata": {},
   "source": [
    "The `int()` function converts whatever is passed to it to an integer. Remember when we caused an error in the last session by trying to add an integer and a string? The `int()` function will let us do that, but with some limitations."
   ]
  },
  {
   "cell_type": "code",
   "execution_count": null,
   "metadata": {},
   "outputs": [],
   "source": [
    "# Adding an integer and a string.\n",
    "13 + int('18')"
   ]
  },
  {
   "cell_type": "markdown",
   "metadata": {},
   "source": [
    "If we pass the string `'18'` to `int()` then the addition proceeds just fine. The caveat is the string has to represent an integer, otherwise `int()` will throw an error."
   ]
  },
  {
   "cell_type": "code",
   "execution_count": null,
   "metadata": {},
   "outputs": [],
   "source": [
    "# Attempting to convert a string with non-digit characters causes a Value Error\n",
    "int('18b')"
   ]
  },
  {
   "cell_type": "code",
   "execution_count": null,
   "metadata": {},
   "outputs": [],
   "source": [
    "# Attempting to convert a number that is not an integer causes a Value Error\n",
    "int('3.14')"
   ]
  },
  {
   "cell_type": "code",
   "execution_count": null,
   "metadata": {},
   "outputs": [],
   "source": [
    "# Use float to convert non-integer numbers\n",
    "5.5 + float('7.5')"
   ]
  },
  {
   "cell_type": "markdown",
   "metadata": {},
   "source": [
    "Read the following line of code before you run it. What will it do? Then run the code to find out."
   ]
  },
  {
   "cell_type": "code",
   "execution_count": null,
   "metadata": {},
   "outputs": [],
   "source": [
    "# Read this and predict the result before you run it.\n",
    "str(13) + '18'"
   ]
  },
  {
   "cell_type": "markdown",
   "metadata": {},
   "source": [
    "1. The `str()` function converted the integer `13` to a string.\n",
    "2. The `+` operator works just fine on two strings. But instead of performing mathematical addition, it performs *string concatenation*, which is a fancy way of saying it joins the two strings together."
   ]
  },
  {
   "cell_type": "markdown",
   "metadata": {},
   "source": [
    "## VI. Objects and Methods\n",
    "Consider the following code cell."
   ]
  },
  {
   "cell_type": "code",
   "execution_count": null,
   "metadata": {},
   "outputs": [],
   "source": [
    "# Method Example\n",
    "str1 = 'this text is upper case.'\n",
    "str1.upper()"
   ]
  },
  {
   "cell_type": "markdown",
   "metadata": {},
   "source": [
    "We appear to have converted the text in the *str1* variable to upper case. We used something that looks like a function `upper()` to do the conversion, but we used it differently than we use other functions. For example, if we want to know the length of a string, we just type the function name `len`, add some parentheses to it, and put the string variable inside the parenthesis, like so:"
   ]
  },
  {
   "cell_type": "code",
   "execution_count": null,
   "metadata": {},
   "outputs": [],
   "source": [
    "# Get the length of a sting\n",
    "len(str1)"
   ]
  },
  {
   "cell_type": "markdown",
   "metadata": {},
   "source": [
    "So why don't we convert *str1* to upper case like this?\n",
    "```Python\n",
    "upper(str1)\n",
    "```\n",
    "\n",
    "First of all, trying to convert an integer or float to upper case makes no sense. Converting a variable to upper case only makes sense if the variable is a string. The designers of Python wanted `upper()` to only apply to strings, so they designed `upper()` as a method, not a function. Methods are different because they must be called on objects. In the case of the `upper()` method, we must have a string object before we can call it.\n",
    "\n",
    "We will now take a short break from discussing methods so we can discuss objects. What's an object? Everything! Integers are objects. Strings are objects. Everything that can be assigned to a variable is an object. The concept of an object is different than the concept of a data type. Consider the following code cell:"
   ]
  },
  {
   "cell_type": "code",
   "execution_count": null,
   "metadata": {},
   "outputs": [],
   "source": [
    "# Objects have unique IDs\n",
    "var1 = 1318\n",
    "var2 = 1318\n",
    "print(id(var1))\n",
    "print(id(var2))"
   ]
  },
  {
   "cell_type": "markdown",
   "metadata": {},
   "source": [
    "Every object in Python is assigned a unique identification (ID) number. As an analyst, you will rarely, if ever, need to work with Python's object ID numbers. But Python provides a built-in `id()` function that will return the ID number, in case you want to see it. Now consider the code above. We created two variables, each holding the same integer value. But we got two different ID values when we passed them to `id()`. This means Python created two different copies of *1318* in memory. \n",
    "* *var1* and *var2* are the same data type: int\n",
    "* *var1* and *var2* have the same value: 1318\n",
    "* But *var1* and *var2* are different objects, as indicated by the two different ID values.\n",
    "\n",
    "Now back to methods. They key point is that we can't call a method without an object. We can call a function like `print()` all day long without an object (calling `print()` without parameters displays a blank line). But methods are different.\n",
    "\n",
    "When we called `upper()`, we called it on a string object. In terms of syntax, we typed the string variable name, *str1*, typed a period, and then typed `upper()`. The `upper()` method converted it's object, *str1*, to upper case.\n",
    "\n",
    "We can call methods on objects even if we haven't assigned them to a variable. See the next cell."
   ]
  },
  {
   "cell_type": "code",
   "execution_count": null,
   "metadata": {},
   "outputs": [],
   "source": [
    "# Calling methods on literal values\n",
    "\"robot\".upper()"
   ]
  },
  {
   "cell_type": "markdown",
   "metadata": {},
   "source": [
    "See below for more methods that can be called on strings. [The full list of string methods is in the Python documentation.](https://docs.python.org/3/library/stdtypes.html#text-sequence-type-str)"
   ]
  },
  {
   "cell_type": "code",
   "execution_count": null,
   "metadata": {},
   "outputs": [],
   "source": [
    "# Convert to lower case\n",
    "\"DON'T SHOUT\".lower()"
   ]
  },
  {
   "cell_type": "code",
   "execution_count": null,
   "metadata": {},
   "outputs": [],
   "source": [
    "# Check that string only contains digits\n",
    "\"2003\".isdigit()"
   ]
  },
  {
   "cell_type": "code",
   "execution_count": null,
   "metadata": {},
   "outputs": [],
   "source": [
    "# Check that string is upper case\n",
    "str2 = \"DOH!\"\n",
    "str2.isupper()"
   ]
  },
  {
   "cell_type": "markdown",
   "metadata": {},
   "source": [
    "## VII. Lists - Our First Composite Data Type\n",
    "Finally, work through [section 3.1.3 on Python lists](https://docs.python.org/3/tutorial/introduction.html#lists). A list is a sequence of many objects, such as integers, strings, other lists, or more complex objects that we haven't learned anything about yet. Try out some of list examples from the tutorial in the cell below."
   ]
  },
  {
   "cell_type": "code",
   "execution_count": null,
   "metadata": {},
   "outputs": [],
   "source": [
    "# List Tutorial Examples\n",
    "\n"
   ]
  },
  {
   "cell_type": "markdown",
   "metadata": {},
   "source": [
    "Run the cell below to define the list `seasons`. Use `seasons` for the next two exercises."
   ]
  },
  {
   "cell_type": "code",
   "execution_count": null,
   "metadata": {},
   "outputs": [],
   "source": [
    "seasons = [\"Logo Motion\", \"Rebound Rumble\", \"Ultimate Ascent\", \"Aerial Assist\", \"Recycle Rush\",\n",
    "\"FIRST Stronghold\", \"FIRST Steamworks\", \"FIRST Power Up\", \"Destination: Deep Space\",\n",
    "\"Infinite Recharge\"]"
   ]
  },
  {
   "cell_type": "markdown",
   "metadata": {},
   "source": [
    "**Ex #1**. Use list indexing to display the four most recent seasons."
   ]
  },
  {
   "cell_type": "code",
   "execution_count": null,
   "metadata": {},
   "outputs": [],
   "source": [
    "# Ex 1:\n"
   ]
  },
  {
   "cell_type": "markdown",
   "metadata": {},
   "source": [
    "**Ex #2.** Use list indexing to display every other season, starting with \"Rebound Rumble\"."
   ]
  },
  {
   "cell_type": "code",
   "execution_count": null,
   "metadata": {},
   "outputs": [],
   "source": [
    "# Ex 2:\n"
   ]
  },
  {
   "cell_type": "markdown",
   "metadata": {},
   "source": [
    "Run the cell below to define the nested list. Used `nested` for the next two exercises."
   ]
  },
  {
   "cell_type": "code",
   "execution_count": null,
   "metadata": {},
   "outputs": [],
   "source": [
    "nested = [[1, 2, 3], [4, 5, 6], ['a', 'b', 'c']]"
   ]
  },
  {
   "cell_type": "markdown",
   "metadata": {},
   "source": [
    "**Ex #3.** Use indexing to access the 1st element of the third list (the 'a')."
   ]
  },
  {
   "cell_type": "code",
   "execution_count": null,
   "metadata": {},
   "outputs": [],
   "source": [
    "# Ex 3:"
   ]
  },
  {
   "cell_type": "markdown",
   "metadata": {},
   "source": [
    "**Ex #4.** Use the `len()` function to determine the length of `nested`. What value is returned? Does it make sense? Why?"
   ]
  },
  {
   "cell_type": "code",
   "execution_count": null,
   "metadata": {},
   "outputs": [],
   "source": [
    "# Ex 4:"
   ]
  },
  {
   "cell_type": "markdown",
   "metadata": {},
   "source": [
    "**Ex #5.** What happens if you add the two lists (`seasons` and `nested`) together?"
   ]
  },
  {
   "cell_type": "code",
   "execution_count": null,
   "metadata": {},
   "outputs": [],
   "source": [
    "# Ex 5: What does seasons + nested return?"
   ]
  },
  {
   "cell_type": "markdown",
   "metadata": {},
   "source": [
    "**Ex #6.** Use the `append()` method to add the next number in the series to the list."
   ]
  },
  {
   "cell_type": "code",
   "execution_count": null,
   "metadata": {},
   "outputs": [],
   "source": [
    "series = [1, 4, 27, 256]"
   ]
  },
  {
   "cell_type": "code",
   "execution_count": null,
   "metadata": {},
   "outputs": [],
   "source": [
    "# Ex 6: Use append() method in this cell to add an element to series.\n"
   ]
  },
  {
   "cell_type": "markdown",
   "metadata": {},
   "source": [
    "## VIII. The `del` Keyword\n",
    "The Python `del` keyword can be used to delete items from a list. Work through [section 5.2 of the official Python tutorial on the `del` keyword](https://docs.python.org/3/tutorial/datastructures.html#the-del-statement)."
   ]
  },
  {
   "cell_type": "code",
   "execution_count": null,
   "metadata": {},
   "outputs": [],
   "source": [
    "# Practice with del keyword\n",
    "\n"
   ]
  },
  {
   "cell_type": "markdown",
   "metadata": {},
   "source": [
    "## IX. The `input()` Function\n",
    "Now that we know a bit about data types, we can learn about the input function. Run the next cell."
   ]
  },
  {
   "cell_type": "code",
   "execution_count": null,
   "metadata": {},
   "outputs": [],
   "source": [
    "# Run this cell to learn about the input function\n",
    "\n",
    "name = input(\"What is your name? \")\n",
    "print(\"Hello \", name, \". It's nice to meet you!\", sep=\"\")"
   ]
  },
  {
   "cell_type": "markdown",
   "metadata": {},
   "source": [
    "Similar to the `print()` function, the `input()` function displays whatever text is passed to it on the screen. It also displays a prompt and allows the user to type characters. As soon as the user presses ENTER, whatever text the user typed will be saved to the variable on the left side of the assignment statement (the equals sign).\n",
    "\n",
    "Now look at the code in the next cell but don't run it yet. Will the code work? Why or why not? Check your answer by running the code."
   ]
  },
  {
   "cell_type": "code",
   "execution_count": null,
   "metadata": {},
   "outputs": [],
   "source": [
    "# Will this work?\n",
    "num = input(\"Enter a number: \")\n",
    "print(\"The square of\", num, \"is\", num**2, \"!\")"
   ]
  },
  {
   "cell_type": "markdown",
   "metadata": {},
   "source": [
    "The code didn't work because `input()` always returns a string and Python doesn't know how to square a string (I don't either). We can make this code better with the `int()` function."
   ]
  },
  {
   "cell_type": "code",
   "execution_count": null,
   "metadata": {},
   "outputs": [],
   "source": [
    "# This should work.\n",
    "num = input(\"Enter a number: \")\n",
    "num = int(num)\n",
    "print(\"The square of\", num, \"is\", num**2, \"!\")"
   ]
  },
  {
   "cell_type": "markdown",
   "metadata": {},
   "source": [
    "Even this code will throw an error if the user enters text that is not an integer. We will learn how to check user input later on.\n",
    "\n",
    "[The official documentation for `input()` is here.](https://docs.python.org/3/library/functions.html#input)"
   ]
  },
  {
   "cell_type": "markdown",
   "metadata": {},
   "source": [
    "## X. More Exercises"
   ]
  },
  {
   "cell_type": "markdown",
   "metadata": {},
   "source": [
    "#### Ex #7. Tip Calculator\n",
    "\n",
    "Below, you can see the script we wrote to compute the tip for a meal.  Fix it so that it works correctly. Expect the input to be a **number.** Please format the output to 2 decimal places. [For a hint on rounding, check here.](https://docs.python.org/3/library/functions.html#round)"
   ]
  },
  {
   "cell_type": "code",
   "execution_count": null,
   "metadata": {},
   "outputs": [],
   "source": [
    "# Leave this cell alone.\n",
    "price = input(\"Enter the price of a meal: \")\n",
    "\n",
    "tip = price * 0.16\n",
    "total = price + tip\n",
    "\n",
    "print(\"A 16% tip would be:\", tip)\n",
    "print(\"The total including tip would be:\", total)"
   ]
  },
  {
   "cell_type": "code",
   "execution_count": null,
   "metadata": {},
   "outputs": [],
   "source": [
    "# Ex 7: Put the corrected code here:\n",
    "\n",
    "\n"
   ]
  },
  {
   "cell_type": "markdown",
   "metadata": {},
   "source": [
    "#### Ex #8. Gas Pump Informer.\n",
    "Write a script that prompts the user for a **number** of gallons of gasoline. Reprint that value, along with its conversion to other measurements:\n",
    "\n",
    "- Equivalent number of liters (format to 4 decimals)\n",
    "- Number of barrels of oil required to produce it (format to 3 decimals)\n",
    "- Price in U.S. dollars (format to 2 decimals)\n",
    "\n",
    "Figures to use:\n",
    "\n",
    "- 1 gallon is equivalent to 3.7854 liters.\n",
    "- 1 barrel of oil produces 19.5 gallons of gas.\n",
    "- The average price of gas is approximately $3.65 per gallon."
   ]
  },
  {
   "cell_type": "code",
   "execution_count": null,
   "metadata": {},
   "outputs": [],
   "source": [
    "# Ex 8:\n",
    "\n"
   ]
  },
  {
   "cell_type": "markdown",
   "metadata": {},
   "source": [
    "## XI. Save Your Work\n",
    "Once you have completed the exercises, go to the *File* menu above and select *Download As->HTML*. Download an HTML version of this page that shows the completed exercises. Provide this file to your course mentor per his or her instructions."
   ]
  },
  {
   "cell_type": "markdown",
   "metadata": {},
   "source": [
    "## XII. Concept and Terminology Review\n",
    "You should be able to define the following terms or drescribe the concept. Re-review this session if any of these are unfamiliar.\n",
    "* Data types\n",
    "* `type()` function\n",
    "* Integers\n",
    "* Floats\n",
    "* Strings\n",
    "* `int()` function\n",
    "* `float()` function\n",
    "* `str()` function\n",
    "* Object\n",
    "* Method\n",
    "* `upper()` string method\n",
    "* `lower()` string method\n",
    "* Lists\n",
    "* List indexing\n",
    "* List slicing\n",
    "* `append()` list method\n",
    "* `len()` function\n",
    "* Using `del` to remove an item from a list.\n",
    "* `round()` function\n",
    "* `input()` function"
   ]
  },
  {
   "cell_type": "markdown",
   "metadata": {},
   "source": [
    "## XIII. Data Type Humor\n",
    "\n",
    "### An integer walks up to a string and asks for its number.\n",
    "The string replies, \"Sorry, you're not my type.\"\n",
    "\n",
    "### Why can't integers swim?\n",
    "Because they can't float.\n",
    "\n",
    "### I tried to explain what integers are...\n",
    "It was pointless."
   ]
  },
  {
   "cell_type": "markdown",
   "metadata": {},
   "source": [
    "[Table of Contents](../../index.ipynb)"
   ]
  }
 ],
 "metadata": {
  "kernelspec": {
   "display_name": "Python 3",
   "language": "python",
   "name": "python3"
  },
  "language_info": {
   "codemirror_mode": {
    "name": "ipython",
    "version": 3
   },
   "file_extension": ".py",
   "mimetype": "text/x-python",
   "name": "python",
   "nbconvert_exporter": "python",
   "pygments_lexer": "ipython3",
   "version": "3.8.2"
  }
 },
 "nbformat": 4,
 "nbformat_minor": 4
}
