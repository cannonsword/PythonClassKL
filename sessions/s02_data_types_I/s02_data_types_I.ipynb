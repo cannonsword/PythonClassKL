{
 "cells": [
  {
   "cell_type": "markdown",
   "metadata": {},
   "source": [
    "[Table of Contents](../../index.ipynb)"
   ]
  },
  {
   "cell_type": "markdown",
   "metadata": {},
   "source": [
    "# FRC Analytics with Python - Session 02\n",
    "# Data Types Part I\n",
    "\n",
    "In session 01 we used Python to manipulate numbers and strings (i.e., text). Python can manipulate many other kinds of data as well. But there is an important concept we must understand before we move on: the *data type*."
   ]
  },
  {
   "cell_type": "markdown",
   "metadata": {},
   "source": [
    "## I. Basic Data Types and the `type()` Function\n",
    "Remember how in session 01 we used the `print()` function to make Python display things, and we used the `round()` function to round decimal numbers to an integer? How about the `len()` function for finding out how many characters are in a string?\n",
    "\n",
    "It's time to add a new funtion to our repetoire: `type()`."
   ]
  },
  {
   "cell_type": "code",
   "execution_count": null,
   "metadata": {},
   "outputs": [],
   "source": [
    "# What happens if we pass an integer to type()?\n",
    "type(5)"
   ]
  },
  {
   "cell_type": "code",
   "execution_count": null,
   "metadata": {},
   "outputs": [],
   "source": [
    "# What if we pass a different integer?\n",
    "type(-247)"
   ]
  },
  {
   "cell_type": "markdown",
   "metadata": {},
   "source": [
    "### A. Integers\n",
    "\n",
    "The `type()` function determines the data type of whatever value is placed in the parenthesis. For integers like 5 or -247, `type()` tells us that the value's data type is *int*, which is short for integer. Python integers can be positive or negative, and one of the great things about Python is that integers can be arbitrarily large. Their size is limited only by the amount of memory in your computer. I'll prove it. Run the next cell."
   ]
  },
  {
   "cell_type": "code",
   "execution_count": null,
   "metadata": {},
   "outputs": [],
   "source": [
    "365**365"
   ]
  },
  {
   "cell_type": "markdown",
   "metadata": {},
   "source": [
    "Ha! Try that in *Excel*! Unless the answer to the problem you are trying to solve is *#NUM!*, you will be dissapointed.\n",
    "\n",
    "The `type()` function determines the data type of whatever value is placed in the parenthesis. For integers like 5 or -247, `type()` tells us that the value's data type is *int*, which is short for integer. Python integers can be positive or negative, and one of the great things about Python is that integers can be arbitrarily large. I'll prove it. Run the next cell.\n",
    "\n",
    "### B. Floats\n",
    "What happens if we pass a real number with digits to the right of the decimal point?"
   ]
  },
  {
   "cell_type": "code",
   "execution_count": null,
   "metadata": {},
   "outputs": [],
   "source": [
    "# How about a number with digits to the right of the decimal point?\n",
    "type(6.0221409)"
   ]
  },
  {
   "cell_type": "markdown",
   "metadata": {},
   "source": [
    "The data type *float* refers to *floating point arithmetic*, which is the mechanism computers use to represent non-integer real numbers in binary."
   ]
  },
  {
   "cell_type": "code",
   "execution_count": null,
   "metadata": {},
   "outputs": [],
   "source": [
    "# What data type is this?\n",
    "type(5.0)"
   ]
  },
  {
   "cell_type": "markdown",
   "metadata": {},
   "source": [
    "Python assumes that the `5.0` should be a float, even though it's equivalent to an integer from a mathematical perspective.\n",
    "\n",
    "Floats can be written in scientific notation>"
   ]
  },
  {
   "cell_type": "code",
   "execution_count": null,
   "metadata": {},
   "outputs": [],
   "source": [
    "G = 6.67408e-11\n",
    "h = 6.62607004E-34\n",
    "print(\"Gravity constant:\", G)\n",
    "print(\"Planck's constant:\", h)"
   ]
  },
  {
   "cell_type": "markdown",
   "metadata": {},
   "source": [
    "What happens if we mix data types in an equation?"
   ]
  },
  {
   "cell_type": "code",
   "execution_count": null,
   "metadata": {},
   "outputs": [],
   "source": [
    "# Add integer to a float\n",
    "int_5 = 5\n",
    "float_5 = 5.0\n",
    "\n",
    "print(int_5 + float_5)\n",
    "type(int_5 + float_5)"
   ]
  },
  {
   "cell_type": "markdown",
   "metadata": {},
   "source": [
    "Python has no trouble adding a float to an integer, but the result is a float. It makes sense if you think about it. The float could have a fractional part. If we added such a float to an integer and then converted the result to an integer, we would lose the fractional part of the sum. In general, Python will choose the data type that has greater precision. A float has more precision than an integer because it can include fracional values."
   ]
  },
  {
   "cell_type": "markdown",
   "metadata": {},
   "source": [
    "### C. Strings\n",
    "By now, you can likely guess what will happen if we pass a string to `type()`."
   ]
  },
  {
   "cell_type": "code",
   "execution_count": null,
   "metadata": {},
   "outputs": [],
   "source": [
    "# Sending text to type()\n",
    "type('Water Game')"
   ]
  },
  {
   "cell_type": "markdown",
   "metadata": {},
   "source": [
    "No big surprise - the data type for strings is *str*.\n",
    "\n",
    "What happens if we try to use a string in an equation?"
   ]
  },
  {
   "cell_type": "code",
   "execution_count": null,
   "metadata": {},
   "outputs": [],
   "source": [
    "# Add integer to a string\n",
    "int_6 = 6\n",
    "str_6 = '6'\n",
    "\n",
    "print(int_6 + str_6)\n",
    "type(int_y + str_6)"
   ]
  },
  {
   "cell_type": "markdown",
   "metadata": {},
   "source": [
    "Whoa. Python didn't like that at all. The `+` operation is not defined for an integer and a string. There is a good reason. In this example our string represents a number. But a string could also be a word. What does `6 + robot` even mean?\n",
    "\n",
    "It's for the best if Python just throw a type error. If you are trying to add 6 and '6', you are probably doing something you shouldn't be doing."
   ]
  },
  {
   "cell_type": "markdown",
   "metadata": {},
   "source": [
    "## II. Type Conversions\n",
    "Each of these data types has its own built in function.\n",
    "* `int()`\n",
    "* `float()`\n",
    "* `str()`\n",
    "\n",
    "We will start with `int()`."
   ]
  },
  {
   "cell_type": "code",
   "execution_count": null,
   "metadata": {},
   "outputs": [],
   "source": [
    "# Converting a float to an integer\n",
    "floatvar = 7.5\n",
    "print(float_7, ':', type(float_7))\n",
    "newvar = int(floatvar)\n",
    "print(newvar, ':', type(newvar))"
   ]
  },
  {
   "cell_type": "markdown",
   "metadata": {},
   "source": [
    "The `int()` function converts whatever is passed to it to an integer. Remember when we caused an error in the last session by trying to add an integer and a string? The `int()` function will let us do that, but with some limitations."
   ]
  },
  {
   "cell_type": "code",
   "execution_count": null,
   "metadata": {},
   "outputs": [],
   "source": [
    "# Adding an integer and a string.\n",
    "13 + int('18')"
   ]
  },
  {
   "cell_type": "markdown",
   "metadata": {},
   "source": [
    "If we pass the string `'18'` to `int()` then the addition proceeds just fine. The caveat is the string has to represent an integer, otherwise `int()` will throw an error."
   ]
  },
  {
   "cell_type": "code",
   "execution_count": null,
   "metadata": {},
   "outputs": [],
   "source": [
    "# Attempting to convert a string with non-digit characters causes a Value Error\n",
    "int('18b')"
   ]
  },
  {
   "cell_type": "code",
   "execution_count": null,
   "metadata": {},
   "outputs": [],
   "source": [
    "# Attempting to convert a number that is not an integer causes a Value Error\n",
    "int('3.14')"
   ]
  },
  {
   "cell_type": "code",
   "execution_count": null,
   "metadata": {},
   "outputs": [],
   "source": [
    "# Use float to convert non-integer numbers\n",
    "5.5 + float('7.5')"
   ]
  },
  {
   "cell_type": "markdown",
   "metadata": {},
   "source": [
    "Read the following line of code before you run it. What will it do? Then run the code to find out."
   ]
  },
  {
   "cell_type": "code",
   "execution_count": null,
   "metadata": {},
   "outputs": [],
   "source": [
    "# Read this and predict the result before you run it.\n",
    "str(13) + '18'"
   ]
  },
  {
   "cell_type": "markdown",
   "metadata": {},
   "source": [
    "1. The `str()` function converted the integer `13` to a string.\n",
    "2. The `+` operator works just fine on two strings. But instead of performing mathematical addition, it performs *string concatenation*, which is a fancy way of saying it joins the two strings together."
   ]
  },
  {
   "cell_type": "markdown",
   "metadata": {},
   "source": [
    "### 3. Lists\n",
    "Finally, work through [section 3.1.3 on Python lists](https://docs.python.org/3/tutorial/introduction.html#lists). A list is a sequence of many objects, such as integers, strings, other lists, or more complex objects that we haven't learned anything about yet. Try out some of list examples from the tutorial in the cell below."
   ]
  },
  {
   "cell_type": "code",
   "execution_count": null,
   "metadata": {},
   "outputs": [],
   "source": [
    "# List Tutorial Examples"
   ]
  },
  {
   "cell_type": "markdown",
   "metadata": {},
   "source": [
    "Run the cell below to define the list `seasons`. Use `seasons` for the next two exercises."
   ]
  },
  {
   "cell_type": "code",
   "execution_count": null,
   "metadata": {},
   "outputs": [],
   "source": [
    "seasons = [\"Logo Motion\", \"Rebound Rumble\", \"Ultimate Ascent\", \"Aerial Assist\", \"Recycle Rush\",\n",
    "\"FIRST Stronghold\", \"FIRST Steamworks\", \"FIRST Power Up\", \"Destination: Deep Space\",\n",
    "\"Infinite Recharge\"]"
   ]
  },
  {
   "cell_type": "markdown",
   "metadata": {},
   "source": [
    "**Ex #9**. Use list indexing to display the four most recent seasons."
   ]
  },
  {
   "cell_type": "code",
   "execution_count": null,
   "metadata": {},
   "outputs": [],
   "source": [
    "# Ex 9\n"
   ]
  },
  {
   "cell_type": "markdown",
   "metadata": {},
   "source": [
    "**Ex #10.** Use list indexing to display every other season, starting with \"Rebound Rumble\"."
   ]
  },
  {
   "cell_type": "code",
   "execution_count": null,
   "metadata": {},
   "outputs": [],
   "source": [
    "# Ex 10\n"
   ]
  },
  {
   "cell_type": "markdown",
   "metadata": {},
   "source": [
    "Run the cell below to define the nested list. Used `nested` for the next two exercises."
   ]
  },
  {
   "cell_type": "code",
   "execution_count": null,
   "metadata": {},
   "outputs": [],
   "source": [
    "nested = [[1, 2, 3], [4, 5, 6], ['a', 'b', 'c']]"
   ]
  },
  {
   "cell_type": "markdown",
   "metadata": {},
   "source": [
    "**Ex #11.** Use indexing to access the 1st element of the third list (the 'a')."
   ]
  },
  {
   "cell_type": "code",
   "execution_count": null,
   "metadata": {},
   "outputs": [],
   "source": [
    "# Ex 11"
   ]
  },
  {
   "cell_type": "markdown",
   "metadata": {},
   "source": [
    "**Ex #12.** Use the `len()` function to determine the length of `nested`. What value is returned? Does it make sense? Why?"
   ]
  },
  {
   "cell_type": "code",
   "execution_count": null,
   "metadata": {},
   "outputs": [],
   "source": [
    "# Ex 12"
   ]
  },
  {
   "cell_type": "markdown",
   "metadata": {},
   "source": [
    "**Ex #13.** What happens if you add the two lists (`seasons` and `nested`) together?"
   ]
  },
  {
   "cell_type": "code",
   "execution_count": null,
   "metadata": {},
   "outputs": [],
   "source": [
    "# Ex 13: What does seasons + nested return?"
   ]
  },
  {
   "cell_type": "markdown",
   "metadata": {},
   "source": [
    "**Ex #14.** Use the `append()` method to add the next number in the series to the list."
   ]
  },
  {
   "cell_type": "code",
   "execution_count": null,
   "metadata": {},
   "outputs": [],
   "source": [
    "series = [1, 4, 27, 256]"
   ]
  },
  {
   "cell_type": "code",
   "execution_count": null,
   "metadata": {},
   "outputs": [],
   "source": [
    "# Ex 14: Use append() function in this cell to add an element to series."
   ]
  },
  {
   "cell_type": "markdown",
   "metadata": {},
   "source": [
    "### 4. More Exercises"
   ]
  },
  {
   "cell_type": "markdown",
   "metadata": {},
   "source": [
    "**Ex. #15.** How many robots are in an FRC match? Create a variable to hold that number."
   ]
  },
  {
   "cell_type": "code",
   "execution_count": null,
   "metadata": {},
   "outputs": [],
   "source": [
    "# Ex 15"
   ]
  },
  {
   "cell_type": "markdown",
   "metadata": {},
   "source": [
    "**Ex. #16.** If there are 37 teams at an FRC competition, and every team plays 12 qualification matches, how many qualification matches will there be at the competition? Assign the result to a variable and display the result."
   ]
  },
  {
   "cell_type": "code",
   "execution_count": null,
   "metadata": {},
   "outputs": [],
   "source": [
    "# Ex 16\n"
   ]
  },
  {
   "cell_type": "markdown",
   "metadata": {},
   "source": [
    "**Ex. #17.** The sum of the weight of all 37 robots is 4,579 pounds. What is the average robot weight?"
   ]
  },
  {
   "cell_type": "code",
   "execution_count": null,
   "metadata": {},
   "outputs": [],
   "source": [
    "# Ex 17"
   ]
  },
  {
   "cell_type": "markdown",
   "metadata": {},
   "source": [
    "**Ex. #18.** How would you calculate the average weight rounded down to the\n",
    "nearest integer?"
   ]
  },
  {
   "cell_type": "code",
   "execution_count": null,
   "metadata": {},
   "outputs": [],
   "source": [
    "# Ex 18"
   ]
  },
  {
   "cell_type": "markdown",
   "metadata": {},
   "source": [
    "**Ex. #19.** Use the `round()` function to calculate the average weight calculated to the nearest integer (up or down)."
   ]
  },
  {
   "cell_type": "code",
   "execution_count": null,
   "metadata": {},
   "outputs": [],
   "source": [
    "# Ex 19"
   ]
  },
  {
   "cell_type": "markdown",
   "metadata": {},
   "source": [
    "**Ex. #20.** For our competition with 37 teams, calculate how many possible permutations of robots can be on the alliance? Don't ignore station assignment. For example, {1318: station 1, 2976: station 2: 4131: station 3} and {4131: station 1, 1318: station 2, 2976: station 3} are two different permutations.\n",
    "\n",
    "Checkout https://www.mathsisfun.com/combinatorics/combinations-permutations.html if you are not sure about the math."
   ]
  },
  {
   "cell_type": "code",
   "execution_count": null,
   "metadata": {},
   "outputs": [],
   "source": [
    "# Ex 20"
   ]
  },
  {
   "cell_type": "markdown",
   "metadata": {},
   "source": [
    "**Ex. #21.** Now calculate the number of alliance combinations for a 37-team competition, where station assignments don't matter."
   ]
  },
  {
   "cell_type": "code",
   "execution_count": null,
   "metadata": {},
   "outputs": [],
   "source": [
    "# Ex 21"
   ]
  },
  {
   "cell_type": "markdown",
   "metadata": {},
   "source": [
    "**Ex. #22.** Use string concatenation to assemble the quote from Dean Kamen and display it in the correct order."
   ]
  },
  {
   "cell_type": "code",
   "execution_count": null,
   "metadata": {},
   "outputs": [],
   "source": [
    "# Ex 22: Assemble the quote\n",
    "\n",
    "w1 = 'fail at the'\n",
    "w2 = 'you might'\n",
    "w3 = \"If you're\"\n",
    "w4 = 'big ones.'\n",
    "w5 = 'going to'\n",
    "w6 = 'as well'\n",
    "w8 = 'fail,'"
   ]
  },
  {
   "cell_type": "markdown",
   "metadata": {},
   "source": [
    "**Ex. #23.** Use string slicing and concatenation to put the words below in the correct order (don't forget the space)."
   ]
  },
  {
   "cell_type": "code",
   "execution_count": null,
   "metadata": {},
   "outputs": [],
   "source": [
    "# Ex 23\n",
    "pg = \"Professionalism Gracious\" # Leave this line alone\n",
    "\n"
   ]
  },
  {
   "cell_type": "code",
   "execution_count": null,
   "metadata": {},
   "outputs": [],
   "source": []
  }
 ],
 "metadata": {
  "kernelspec": {
   "display_name": "Python 3",
   "language": "python",
   "name": "python3"
  },
  "language_info": {
   "codemirror_mode": {
    "name": "ipython",
    "version": 3
   },
   "file_extension": ".py",
   "mimetype": "text/x-python",
   "name": "python",
   "nbconvert_exporter": "python",
   "pygments_lexer": "ipython3",
   "version": "3.7.6"
  }
 },
 "nbformat": 4,
 "nbformat_minor": 4
}
