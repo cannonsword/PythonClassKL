{
 "cells": [
  {
   "cell_type": "markdown",
   "metadata": {},
   "source": [
    "[Table of Contents](../../index.ipynb)"
   ]
  },
  {
   "cell_type": "markdown",
   "metadata": {},
   "source": [
    "# FRC Analytics with Python - Session 02\n",
    "# Control Statements"
   ]
  },
  {
   "cell_type": "markdown",
   "metadata": {},
   "source": [
    "## I. Some Advice\n",
    "![Why does it work?](images/why_it_works_cartoon.png)\n",
    "\n",
    "It is at least as important to understand *why code works* as it is important to understand why it doesn't work. Spend some time thinking about the examples and exercises and why they work. Experiment by making modifications to the code. When it comes to code, every character, every symbol, and even many of the blank spaces are there for a reason.\n",
    "\n",
    "Some things can be best explained by flipping the logic. What if you didn't care if you ever used Python to do anything useful? Here are a few ways to ensure that this course is a waste of time.\n",
    "\n",
    "1. Don't establish a routine for learning Python. Make sure at least two weeks elapse between sessions, so you can forget all of the old material before attempting anything new.\n",
    "2. Comprehension is overrated - go ahead and speed read the reading assignments.\n",
    "3. If the code works, don't ask yourself why it worked this time and didn't work last time. Just move on.\n",
    "4. Use copy and paste as much as you can. Don't practice the details of syntax by typing code by hand.\n",
    "5. Immediately look up the answer to an exercise if the solution is not obvious.\n",
    "6. Avoid reading official documentation like the plague.\n",
    "7. Don't ever look at anyone else's code to see how they approached a problem.\n",
    "8. Don't talk about concepts or exercises with other students or mentors. Assume you are on your own if you get stuck.\n",
    "9. Don't try anything that's not mentioned in this course. Assume your computer will burst into flames if you do.\n",
    "10. Don't be curious and never ask why."
   ]
  },
  {
   "cell_type": "markdown",
   "metadata": {},
   "source": [
    "## II. Jupyer Notebook Tips\n",
    "![Jupyter Tips Slide](images/jupyter_slide.png)\n"
   ]
  },
  {
   "cell_type": "markdown",
   "metadata": {},
   "source": [
    "## III. Why do We Need Control Statements? \n",
    "Completing numerical calculations and extracting characters from text strings is all well and good. But programs that just execute the same sequence of statements every time are a bit boring. For a program to do anythng interesting, it needs to make decisions and execute different statements based on the situation.\n",
    "\n",
    "Control statements allow a program to respond differently in different situations. Fundamentally, a control statement determines whether other statements are executed.\n",
    "\n",
    "The most basic control statement is the `if` statement. Consider the following:\n",
    "\n",
    "```Python\n",
    "if num_cheetos_left == 0:\n",
    "    print('We need to buy more Cheetos!')\n",
    "```\n",
    "\n",
    "Another common control statement is the `while` statement, which continues to execute a block of statements until a condition is true.\n",
    "```Python\n",
    "while power_cells < 5:\n",
    "    pickup_power_cell():\n",
    "```           \n",
    "\n",
    "One of the great things about Python is that it is easy to read. Even though you are new to Python, you probably get the gist of both of these control statements."
   ]
  },
  {
   "cell_type": "markdown",
   "metadata": {},
   "source": [
    "## IV. Special Assignment Statements\n",
    "There are a couple topics we need to address before we cover control statements. The first is special assignment statements.\n",
    "\n",
    "We have already used the basic assignment operator: `=`. It causes the value on the right had side of the equals sign to be assigned to the variable on the left hand side of the equals sign."
   ]
  },
  {
   "cell_type": "code",
   "execution_count": null,
   "metadata": {},
   "outputs": [],
   "source": [
    "# Basic Assignment Statement\n",
    "var1 = 10\n",
    "var1"
   ]
  },
  {
   "cell_type": "markdown",
   "metadata": {},
   "source": [
    "Often in computer programming, we need to add or subtract a number to an already-existing variable. These actions are called *incrementing* and *decrementing.* We can increment with the basic assignment operator."
   ]
  },
  {
   "cell_type": "code",
   "execution_count": null,
   "metadata": {},
   "outputs": [],
   "source": [
    "# Increment var1 by 1\n",
    "var1 = var1 + 1\n",
    "var1"
   ]
  },
  {
   "cell_type": "code",
   "execution_count": null,
   "metadata": {},
   "outputs": [],
   "source": [
    "# Decrement var1 by 2\n",
    "var1 = var1 - 2\n",
    "var1"
   ]
  },
  {
   "cell_type": "markdown",
   "metadata": {},
   "source": [
    "Python provides special operators for incrementing and decrementing because these actions occur so frequently. The operators are `+=` and `-=`."
   ]
  },
  {
   "cell_type": "code",
   "execution_count": null,
   "metadata": {},
   "outputs": [],
   "source": [
    "# Increment Operator\n",
    "var2 = 20\n",
    "var2 += 1\n",
    "var2"
   ]
  },
  {
   "cell_type": "code",
   "execution_count": null,
   "metadata": {},
   "outputs": [],
   "source": [
    "# Decrement Operator\n",
    "var2 = 15\n",
    "var2 -= 5\n",
    "var2"
   ]
  },
  {
   "cell_type": "markdown",
   "metadata": {},
   "source": [
    "The `+=` operator adds the number on the right side of the operator to the number already assigned to the variable on the left side of the operator. The `-=` operator uses subtraction instead of addition.\n",
    "\n",
    "Python provides similar operators for the other basic mathematical operations. These operators don't occur as frequently as increment and decrement, but they are available if you want to use them."
   ]
  },
  {
   "cell_type": "code",
   "execution_count": null,
   "metadata": {},
   "outputs": [],
   "source": [
    "# Multiplication assignment\n",
    "var3 = 4\n",
    "var3 *= 3\n",
    "var3"
   ]
  },
  {
   "cell_type": "code",
   "execution_count": null,
   "metadata": {},
   "outputs": [],
   "source": [
    "# Division assignment\n",
    "var4 = 8\n",
    "var4 /= 2\n",
    "var4"
   ]
  },
  {
   "cell_type": "code",
   "execution_count": null,
   "metadata": {},
   "outputs": [],
   "source": [
    "# Floor division assignment\n",
    "var4 = 8\n",
    "var4 //= 2\n",
    "var4"
   ]
  },
  {
   "cell_type": "code",
   "execution_count": null,
   "metadata": {},
   "outputs": [],
   "source": [
    "# Modulus assignment\n",
    "var5 = 22\n",
    "var5 %= 6\n",
    "var5"
   ]
  },
  {
   "cell_type": "code",
   "execution_count": null,
   "metadata": {},
   "outputs": [],
   "source": [
    "# Exponent assignment\n",
    "var6 = 2\n",
    "var6 **= 4\n",
    "var6"
   ]
  },
  {
   "cell_type": "markdown",
   "metadata": {},
   "source": [
    "All of these operators can be replaced with a basic assignment statement. For example, `var3 *= 3` can be replaced with `var3 = var3 * 3`. But if you use the special version of of the assignment statement you won't have to type the variable name twice (so there will be less chance of a typo) and the code will be just a bit more compact."
   ]
  },
  {
   "cell_type": "markdown",
   "metadata": {},
   "source": [
    "## V. Comparison Operators and Booleans\n",
    "In computer programming we often need to determine if a variable is equal to a specific number. We can do that with the equality operator, `==`. It looks like the assignment statement, but it uses two equals signs instead of one."
   ]
  },
  {
   "cell_type": "code",
   "execution_count": null,
   "metadata": {},
   "outputs": [],
   "source": [
    "# Equality Operator - evaluates to True\n",
    "var1 = 2 + 2\n",
    "var1 == 4"
   ]
  },
  {
   "cell_type": "code",
   "execution_count": null,
   "metadata": {},
   "outputs": [],
   "source": [
    "# Equality Operator - evaluates to False\n",
    "var1 == 5"
   ]
  },
  {
   "cell_type": "markdown",
   "metadata": {},
   "source": [
    "The equality operator doesn't make any changes to the values on either side. (By the way, we call these values *operands*.) It basically asks a question: *Are these two values equal to each other?*\n",
    "\n",
    "But what are these words *True* and *False* that are being displayed? Running the next cell will provide a hint."
   ]
  },
  {
   "cell_type": "code",
   "execution_count": null,
   "metadata": {},
   "outputs": [],
   "source": [
    "# What do True and False mean?\n",
    "type(var1 == 4)"
   ]
  },
  {
   "cell_type": "markdown",
   "metadata": {},
   "source": [
    "Aha! We have discovered a new data type. The word *bool* is short for Boolean. The Boolean data type (typically capitalized because they are named after George Boole, an English mathematician from the 19th century) has only two values, `True` and `False`. Like integers, floats, and string, Boolean data types can be assigned to variables."
   ]
  },
  {
   "cell_type": "code",
   "execution_count": null,
   "metadata": {},
   "outputs": [],
   "source": [
    "bool_var = True\n",
    "type(bool_val)"
   ]
  },
  {
   "cell_type": "code",
   "execution_count": null,
   "metadata": {},
   "outputs": [],
   "source": [
    "bool_val = False\n",
    "type(bool_val)"
   ]
  },
  {
   "cell_type": "markdown",
   "metadata": {},
   "source": [
    "Remember, Python is case sensitive. The values `True` and `False` must always have the first letter capitalized, with the remaining letters lower case.\n",
    "\n",
    "Boolean values have their own built-in function, just like integers, strings, and floats do."
   ]
  },
  {
   "cell_type": "code",
   "execution_count": null,
   "metadata": {},
   "outputs": [],
   "source": [
    "# Convert an integer to Boolean - 0 converts to False\n",
    "bvar = bool(0)\n",
    "bvar"
   ]
  },
  {
   "cell_type": "code",
   "execution_count": null,
   "metadata": {},
   "outputs": [],
   "source": [
    "# Convert an integer to Boolean - All values other than 0 convert to True\n",
    "bvar = bool(37)\n",
    "bvar"
   ]
  },
  {
   "cell_type": "code",
   "execution_count": null,
   "metadata": {},
   "outputs": [],
   "source": [
    "# Empty string converts to False\n",
    "bool(\"\")"
   ]
  },
  {
   "cell_type": "code",
   "execution_count": null,
   "metadata": {},
   "outputs": [],
   "source": [
    "# All other strings convert to True\n",
    "bool(\"False\")"
   ]
  },
  {
   "cell_type": "code",
   "execution_count": null,
   "metadata": {},
   "outputs": [],
   "source": [
    "# An empty list converts to False\n",
    "bool([])"
   ]
  },
  {
   "cell_type": "code",
   "execution_count": null,
   "metadata": {},
   "outputs": [],
   "source": [
    "# All other lists convert to True\n",
    "bool([1, 2, 3])"
   ]
  },
  {
   "cell_type": "code",
   "execution_count": null,
   "metadata": {},
   "outputs": [],
   "source": [
    "# Floats convert similar to integers\n",
    "print(bool(0.0))\n",
    "print(bool(0.1))"
   ]
  },
  {
   "cell_type": "markdown",
   "metadata": {},
   "source": [
    "These rules for converting other data types to Booleans probably seem arbitrary and a bit confusing. Don't worry too much about that now. Just try to remember that these rules exist. These rules come in handy sometimes."
   ]
  },
  {
   "cell_type": "markdown",
   "metadata": {},
   "source": [
    "Now back to comparison operators. Determining equality is all good, but what if we want to see if a number is not equal to another number? Python has an operator for that."
   ]
  },
  {
   "cell_type": "code",
   "execution_count": null,
   "metadata": {},
   "outputs": [],
   "source": [
    "# Inequality Operator\n",
    "print(4 != 4)\n",
    "print(4 != 3)"
   ]
  },
  {
   "cell_type": "markdown",
   "metadata": {},
   "source": [
    "Python also has operators to determine if values are less or greater than each other."
   ]
  },
  {
   "cell_type": "code",
   "execution_count": null,
   "metadata": {},
   "outputs": [],
   "source": [
    "# Less than and greater than operators\n",
    "print(4 < 5)\n",
    "print(4 > 5)"
   ]
  },
  {
   "cell_type": "markdown",
   "metadata": {},
   "source": [
    "Both the *less than* and *greater than* operators will return False if the two operands are equal."
   ]
  },
  {
   "cell_type": "code",
   "execution_count": null,
   "metadata": {},
   "outputs": [],
   "source": [
    "# Returns False if operands are equal\n",
    "print(4 < 4)\n",
    "print(4 > 4)"
   ]
  },
  {
   "cell_type": "markdown",
   "metadata": {},
   "source": [
    "Python does ahve *or equal to* versions of both the *less than* and *greater than* operator."
   ]
  },
  {
   "cell_type": "code",
   "execution_count": null,
   "metadata": {},
   "outputs": [],
   "source": [
    "# Less than or equal to\n",
    "print(4 <= 4)\n",
    "print(4 >= 4)"
   ]
  },
  {
   "cell_type": "markdown",
   "metadata": {},
   "source": [
    "Now we are ready to move on to conditional statements."
   ]
  },
  {
   "cell_type": "markdown",
   "metadata": {},
   "source": [
    "## VI. While Loops\n",
    "The most fundamental type of loop in programming is the `while` loop. Run the cell below for an example:"
   ]
  },
  {
   "cell_type": "code",
   "execution_count": null,
   "metadata": {},
   "outputs": [],
   "source": [
    "# Coundown!\n",
    "count = 10\n",
    "while count >= 0:\n",
    "    print(str(count) + \"!\")\n",
    "    count -= 1\n",
    "print(\"Liftoff, we have liftoff!\")"
   ]
  },
  {
   "cell_type": "markdown",
   "metadata": {},
   "source": [
    "Here is a detailed description of what happened.\n",
    "1. Line 2 simply assigns the integer 10 to the variable *count*.\n",
    "2. The *while* loop starts on line 2. Python starts by evaluating the conditional operator expression `count >= 0`. If that statement evalutest to `True`, Python will execute the indented code.\n",
    "3. Since 10 is greater than 0, Python executes the `print()` function in line 4, the first indented line.\n",
    "4. Line 5, `count -= 1`, is indented also indented, so Python executes that line too. the variable *count* is now equal to 9.\n",
    "5. Line 6 is not indented. Therefore it is not part of the *while* loop. Python ignores line 6 and goes back to the beginning of the loop in line 3.\n",
    "6. The *count* variable is now equal to 9, which is still greater than 0. Python executes the two statements within the loop, on lines 4 and 5, again.\n",
    "7. This cycle continues until *count* is equal to negative 1. Finally, the conditional expression on line 3 evaluates to `False`. Python will now ignore the body of the loop (the two indented lines) and proceed to line 6.\n",
    "8. Python executes line 6, displayign the liftoff string, and we're done.\n",
    "\n",
    "Now let's try a couple things.\n",
    "1. Insert 4 spaces in front of `print(...)` in line 6, so the statement has the same indentation level as lines 4 and 5. What do you think will happen if you re-run the loop? Run the loop and see if you were right.\n",
    "  * As you can see, the liftoff statement is now part of the *while* loop and runs during every iteration of the loop.  \n",
    "  \n",
    "  \n",
    "2. Comment our line 5. This means you should place a hash mark, `#`, in front of the line so Python will ignore it. What do you think will happen if you run the cell? Run the cell and see if you were right.\n",
    "  * You have just placed Python in an infinite loop. You can tell that it's still running because of the asterisk to the left of the code cell. Stop Python by hitting the black square on the toolbar (next to *Run*). Or you can select *Kernal -> Interrupt* from the menu. Or you can press ESC and then press *I* twice.\n",
    "  * If you remove the decrement statement (line 5), the value in count never gets smaller. Every time Python finishes an iteration of the loop, goes back to the beginning, and checks `count >= 0`, count will always be greater than zero. I suppose that sometime over the next several billion years, it's possible that some gamma rays could hit your computer and flip the bits to a value less than zero, but I suspect you will have stopped paying your electricity bill by then, so the point is moot.\n",
    "  * I think it's a good practice, when writing a while loop, to write the decrement or increment statement first, before you write any other lines of code. That makes it slightly less easy to get into an infinite loop."
   ]
  },
  {
   "cell_type": "markdown",
   "metadata": {},
   "source": [
    "Now work through [section 3.2 of the Python tutorial.](https://docs.python.org/3/tutorial/introduction.html#first-steps-towards-programming). \n",
    "* Use the code cell below to try out the `while` loop the computes the Fibonnacci sequence.\n",
    "* The line in the cell below that starts with `#` is a comment line. Python ignores everything on a line that comes after `#`."
   ]
  },
  {
   "cell_type": "code",
   "execution_count": null,
   "metadata": {},
   "outputs": [],
   "source": [
    "# While loop that calculates Fibbonaci Sequence.\n",
    "\n"
   ]
  },
  {
   "cell_type": "markdown",
   "metadata": {},
   "source": [
    "You do need to be careful with `while` loops. It's easy to create an infinite loop if you don't keep track of the conditions required to exit the loop.\n",
    "\n",
    "### A. While Loop Exercise\n",
    "**Ex. #1.** For your first exercise, use a `while` loop that repeated divides 1318 by 1.318 until the result is less than one.\\\n",
    "* In other words, the loop divides 1318 by 1.318, and then divides the quotient (result of the division) by 1.318, and then divides the new quotient by 1.318, etc. The loop should print the quotient each time it executes.\n",
    "* You will need to store the result of the division in a variable. Don't forget to update the variable within the body of the loop, or you might create an infinite loop.\n",
    "* If you do accidently create an infinite loop, hit the stop button (black square) in the toolbar at the top of this page."
   ]
  },
  {
   "cell_type": "code",
   "execution_count": null,
   "metadata": {},
   "outputs": [],
   "source": [
    "# Ex 1: Create while loop that repeatedly divides 1318 by 1.318\n",
    "\n"
   ]
  },
  {
   "cell_type": "markdown",
   "metadata": {},
   "source": [
    "## VII. If Statements\n",
    "Now work through [section 4.1 on `if` statements](https://docs.python.org/3/tutorial/controlflow.html#if-statements). Use the code cell below to try out the `if` and `else` statements from the tutorial."
   ]
  },
  {
   "cell_type": "code",
   "execution_count": null,
   "metadata": {},
   "outputs": [],
   "source": [
    "# Try out if and else statements here\n",
    "\n"
   ]
  },
  {
   "cell_type": "markdown",
   "metadata": {},
   "source": [
    "### A. Equality Versus Variable Assignment - IMPORTANT DISTINCTION\n",
    "What is the difference between the following two statements?\n",
    "1. `my_var = 0`\n",
    "2. `my_var == 0`?\n",
    "\n",
    "In statement #1, with just one equals sign, we are assigning the value of 0 to the variable `my_var`. Perhaps `my_var` was equal to some other number before this statement, like 432. But after the statement, `print(my_var)` will display 0.\n",
    "\n",
    "**Ex. #2.** In statement #2, we are checking to see if `my_var` is equal to 0. So if `my_var` is actually equal to 432, what will `print(my_var == 0)` display? Run the cell below to find out."
   ]
  },
  {
   "cell_type": "code",
   "execution_count": null,
   "metadata": {},
   "outputs": [],
   "source": [
    "# Ex 2: Run this cell to see difference between variable assignment and conditional equality\n",
    "my_var = 432\n",
    "print(my_var == 0)"
   ]
  },
  {
   "cell_type": "markdown",
   "metadata": {},
   "source": [
    "Change the code above to make the `print` function display `True`.\n",
    "\n",
    "**Bottom line:** One equals sign and two equals signs are two completely different things. One equals sign is called the *assignment operator* and two equals signs are called the *equality* operator. Try not to mix these up."
   ]
  },
  {
   "cell_type": "markdown",
   "metadata": {},
   "source": [
    "### B. If Statement Exercise\n",
    "**Ex. #3.** Now write an `if` statement with `else` and `elif` clauses that takes a numeric grade from 0 to 100 and determines if the grade is an *A*, *B*, *C*, *D*, or *F*. A 90 or above is an *A*, 80 - 89 is a *B*, 70 - 79 is a *C*, 60 - 69 is a *D*, and below a 60 is an *F*.\n",
    "* Use the `print()` function to display the grade.\n",
    "* Hint: start with checking that the grade is an *A*, then check for a *B*, and so forth."
   ]
  },
  {
   "cell_type": "code",
   "execution_count": null,
   "metadata": {},
   "outputs": [],
   "source": [
    "# Ex 3: if statement that determines letter grade\n",
    "\n"
   ]
  },
  {
   "cell_type": "markdown",
   "metadata": {},
   "source": [
    "## VIII. Digression - You Don't Know How to Read Code!\n",
    "Don't take it personally, but if this is your first experience with programming, then your brain has not yet learned how to read programming languages. If you attempt to read code the same way you are reading this sentence, that is, with very little concious effort -- letting your eyes scan the page such that the words just appear in your mind, you will miss important details.\n",
    "\n",
    "Here's an example. One block of code will calculate a factorial. The other will not.\n",
    "\n",
    "```\n",
    "# Code Bloc #1\n",
    "num = 5\n",
    "step = 1\n",
    "fact = 1\n",
    "While step < num:\n",
    "    step = step + 1\n",
    "     fact = fact * step\n",
    "print(f'Factorial of {num}:', fact)\n",
    "```\n",
    "```\n",
    "# Code Bloc #2\n",
    "num = 5\n",
    "step = 1\n",
    "fact = 1\n",
    "while step < num\n",
    "    step = step + 1\n",
    "    fact = fact * step\n",
    "print(f'Factorial of {num}:', Fact)\n",
    "```\n",
    "\n",
    "Actually I lied. Niether block will run. Each block has two errors. To find the errors, you will need to look at every letter, symbol, number, and whitespace character in the code blocks. They all matter. Whether a character is upper or lower case also matters.\n",
    "\n",
    "**Ex. #4.** Try to fix the errors and run the code below."
   ]
  },
  {
   "cell_type": "code",
   "execution_count": null,
   "metadata": {},
   "outputs": [],
   "source": [
    "# Ex 4: Use a while loop to calculate a factorial\n",
    "\n"
   ]
  },
  {
   "cell_type": "markdown",
   "metadata": {},
   "source": [
    "Did you see the upper case character that should have been lower case? Did you see the missing punctation? How about the extra space?"
   ]
  },
  {
   "cell_type": "markdown",
   "metadata": {},
   "source": [
    "## IX. For Loops\n",
    "Work through [section 4.2 on `for` loops](https://docs.python.org/3/tutorial/controlflow.html#for-statements). Try out the examples in the cell below."
   ]
  },
  {
   "cell_type": "code",
   "execution_count": null,
   "metadata": {},
   "outputs": [],
   "source": [
    "# Try for loop examples here.\n",
    "\n"
   ]
  },
  {
   "cell_type": "markdown",
   "metadata": {},
   "source": [
    "### A. For Loop with a List\n",
    "**Ex. #5.** Use a `for` loop extract the first character from the list of words below. Add the characters to the `chars` list. (Hint: use the `append()` method to add the character to the `chars` list.)"
   ]
  },
  {
   "cell_type": "code",
   "execution_count": null,
   "metadata": {},
   "outputs": [],
   "source": [
    "# Ex 5: Use a for loop to add the first character of each word to the chars list\n",
    "words = [\"autonomous\", \"Mindstorm\", \"Roborio\", \"Android\", \"drivetrain\", \"end-effector\"]\n",
    "chars = []\n",
    "# Put for loop below this comment\n",
    "\n",
    "\n",
    "    \n",
    "print(chars)"
   ]
  },
  {
   "cell_type": "markdown",
   "metadata": {},
   "source": [
    "### B. The `range()` Function\n",
    "The `range()` function is often used with a `for` loop. Work through [section 4.3 on the `range()` function](https://docs.python.org/3/tutorial/controlflow.html#the-range-function). Try out the examples in the cell below."
   ]
  },
  {
   "cell_type": "code",
   "execution_count": null,
   "metadata": {},
   "outputs": [],
   "source": [
    "# Practice with the range() function here.\n",
    "\n",
    "\n"
   ]
  },
  {
   "cell_type": "markdown",
   "metadata": {},
   "source": [
    "Using the knowledge you just gained by reading section 4.3, predict the output of each code block below:\n",
    "\n",
    "#### Block 1\n",
    "```Python\n",
    "    for idx in range(5):\n",
    "        print(idx)\n",
    "```\n",
    "\n",
    "#### Block 2\n",
    "```Python\n",
    "for idx in range(3, 6):\n",
    "    print(idx)\n",
    "```\n",
    "\n",
    "#### Block 3\n",
    "```Python\n",
    "for idx in range(5, -5, -2):\n",
    "    print(idx)\n",
    "```\n"
   ]
  },
  {
   "cell_type": "markdown",
   "metadata": {},
   "source": [
    "**Ex. #6.** Use a `for` loop and the `range()` function to print out all numbers between 0 and 10 inclusive. Inclusive means your output should include both 0 and 10."
   ]
  },
  {
   "cell_type": "code",
   "execution_count": null,
   "metadata": {},
   "outputs": [],
   "source": [
    "# Ex 6: Print out all numbers between 0 and 10\n",
    "\n"
   ]
  },
  {
   "cell_type": "markdown",
   "metadata": {},
   "source": [
    "**Ex. #7.** Now print out all numbers from 0 to 10 inclusive, but in reverse order, starting with 10 and ending with zero."
   ]
  },
  {
   "cell_type": "code",
   "execution_count": null,
   "metadata": {},
   "outputs": [],
   "source": [
    "# Ex 7: Print all numbers from 10 down to 0\n",
    "\n"
   ]
  },
  {
   "cell_type": "markdown",
   "metadata": {},
   "source": [
    "**Ex. #8.** Print out all numbers from 1 to 100 that are multiples of 7. Use the *step* feature of the range function (don't use the modulus operator to check every single number)."
   ]
  },
  {
   "cell_type": "code",
   "execution_count": null,
   "metadata": {},
   "outputs": [],
   "source": [
    "# Ex 8: Print all numbes from 1 to 100 that are multiples of 7.\n",
    "\n"
   ]
  },
  {
   "cell_type": "markdown",
   "metadata": {},
   "source": [
    "## X. Break and Continue Statements\n",
    "Now work through [section 4.4 on `break` and `continue` statements](https://docs.python.org/3/tutorial/controlflow.html#break-and-continue-statements-and-else-clauses-on-loops). Try out the examples from the tutorial below."
   ]
  },
  {
   "cell_type": "code",
   "execution_count": null,
   "metadata": {},
   "outputs": [],
   "source": [
    "# Practice with break and continue statements here:\n",
    "\n"
   ]
  },
  {
   "cell_type": "markdown",
   "metadata": {},
   "source": [
    "**Ex #9.** Use a for loop to print out the squares of all numbers from 1 to 20, but stop the loop (i.e., use a `break`) if the squared value is greater than 200."
   ]
  },
  {
   "cell_type": "code",
   "execution_count": null,
   "metadata": {},
   "outputs": [],
   "source": [
    "# Ex 9: All squares from 1 to 20, but stop if square > 200\n",
    "\n"
   ]
  },
  {
   "cell_type": "markdown",
   "metadata": {},
   "source": [
    "**Ex. #10.** Print out all of the leap years from 1875 to 2025. Years divisible by 100 are *not* leap years, unless they are also divisible by 400. Use *if* and *continue* statements to skip the print statement for years divisible by 100 but not divisible by 400."
   ]
  },
  {
   "cell_type": "code",
   "execution_count": null,
   "metadata": {},
   "outputs": [],
   "source": [
    "# Ex 10: Print all leap years from 1875 to 2025.\n",
    "\n"
   ]
  },
  {
   "cell_type": "markdown",
   "metadata": {},
   "source": [
    "## XI. Pass Statement\n",
    "Read [section 4.5 on the `pass` statement](https://docs.python.org/3/tutorial/controlflow.html#pass-statements).\n",
    "\n",
    "**Ex. #11.** Use a `while` loop and a `pass` statement to create an infinite loop. This is not something you would normally do on purpose."
   ]
  },
  {
   "cell_type": "code",
   "execution_count": null,
   "metadata": {},
   "outputs": [],
   "source": [
    "# Ex 11: Infinite Loop\n",
    "\n"
   ]
  },
  {
   "cell_type": "markdown",
   "metadata": {},
   "source": [
    "## XII. More Exercises"
   ]
  },
  {
   "cell_type": "markdown",
   "metadata": {},
   "source": [
    "**Ex. #12.** Use a for loop to calculate the factorials of 13, 18, and 1318."
   ]
  },
  {
   "cell_type": "code",
   "execution_count": null,
   "metadata": {},
   "outputs": [],
   "source": [
    "# Ex 12: Factorials of 13, 18, and 1318\n",
    "\n"
   ]
  },
  {
   "cell_type": "markdown",
   "metadata": {},
   "source": [
    "**Ex. #13.** Print all integers between 0 and 1318 that are multiple of 13 or 18."
   ]
  },
  {
   "cell_type": "code",
   "execution_count": null,
   "metadata": {},
   "outputs": [],
   "source": [
    "# Ex 13: All integers between 0 and 1318 that are multiples of 13 or 18\n",
    "\n"
   ]
  },
  {
   "cell_type": "markdown",
   "metadata": {},
   "source": [
    "**Ex. #14.** Use a for loop and range() to reverse the letters in \"Issaquah Robotics Society\" \n",
    "Hint: The += operator might also come in handy."
   ]
  },
  {
   "cell_type": "code",
   "execution_count": null,
   "metadata": {},
   "outputs": [],
   "source": [
    "# Ex 14: Reverse letters in \"Issaquah Robotics Society\"\n",
    "\n"
   ]
  },
  {
   "cell_type": "markdown",
   "metadata": {},
   "source": [
    "**Ex. #15.** Use a for loop and to print out all the numbers between 0 and 100, \n",
    "except for numbers that are multiples of 9 (use the continue statement and % operator)."
   ]
  },
  {
   "cell_type": "code",
   "execution_count": null,
   "metadata": {},
   "outputs": [],
   "source": [
    "# Ex 15: All numbers between 0 and 100 that are not mulitples of 9.\n",
    "\n"
   ]
  },
  {
   "cell_type": "markdown",
   "metadata": {},
   "source": [
    "**Ex. #16.** All `for` loops can be rewritten as `while` loops, but not all `while` loops can be converted to `for` loops.  Rewrite the loop in exercise 15 to use a `while` loop."
   ]
  },
  {
   "cell_type": "code",
   "execution_count": null,
   "metadata": {},
   "outputs": [],
   "source": [
    "# Ex 16: Convert for to while loop.\n",
    "\n"
   ]
  },
  {
   "cell_type": "markdown",
   "metadata": {},
   "source": [
    "## XIII. Harder Exercises"
   ]
  },
  {
   "cell_type": "markdown",
   "metadata": {},
   "source": [
    "#### Ex #16. Number Averager\n",
    "Write a script that prompts (use `input()`) the user for **two numbers**, a and b. Then, prompt the user to enter a type of average out of the three options below. Make it so the user would just type in a **number** 1, 2 or 3 for the average (i.e. 1 for arithmetic mean, 2 for geometric mean, or 3 for root-mean-square). This numerical selection is an example of how to give the user a simple response that will get around potential spelling errors and head off user frustration. This design decision makes the user interaction more robust. Output the correct average, based on what the user selected.\n",
    "1. The arithmetic mean:  $(a + b) / 2 $\n",
    "2. The geometric mean:  $\\sqrt{ab}$\n",
    "3. The root-mean-square: $\\sqrt{\\frac{a^2 + b^2}{2}}$"
   ]
  },
  {
   "cell_type": "code",
   "execution_count": null,
   "metadata": {},
   "outputs": [],
   "source": [
    "# Ex 16:\n",
    "\n"
   ]
  },
  {
   "cell_type": "markdown",
   "metadata": {},
   "source": [
    "#### Ex #17. Income Tax\n",
    "The mythical island nation of Laskoatu has a rather simple tax code.  The first 1000 dollars of income is taxed at 5%.  The next 1000 dollars is taxed at 10%.  Any income beyond the first 2000 dollars is taxed at 15%.  Complete the following script so that it asks the user for his or her income (a **number**) and outputs the amount of tax owed. \n",
    "\n",
    "Example:\n",
    "```\n",
    "Please enter your income: 1500\n",
    "\n",
    "The tax owed is: $100 \n",
    "```"
   ]
  },
  {
   "cell_type": "code",
   "execution_count": null,
   "metadata": {},
   "outputs": [],
   "source": [
    "# Ex 17:\n",
    "\n"
   ]
  },
  {
   "cell_type": "markdown",
   "metadata": {},
   "source": [
    "#### Ex # 18. Advanced (requires stuff not yet covered - learn to use Google) - Palindrome\n",
    "Write a script that prompts the user for a name (this input will be a **1 word string**). Using a while loop that counts downwards (instead of using the 'reverse' function or the string slicing [::-1] method), print the letters of the name reversed (hint: you can use print(var, end='') in each iteration of the loop). If the name is the same forward and backwards, print \"Palindrome!\" on the next line. Make sure your code prints the sample examples exactly as shown below.\n",
    "\n",
    "Extra credit: use `s.lower()` and `s.upper()`, as appropriate, to change the string to lowercase and print it out with only the first letter of the reversed word in uppercase. In this example, `s` is a variable that contains the string.\n",
    "\n",
    "**Hints:**\n",
    "You might want to check the [documentation on `print()`](https://docs.python.org/3/library/functions.html#print) to figure out how to use the named `end` argument. You might also need the `list.append()` method.\n",
    "\n",
    "Examples:\n",
    "```\n",
    "Enter your name: Paul\n",
    "Luap\n",
    "\n",
    "Enter your name: ANA\n",
    "Ana\n",
    "Palindrome!\n",
    "```"
   ]
  },
  {
   "cell_type": "markdown",
   "metadata": {},
   "source": [
    "## XIV. Concept and Terminology Review\n",
    "You should be able to define the following terms or drescribe the concept. Go back to the [Python Tutorial](https://docs.python.org/3/tutorial/index.html) if any of these seem unfamiliar.\n",
    "* Variable assignment\n",
    "* Increment and decrement\n",
    "* Special assignment statements\n",
    "* Conditional operators\n",
    "* While loop\n",
    "* If statement\n",
    "* Difference between `else` and `elif`\n",
    "* Looping through all elements of a list with `for`.\n",
    "* The `range()` function, including the purpose of all three arguments.\n",
    "* Using `for` with `range()`\n",
    "* Difference between `break` and `continue` statements"
   ]
  },
  {
   "cell_type": "markdown",
   "metadata": {},
   "source": [
    "## XV. Loop Humor\n",
    "![While Loop Humor](images/loop_humor.jpg)"
   ]
  },
  {
   "cell_type": "markdown",
   "metadata": {},
   "source": [
    "[Table of Contents](../../index.ipynb)"
   ]
  }
 ],
 "metadata": {
  "kernelspec": {
   "display_name": "Python 3",
   "language": "python",
   "name": "python3"
  },
  "language_info": {
   "codemirror_mode": {
    "name": "ipython",
    "version": 3
   },
   "file_extension": ".py",
   "mimetype": "text/x-python",
   "name": "python",
   "nbconvert_exporter": "python",
   "pygments_lexer": "ipython3",
   "version": "3.7.6"
  }
 },
 "nbformat": 4,
 "nbformat_minor": 2
}
