{
 "cells": [
  {
   "cell_type": "markdown",
   "metadata": {},
   "source": [
    "[Table of Contents](../../index.ipynb)"
   ]
  },
  {
   "cell_type": "markdown",
   "metadata": {},
   "source": [
    "# FRC Analytics with Python - Session 04\n",
    "# Control Statements\n",
    "**Last Updated: 24 August 2020**"
   ]
  },
  {
   "cell_type": "markdown",
   "metadata": {},
   "source": [
    "## I. Statements\n",
    "Before we discuss control statements, we should discuss what a statement is. In any programming language, a **statement** is an instruction to the computer, telling it to take some action. A simple example of a statement is the assignment statement. See below."
   ]
  },
  {
   "cell_type": "code",
   "execution_count": null,
   "metadata": {},
   "outputs": [],
   "source": [
    "# Assignment Statement\n",
    "match_score = 128"
   ]
  },
  {
   "cell_type": "markdown",
   "metadata": {},
   "source": [
    "The statement above instructs the Python interpreter (the program that reads and executes the Python code) to create an integer object with a value of 128, and assign the variable `match_score` to reference that object.\n",
    "\n",
    "In Python, statements end at the end of the line, unless we explicitly tell Python to include the next line in the statement. See below for examples of how to continue statements to the following line."
   ]
  },
  {
   "cell_type": "code",
   "execution_count": null,
   "metadata": {},
   "outputs": [],
   "source": [
    "# Statements can be split between lines within function argument lists.\n",
    "# The new line must start after one of the commas that separates the arguments.\n",
    "# This is helpful if a function has many arguments.\n",
    "print(\"Competition not for the sake not of destroying\",\n",
    "     \"one another, but for the sake of bettering and\",\n",
    "     \"improving both competitors as a result of the\",\n",
    "     \"competition.\", \" - Woodie Flowers - \")"
   ]
  },
  {
   "cell_type": "code",
   "execution_count": null,
   "metadata": {},
   "outputs": [],
   "source": [
    "# List literals can be split after a comma.\n",
    "events = ['Glacier Peak', 'Auburn Mountainview', 'Yakima Sundome',\n",
    "         'Oregon State Fair', 'Wisonville', 'West Valley']\n",
    "events"
   ]
  },
  {
   "cell_type": "code",
   "execution_count": null,
   "metadata": {},
   "outputs": [],
   "source": [
    "# Lines can be split by ending the first line with a backslash (\\)\n",
    "# This technique is considered to reflect poor style (yes, coding\n",
    "# can have style!), so only use it if you have no other options.\n",
    "grade_points = 4.0 + 3.7 + 4.0 + 3.3 \\\n",
    "               + 3.0 + 4.0\n",
    "grade_points"
   ]
  },
  {
   "cell_type": "code",
   "execution_count": null,
   "metadata": {},
   "outputs": [],
   "source": [
    "# Lines can also be split by enclosing a portion within parenthesis.\n",
    "# Most prefer this technique to the backslash used in the previous\n",
    "# code block.\n",
    "grade_points = (4.0 + 3.7 + 4.0 + 3.3\n",
    "               + 3.0 + 4.0)\n",
    "grade_points"
   ]
  },
  {
   "cell_type": "markdown",
   "metadata": {},
   "source": [
    "Knowing how to continue long statements to the next line is important. The style guidlines for Python and many other programming languages recommend limiting all lines to 79 characters or less. This practice makes it easier to view two code files side by side on one screen. Also, the mentor gets grouchy if he has to scroll horizontally to read your code.\n",
    "\n",
    "For this course we will follow the [official Python style guide](https://www.python.org/dev/peps/pep-0008/) and the [Google Python Style Guide](http://google.github.io/styleguide/pyguide.html). The link is included here in case you are curious. We will cover style rules later in the course. Progammers actually get into arguments over details of style."
   ]
  },
  {
   "cell_type": "markdown",
   "metadata": {},
   "source": [
    "## II. What are Control Statements? \n",
    "Completing numerical calculations and extracting characters from text strings is all well and good. But programs that just execute the same sequence of statements over and over are kind of boring. For a program to do something interesting, it needs to make decisions and execute different statements based on the situation. For this, we need control statements.\n",
    "\n",
    "**Control statements** are a special type of statement that determine which other statements will be executed, how many times they will be executed, and in what order. In a sense, they control the flow of programming statements within the computer program. They allow a program to respond differently in different situations.\n",
    "\n",
    "The most basic control statement is the `if` statement. Consider the following:\n",
    "\n",
    "```Python\n",
    "if num_cheetos_left == 0:\n",
    "    print('We need to buy more Cheetos!')\n",
    "```\n",
    "\n",
    "Another common control statement is the `while` statement, which continues to execute a block of statements until a condition is true.\n",
    "```Python\n",
    "while power_cells < 5:\n",
    "    pickup_power_cell():\n",
    "```           \n",
    "\n",
    "One of the great things about Python is that it is easy to read. Even though you are new to Python, you probably get the gist of both of these control statements."
   ]
  },
  {
   "cell_type": "markdown",
   "metadata": {},
   "source": [
    "## III. Comparison Operators and Booleans\n",
    "To understand control statements, we first need to understand comparison operators and the Boolean data type. We'll also discuss logical operators.\n",
    "\n",
    "### A. Testing for Equality and Boolean Data Types\n",
    "In computer programming we often need to determine if a variable is equal to a specific number. We can do that with the equality operator, `==`. It looks like the assignment statement, but it uses two equals signs instead of one."
   ]
  },
  {
   "cell_type": "code",
   "execution_count": null,
   "metadata": {},
   "outputs": [],
   "source": [
    "# Equality Operator - evaluates to True\n",
    "var1 = 2 + 2\n",
    "var1 == 4"
   ]
  },
  {
   "cell_type": "code",
   "execution_count": null,
   "metadata": {},
   "outputs": [],
   "source": [
    "# Equality Operator - evaluates to False\n",
    "var1 == 5"
   ]
  },
  {
   "cell_type": "markdown",
   "metadata": {},
   "source": [
    "The equality operator doesn't make any changes to the values on either side. (By the way, we call these values *operands*.) It basically asks a question: *Are these two values equal to each other?*\n",
    "\n",
    "But what are these words *True* and *False* that are being displayed? Running the next cell will provide a hint."
   ]
  },
  {
   "cell_type": "code",
   "execution_count": null,
   "metadata": {},
   "outputs": [],
   "source": [
    "# What do True and False mean?\n",
    "type(var1 == 4)"
   ]
  },
  {
   "cell_type": "markdown",
   "metadata": {},
   "source": [
    "Aha! We have discovered a new data type. The word *bool* is short for Boolean. The **Boolean** data type has only two values, `True` and `False`. Like integers, floats, and string, Boolean data types can be assigned to variables. The word *Boolean* is typically capitalized because Booleans were named after [George Boole](https://en.wikipedia.org/wiki/George_Boole), an English mathematician from the 19th century."
   ]
  },
  {
   "cell_type": "code",
   "execution_count": null,
   "metadata": {},
   "outputs": [],
   "source": [
    "bool_var = True\n",
    "type(bool_val)"
   ]
  },
  {
   "cell_type": "code",
   "execution_count": null,
   "metadata": {},
   "outputs": [],
   "source": [
    "bool_val = False\n",
    "type(bool_val)"
   ]
  },
  {
   "cell_type": "markdown",
   "metadata": {},
   "source": [
    "Remember, Python is case sensitive. The values `True` and `False` must always have the first letter capitalized, with the remaining letters lower case.\n",
    "\n",
    "Boolean values have their own built-in function, just like integers, strings, and floats do."
   ]
  },
  {
   "cell_type": "code",
   "execution_count": null,
   "metadata": {},
   "outputs": [],
   "source": [
    "# Convert an integer to Boolean - 0 converts to False\n",
    "bvar = bool(0)\n",
    "bvar"
   ]
  },
  {
   "cell_type": "code",
   "execution_count": null,
   "metadata": {},
   "outputs": [],
   "source": [
    "# Convert an integer to Boolean - All values other than 0 convert to True\n",
    "bvar = bool(37)\n",
    "bvar"
   ]
  },
  {
   "cell_type": "code",
   "execution_count": null,
   "metadata": {},
   "outputs": [],
   "source": [
    "# Empty string converts to False\n",
    "bool(\"\")"
   ]
  },
  {
   "cell_type": "code",
   "execution_count": null,
   "metadata": {},
   "outputs": [],
   "source": [
    "# All other strings convert to True\n",
    "bool(\"False\")"
   ]
  },
  {
   "cell_type": "code",
   "execution_count": null,
   "metadata": {},
   "outputs": [],
   "source": [
    "# An empty list converts to False\n",
    "bool([])"
   ]
  },
  {
   "cell_type": "code",
   "execution_count": null,
   "metadata": {},
   "outputs": [],
   "source": [
    "# All other lists convert to True\n",
    "bool([1, 2, 3])"
   ]
  },
  {
   "cell_type": "code",
   "execution_count": null,
   "metadata": {},
   "outputs": [],
   "source": [
    "# Floats convert to Booleans in a similar fashion as integers\n",
    "print(bool(0.0))\n",
    "print(bool(0.1))"
   ]
  },
  {
   "cell_type": "markdown",
   "metadata": {},
   "source": [
    "These rules for converting other data types to Booleans probably seem arbitrary and confusing. Don't worry too much about that now. Just remember that these rules exist -- they come in handy sometimes."
   ]
  },
  {
   "cell_type": "markdown",
   "metadata": {},
   "source": [
    "### C. Equality Versus Variable Assignment - IMPORTANT DISTINCTION\n",
    "What is the difference between the following two statements?\n",
    "1. `my_var = 0`\n",
    "2. `my_var == 0`?\n",
    "\n",
    "In statement #1, with just one equals sign, we are assigning the value of 0 to the variable `my_var`. Perhaps `my_var` was equal to some other number before this statement, like 432. But after the statement, `print(my_var)` will display 0.\n",
    "\n",
    "**Ex. III.A.1.** In statement #2, we are checking to see if `my_var` is equal to 0. So if `my_var` is actually equal to 432, what will `print(my_var == 0)` display? Run the cell below to find out."
   ]
  },
  {
   "cell_type": "code",
   "execution_count": null,
   "metadata": {},
   "outputs": [],
   "source": [
    "# Ex III.A.1 Run this cell to see difference between variable assignment and conditional equality\n",
    "my_var = 432\n",
    "print(my_var == 0)"
   ]
  },
  {
   "cell_type": "markdown",
   "metadata": {},
   "source": [
    "Change the code above to make the `print` function display `True`.\n",
    "\n",
    "**Bottom line:** One equals sign and two equals signs are two completely different things. One equals sign is called the *assignment operator* and two equals signs are called the *equality* operator. Try not to mix these up."
   ]
  },
  {
   "cell_type": "markdown",
   "metadata": {},
   "source": [
    "### D. More Comparison Operators\n",
    "Now back to comparison operators. Determining equality is all good, but what if we want to see if a number is *not* equal to another number? Python has an operator for that."
   ]
  },
  {
   "cell_type": "code",
   "execution_count": null,
   "metadata": {},
   "outputs": [],
   "source": [
    "# Inequality Operator\n",
    "print(4 != 4)\n",
    "print(4 != 3)"
   ]
  },
  {
   "cell_type": "markdown",
   "metadata": {},
   "source": [
    "Python also has operators to determine if values are less or greater than each other."
   ]
  },
  {
   "cell_type": "code",
   "execution_count": null,
   "metadata": {},
   "outputs": [],
   "source": [
    "# Less than and greater than operators\n",
    "print(4 < 5)\n",
    "print(4 > 5)"
   ]
  },
  {
   "cell_type": "markdown",
   "metadata": {},
   "source": [
    "Both the *less than* and *greater than* operators will return False if the two operands are equal."
   ]
  },
  {
   "cell_type": "code",
   "execution_count": null,
   "metadata": {},
   "outputs": [],
   "source": [
    "# Returns False if operands are equal\n",
    "print(4 < 4)\n",
    "print(4 > 4)"
   ]
  },
  {
   "cell_type": "markdown",
   "metadata": {},
   "source": [
    "Python does have *or equal to* versions of both the *less than* and *greater than* operator."
   ]
  },
  {
   "cell_type": "code",
   "execution_count": null,
   "metadata": {},
   "outputs": [],
   "source": [
    "# Less than or equal to\n",
    "print(4 <= 4)\n",
    "print(3 <= 4)\n",
    "print(4 >= 4)\n",
    "print(2 >= 4)"
   ]
  },
  {
   "cell_type": "markdown",
   "metadata": {},
   "source": [
    "### D. Adding Logical Operators\n",
    "What if we wanted to determine whether a number is between two other numbers? Check out the example below."
   ]
  },
  {
   "cell_type": "code",
   "execution_count": null,
   "metadata": {},
   "outputs": [],
   "source": [
    "# Checking if a number is between two other numbers\n",
    "num = 50\n",
    "num > 10 and num < 20"
   ]
  },
  {
   "cell_type": "markdown",
   "metadata": {},
   "source": [
    "Python has an `and` operator which returns `True` if the operands on either side are true. In the preceding example, `num` is greater than 10, but it is not less than 20. Python also has an `or` and a `not` operator. These three operators are called **logical operators** because they operate on logical `True` and `False` values."
   ]
  },
  {
   "cell_type": "code",
   "execution_count": null,
   "metadata": {},
   "outputs": [],
   "source": [
    "# More examples of logcial operators\n",
    "print(\"True and False:\", True and False)\n",
    "print(\"True and not False;\", True and not False)\n",
    "print(\"True or False:\", True or False)\n",
    "print(\"False or not False:\", False and not False)"
   ]
  },
  {
   "cell_type": "markdown",
   "metadata": {},
   "source": [
    "Both the `and` and `not` operators require two operands. The `and` operator returns the Boolean value `True` if both operands are `True` and returns `False` otherwise. The `or` operator returns `True` if one or more of its operands is `True` and returns `False` otherwise. Finally, the `not` operator, which only requires a single operand, returns the negation of it's operand's Boolean value. Check this explanation against the preceding example and make sure you understand it.\n",
    "\n",
    "With logical operators we can make more sophisticated comparisons."
   ]
  },
  {
   "cell_type": "code",
   "execution_count": null,
   "metadata": {},
   "outputs": [],
   "source": [
    "# Determine if a number is less than 100 and a multiple of 3\n",
    "num = int(input(\"Enter a number: \"))\n",
    "num < 100 and num % 3 == 0"
   ]
  },
  {
   "cell_type": "code",
   "execution_count": null,
   "metadata": {},
   "outputs": [],
   "source": [
    "# Determine if a number is between 20 and 30, or if it is not a multiple of 5\n",
    "num = int(input(\"Enter a number: \"))\n",
    "(num <= 30 and num >= 20) or not num % 5 == 0"
   ]
  },
  {
   "cell_type": "markdown",
   "metadata": {},
   "source": [
    "The preceding example uses parentheses to clarify which operation is completed first. Python first determines whether the number is between 20 and 30 (the operation within parentheses), and then it checks to see if the number is divisible by 5. Next it negates the result of the divisibility check and then finally it completes the *or* comparison. In this example the parentheses are not necessary because the `and` operation would be completed first anyway, both because it has higher precedence than `or` and because it occurs to the left of `or`. (When there are multiple operations with the same precedence they are completed left to right.) It doesn't hurt to use parentheses even if they are are not needed. They often make the expression easier to understand.\n",
    "\n",
    "Comparisons that evaluate to true or false are often called **Boolean expressions**."
   ]
  },
  {
   "cell_type": "markdown",
   "metadata": {},
   "source": [
    "Now we are ready to move on to control statements."
   ]
  },
  {
   "cell_type": "markdown",
   "metadata": {},
   "source": [
    "## IV. If Statements\n",
    "### A. If and Else\n",
    "The first control statement we'll discuss is the *if* statement. The *if* statement is one of the most foundational elements of computer programming. Perhaps there is an obscure programming language without an *if* statement or equivalent feature, but the mentor just spent ten minutes looking for such a language on Google and didn't find one."
   ]
  },
  {
   "cell_type": "code",
   "execution_count": null,
   "metadata": {},
   "outputs": [],
   "source": [
    "# Our first `if` statement.\n",
    "date = int(input(\"What is the date today? Please enter an integer.\\n\"))\n",
    "if date > 31:\n",
    "    print(\"I think you are mistaken.\")"
   ]
  },
  {
   "cell_type": "markdown",
   "metadata": {},
   "source": [
    "The program asked for the user to enter today's date as an integer. The `if` statement checks if the date is greater than 31. If the comparison evaluates to `True`, then the program prints a message indicating a mistake has been made. If the date entered is 31 or less, the comparison evaluates to `False` and nothing happens.\n",
    "\n",
    "By the way, the `\"\\n\"` tells Python to enter a carriage return and for all subsequent output to appear on the next line. Try removing the `\"\\n\"` and see what happens.\n",
    "\n",
    "It would be nice if the program responded in some way when a correct date is entered. Good news, Python has a feature for that -- the `else` clause."
   ]
  },
  {
   "cell_type": "code",
   "execution_count": null,
   "metadata": {},
   "outputs": [],
   "source": [
    "# Our first 'else' statement\n",
    "date = int(input(\"What is the date today? Please enter an integer.\\n\"))\n",
    "if date > 31:\n",
    "    print(\"I think you are mistaken.\")\n",
    "else:\n",
    "    print(\"Thank you\")"
   ]
  },
  {
   "cell_type": "markdown",
   "metadata": {},
   "source": [
    "The statement after the `else` clause will be executed only if the expression `date > 31` evaluates to `False`. *Else* clauses cannot exist by themselves. They must always follow in `if` statement (or they can follow a `try` statement, but we'll discuss that later).\n",
    "\n",
    "Run the date program and enter a negative integer less than 31. Our program doesn't recognize that dates can't be negative. We can fix that with an `elif` clause."
   ]
  },
  {
   "cell_type": "code",
   "execution_count": null,
   "metadata": {},
   "outputs": [],
   "source": [
    "# Our first 'elif' statement\n",
    "date = int(input(\"What is the date today? Please enter an integer.\\n\"))\n",
    "if date > 31:\n",
    "    print(\"I think you are mistaken - There aren't any months with more than 31 days.\")\n",
    "elif date < 0:\n",
    "    print(\"Dates cannot be negative. Try again.\")\n",
    "else:\n",
    "    print(\"Thank you\")"
   ]
  },
  {
   "cell_type": "markdown",
   "metadata": {},
   "source": [
    "The `elif` keyword allows us to do another comparison when the first comparison (`date > 31`) evaluates to false. We can have as many `elif` clauses as we want."
   ]
  },
  {
   "cell_type": "code",
   "execution_count": null,
   "metadata": {},
   "outputs": [],
   "source": [
    "age = int(input(\"How old are you? \"))\n",
    "if age <= 0:\n",
    "    print(\"I guess you haven't been born yet?\")\n",
    "elif age <= 3:\n",
    "    print(\"How are you even reading this right now?\")\n",
    "elif age <= 11:\n",
    "    print(\"You should join a FIRST Lego League team!\")\n",
    "elif age <= 13:\n",
    "    print(\"You can be on a FIRST Lego League or a FIRST Tech Challenge team!\")\n",
    "elif age <= 16:\n",
    "    print(\"You can be on a FIRST Lego League, FIRST Tech Challenge, or a FIRST Robotics Competition Team!\")\n",
    "elif age <= 18:\n",
    "    print(\"You can join either a FIRST Tech Challenge or a FIRST Robotics Competition team!\")\n",
    "else:\n",
    "    print(\"Have you considered mentoring?\")"
   ]
  },
  {
   "cell_type": "markdown",
   "metadata": {},
   "source": [
    "While we can have as many `elif` clauses as we want, there can't be more than one `else` clause (although you can omit the `else` clause if you want). The statements that are indented under the `else` clause will be executed if all of the comparisons in the `if` and `elif` clauses evaluate to false.\n",
    "\n",
    "Once a comparison evaluates to true, none of the subsequent comparisons in the `elif` statements will be checked. For example, `age` is equal to 10, then several of the `elif` comparisons would evaluate to true, since 10 is less than 11, less than 13, less than 16, etc. But once the first `elif` comparison evaluates to true (`elif age <= 11`), all of the following `elif` clauses are skipped.\n",
    "\n",
    "**Side note:** If you are new to FIRST, then you might not know that there are three different levels of robotics competitions and activities.\n",
    "  * [FIRST Lego League Video](https://youtu.be/FZsvSVz673g)\n",
    "  * [FIRST Tech Challenge Video](https://youtu.be/sRuNnEWFNCs)\n",
    "  * [FIRST Robotics Competition Video](https://youtu.be/wSA6InzFAZE)\n",
    "  * [FIRST Website](https://www.firstinspires.org/)"
   ]
  },
  {
   "cell_type": "markdown",
   "metadata": {},
   "source": [
    "### B. Simple If Statement Exercise\n",
    "**Ex. IV.1.** Now write an `if` statement with `else` and `elif` clauses that takes a numeric grade from 0 to 100 and determines if the grade is an *A*, *B*, *C*, *D*, or *F*. A 90 or above is an *A*, 80 - 89 is a *B*, 70 - 79 is a *C*, 60 - 69 is a *D*, and below a 60 is an *F*.\n",
    "* Use the `print()` function to display the grade.\n",
    "* Hint: start with checking that the grade is an *A*, then check for a *B*, and so forth."
   ]
  },
  {
   "cell_type": "code",
   "execution_count": null,
   "metadata": {},
   "outputs": [],
   "source": [
    "# Ex IV.B.1: if statement that determines letter grade\n",
    "\n"
   ]
  },
  {
   "cell_type": "markdown",
   "metadata": {},
   "source": [
    "### C. More on If Statements\n",
    "So far, only one programming statement has followed each of our `if` and `else` clauses. But we can include as many statements as we want after `if`, `else` or `elif`. We can also put `if` statements inside of other `if` statements use more sophisticated comparisons."
   ]
  },
  {
   "cell_type": "code",
   "execution_count": null,
   "metadata": {},
   "outputs": [],
   "source": [
    "# More `if` statements\n",
    "# Temperature-check program\n",
    "temp = float(input(\"What is the temperature outside right now? It's OK to guess.\\n\"))\n",
    "units_input= input(\"Did you enter the temperature in farenheit or celsius? Enter either 'f' or 'c'.\\n\")\n",
    "units = units_input.lower()[0]\n",
    "if units == 'c' or units == 'f':  # if-statement #1\n",
    "    \n",
    "    if units == 'f':                  # if-statement #2\n",
    "        print(\"I will convert the temperature you entered to celsius.\")\n",
    "        temp_f = temp\n",
    "        temp = round((temp - 32) * 5 / 9, 1)\n",
    "        print(temp_f, \"F\", \"is equal to \", temp, \"C.\")\n",
    "    else:                                            # else for if-statement #2\n",
    "        print(\"Thank you for using celsius.\")\n",
    "        \n",
    "    if temp < -10:                                   # if-statement #3\n",
    "        print(\"Dress warm. Don't get frostbite.\")\n",
    "    elif temp < 5:\n",
    "        print(\"Be careful, it might be slippery outside.\")\n",
    "    elif temp < 15:\n",
    "        print(\"Make sure you where a jacket!\")\n",
    "    elif temp < 20:\n",
    "        print(\"It looks nice outside. Be sure to put on sunscreen.\")\n",
    "    else:                                                             # else for if-statement #3\n",
    "        print(\"It's pretty warm out. Be sure to stay hydrated!\")\n",
    "        \n",
    "else:                                                                 # else for if-statement #1\n",
    "    print(\"I do not understand your input.\")"
   ]
  },
  {
   "cell_type": "markdown",
   "metadata": {},
   "source": [
    "Our temperature-check program introduces some new techniques.\n",
    "  1. We used the logical operator `or` in `if` statement #1.\n",
    "  2. We nested two `if` statements inside `if` statement #1.\n",
    "  3. There is a block of four statements indented under `if` statement #2.\n",
    "\n",
    "It can be tricky figuring out which `else` goes with which `if`. Keep in mind that the `else` is always indented the same amount as its matching `if` statement. The final `else` is indented the same amount as and goes with `if` statement #1. "
   ]
  },
  {
   "cell_type": "markdown",
   "metadata": {},
   "source": [
    "### D. More `if` Statement Exercises\n",
    "**Ex. IV.2.** Use the `input()` function to ask the user to enter a word. Print a different message to the user depending on whether the word starts and ends with the same letter. The program should ignore case. This is usually done by converting the user's input to all upper or all lower case."
   ]
  },
  {
   "cell_type": "code",
   "execution_count": null,
   "metadata": {},
   "outputs": [],
   "source": [
    "# Ex IV.2\n",
    "\n"
   ]
  },
  {
   "cell_type": "markdown",
   "metadata": {},
   "source": [
    "**Ex IV.3.** Write a program that will suggest an activity to someone who is bored. The program should ask the user at least three yes/no questions before suggesting an activity. The program should ask different questions depending on the answer to the previous question (requires nested `if` statements). The program could ask questions like \"Is it nice outside?\" or \"Are you hungry right now?\""
   ]
  },
  {
   "cell_type": "code",
   "execution_count": null,
   "metadata": {},
   "outputs": [],
   "source": [
    "# Ex IV.3\n",
    "\n"
   ]
  },
  {
   "cell_type": "markdown",
   "metadata": {},
   "source": [
    "## V. Additional Assignment Statements\n",
    "We have already used the basic assignment operator: `=`, which causes the value on the right had side of the equals sign to be assigned to the variable on the left hand side of the equals sign. Python provides several other assignment statements, which we should cover before we learn more control statements."
   ]
  },
  {
   "cell_type": "code",
   "execution_count": null,
   "metadata": {},
   "outputs": [],
   "source": [
    "# Basic Assignment Statement\n",
    "var1 = 10\n",
    "var1"
   ]
  },
  {
   "cell_type": "markdown",
   "metadata": {},
   "source": [
    "Often in computer programming, we need to add or subtract a number to an already-existing variable. These actions are called *incrementing* and *decrementing.* We can increment with the basic assignment operator."
   ]
  },
  {
   "cell_type": "code",
   "execution_count": null,
   "metadata": {},
   "outputs": [],
   "source": [
    "# Increment var1 by 1\n",
    "var1 = var1 + 1\n",
    "var1"
   ]
  },
  {
   "cell_type": "code",
   "execution_count": null,
   "metadata": {},
   "outputs": [],
   "source": [
    "# Decrement var1 by 2\n",
    "var1 = var1 - 2\n",
    "var1"
   ]
  },
  {
   "cell_type": "markdown",
   "metadata": {},
   "source": [
    "Python provides special operators for incrementing and decrementing because these actions occur so frequently. The operators are `+=` and `-=`."
   ]
  },
  {
   "cell_type": "code",
   "execution_count": null,
   "metadata": {},
   "outputs": [],
   "source": [
    "# Increment Operator\n",
    "var2 = 20\n",
    "var2 += 1\n",
    "var2"
   ]
  },
  {
   "cell_type": "code",
   "execution_count": null,
   "metadata": {},
   "outputs": [],
   "source": [
    "# Decrement Operator\n",
    "var2 = 15\n",
    "var2 -= 5\n",
    "var2"
   ]
  },
  {
   "cell_type": "markdown",
   "metadata": {},
   "source": [
    "The `+=` operator adds the number on the right side of the operator to the number already assigned to the variable on the left side of the operator. The `-=` operator uses subtraction instead of addition.\n",
    "\n",
    "Python provides similar operators for the other basic mathematical operations. These operators don't occur as frequently as increment and decrement, but they are available if you want to use them."
   ]
  },
  {
   "cell_type": "code",
   "execution_count": null,
   "metadata": {},
   "outputs": [],
   "source": [
    "# Multiplication assignment\n",
    "var3 = 4\n",
    "var3 *= 3\n",
    "var3"
   ]
  },
  {
   "cell_type": "code",
   "execution_count": null,
   "metadata": {},
   "outputs": [],
   "source": [
    "# Division assignment\n",
    "var4 = 8\n",
    "var4 /= 2\n",
    "var4"
   ]
  },
  {
   "cell_type": "code",
   "execution_count": null,
   "metadata": {},
   "outputs": [],
   "source": [
    "# Floor division assignment\n",
    "var4 = 8\n",
    "var4 //= 2\n",
    "var4"
   ]
  },
  {
   "cell_type": "code",
   "execution_count": null,
   "metadata": {},
   "outputs": [],
   "source": [
    "# Modulus assignment\n",
    "var5 = 22\n",
    "var5 %= 6\n",
    "var5"
   ]
  },
  {
   "cell_type": "code",
   "execution_count": null,
   "metadata": {},
   "outputs": [],
   "source": [
    "# Exponent assignment\n",
    "var6 = 2\n",
    "var6 **= 4\n",
    "var6"
   ]
  },
  {
   "cell_type": "markdown",
   "metadata": {},
   "source": [
    "All of these operators can be replaced with a basic assignment statement. For example, `var3 *= 3` can be replaced with `var3 = var3 * 3`. But if you use the special version of of the assignment statement you won't have to type the variable name twice (so there will be less chance of a typo) and the code will be more compact."
   ]
  },
  {
   "cell_type": "markdown",
   "metadata": {},
   "source": [
    "## VI. While Loops\n",
    "The most fundamental type of loop in programming is the `while` loop. Run the cell below for an example:"
   ]
  },
  {
   "cell_type": "code",
   "execution_count": null,
   "metadata": {},
   "outputs": [],
   "source": [
    "# Coundown!\n",
    "count = 10                           # line 2\n",
    "while count >= 0:                    # line 3\n",
    "    print(str(count) + \"!\")          # line 4\n",
    "    count -= 1                       # line 5\n",
    "print(\"Liftoff, we have liftoff!\")   # line 6"
   ]
  },
  {
   "cell_type": "markdown",
   "metadata": {},
   "source": [
    "Here is a detailed description of what happened.\n",
    "1. Line 2 simply assigns the integer 10 to the variable *count*. (Line 1 is the comment line.)\n",
    "2. The *while* loop starts on line 2. Python starts by evaluating the conditional operator expression `count >= 0`. If that statement evaluates to `True`, Python will execute the indented code.\n",
    "3. Since 10 is greater than 0, Python executes the `print()` function in line 4, the first indented line.\n",
    "4. Line 5, `count -= 1`, is also indented, so Python executes that line too. the variable *count* is now equal to 9.\n",
    "5. Line 6 is not indented. Therefore it is not part of the *while* loop. Python ignores line 6 and goes back to the beginning of the loop in line 3.\n",
    "6. The *count* variable is now equal to 9, which is still greater than 0. Python executes the two statements within the loop, on lines 4 and 5, again.\n",
    "7. This cycle continues until *count* is equal to negative 1. Finally, the conditional expression on line 3 evaluates to `False`. Python will now ignore the body of the loop (the two indented lines) and proceed to line 6.\n",
    "8. Python executes line 6, displaying the liftoff string, and we're done.\n",
    "\n",
    "**Now let's try a couple things.**\n",
    "1. Insert 4 spaces in front of `print(...)` in line 6, so the statement has the same indentation level as lines 4 and 5. What do you think will happen if you re-run the loop? Run the loop and see if you were right.\n",
    "  * As you can see, the liftoff statement is now part of the *while* loop and runs during every iteration of the loop.  \n",
    "  \n",
    "  \n",
    "2. Comment out line 5. This means you should place a hash mark, `#`, in front of the line so Python will ignore it. What do you think will happen if you run the cell? Run the cell and see if you were right.\n",
    "  * You have just placed Python in an infinite loop. You can tell that it's still running because of the asterisk to the left of the code cell. Stop Python by hitting the black square on the toolbar (next to *Run*). Or you can select *Kernal -> Interrupt* from the menu. Or you can press ESC and then press *I* twice.\n",
    "  * If you remove the decrement statement (line 5), the value in count never gets smaller. Every time Python finishes an iteration of the loop, goes back to the beginning, and checks `count >= 0`, count will always be greater than zero. I suppose that sometime over the next several billion years, it's possible that some gamma rays could hit your computer and flip the bits to a value less than zero, but I suspect you will have stopped paying your electricity bill by then, so the point is moot.\n",
    "  * I think it's a good practice, when writing a while loop, to write the decrement or increment statement first, before you write any other lines of code. That makes it a bit harder to get into an infinite loop."
   ]
  },
  {
   "cell_type": "markdown",
   "metadata": {},
   "source": [
    "### While Loop for Fibonacci Sequence\n",
    "*While* loops are important, so let's review another example to make sure we understand them. The *while* loop below calculates all terms of the Fibonacci sequence that are less than ten. \n",
    "\n",
    "#### Math refresher\n",
    "* A **sequence** is an ordered list of numbers. For example, the progression of positive integers (1, 2, 3, 4, 5, ...) is a sequence. If we squared each of these numbers, resulting in (1, 4, 9, 16, 25, ...), that too would be a sequence.\n",
    "* The first two terms of the **Fibonacci** sequence are the integers 0 and 1. The third term is determined by adding together the previous two terms. $0 + 1 = 1$, so the third term is 1. Each subsequent term is the sum of the previous two terms. The fourth term is 2 ($1 + 1$), the fifth term is 3 ($1 + 2$), the sixth term is 5 ($2 + 3$), and so on.\n",
    "\n",
    "Here is a while loop that calculates the Fibonnaci sequence."
   ]
  },
  {
   "cell_type": "code",
   "execution_count": null,
   "metadata": {},
   "outputs": [],
   "source": [
    "# While Loop for calculating Fibonnaci sequence\n",
    "a = 0          # First term of Fibonacci sequence\n",
    "b = 1          # Second term of sequence\n",
    "while a < 10:\n",
    "    print(a)\n",
    "    swap = b\n",
    "    b = a + b  # Calculate next term of Fibonacci sequence\n",
    "    a = swap   # Set a to be preceeding term"
   ]
  },
  {
   "cell_type": "markdown",
   "metadata": {},
   "source": [
    "#### Fibonacci Loop Description\n",
    "1. To start, we set `a` equal to the first term of the Fibonacci Sequence (0) and `b` is set equal to the second term.\n",
    "2. Since `a < 10`, we enter the *while* loop.\n",
    "3. We print the value of `a`, the first term in the sequence.\n",
    "4. Now it get's interesting. For reasons that will be apparent momentarily, we need to make a copy of `b`, the second term. We assign the value of `b` to the variable `swap`.\n",
    "5. We calculate the next term of the sequence by adding `a` and `b` and assign the result to `b`.\n",
    "6. Before we finish, we need to update the value of `a`. `b` now contains the third terms of the sequence, but `a` still contains the 1st term. We need to set `a` to be equal to the second term of the sequence. Fortunately, we saved the value of the second term earlier in the `swap` variable.\n",
    "7. Next we go back to the beginning of the loop and check the value of `a`. `a` is now equal to 1, which is still less than 10, so we go through the loop again to calculate the fourth term of the sequence.\n",
    "8. We repeat the loop while `a < 10`. On the last iteration of the loop, `a` gets updated to equal 13 ($5 + 8$). Since `a` is not greater than 10, the loop *while* loop terminates and the program ends.\n",
    "\n",
    "Again, be careful with `while` loops. It's easy to create an infinite loop if you don't keep track of the conditions required to exit the loop."
   ]
  },
  {
   "cell_type": "markdown",
   "metadata": {},
   "source": [
    "### A. While Loop Exercises\n",
    "**Ex. VI.1.** Ask the user to input a integer. Use a while loop to count down from that number by twos (print each number in the count). Stop when the count is equal to or less than 0."
   ]
  },
  {
   "cell_type": "code",
   "execution_count": null,
   "metadata": {},
   "outputs": [],
   "source": [
    "# Ex VI.1\n",
    "\n"
   ]
  },
  {
   "cell_type": "markdown",
   "metadata": {},
   "source": [
    "**Ex VI.2.** Write a program to compute a factorial. Ask the user to input an integer. If the user enters a negative number the program should print a message instructing the user to enter a number greater than or equal to zero. If the user enters 0, the program should set the result to be 1. Otherwise use a `while` loop to calculate the factorial of that number. Display the result to the user. The output should look like:\n",
    "```\n",
    "The factorial of 5 is 120.\n",
    "```\n",
    "Hint: Calculate the factorial by counting up from 1 to the number entered by the user."
   ]
  },
  {
   "cell_type": "code",
   "execution_count": null,
   "metadata": {},
   "outputs": [],
   "source": [
    "# Ex VI.2\n",
    "\n"
   ]
  },
  {
   "cell_type": "markdown",
   "metadata": {},
   "source": [
    "## VII. Digression - You Don't Know How to Read Code!\n",
    "Don't take it personally, but if this is your first experience with programming, then your brain has not yet learned how to read programming languages. If you attempt to read code the same way you are reading this sentence, that is, with very little conscious effort -- letting your eyes scan the page such that the words just appear in your mind, you will miss important details.\n",
    "\n",
    "Here's an example. One block of code will calculate a factorial. The other will not.\n",
    "\n",
    "```\n",
    "# Code Bloc #1\n",
    "num = 5\n",
    "step = 1\n",
    "fact = 1\n",
    "While step < num:\n",
    "    step = step + 1\n",
    "     fact = fact * step\n",
    "print(f'Factorial of {num}:', fact)\n",
    "```\n",
    "```\n",
    "# Code Bloc #2\n",
    "num = 5\n",
    "step = 1\n",
    "fact = 1\n",
    "while step < num\n",
    "    step = step + 1\n",
    "    fact = fact * step\n",
    "print(f'Factorial of {num}:', Fact)\n",
    "```\n",
    "\n",
    "Actually I lied. Neither block will run. Each block has two errors. To find the errors, you will need to look at every letter, symbol, number, and whitespace character in the code blocks. They all matter. Whether a character is upper or lower case also matters.\n",
    "\n",
    "**Ex. VII.1.** Try to fix the errors and run the code below."
   ]
  },
  {
   "cell_type": "code",
   "execution_count": null,
   "metadata": {},
   "outputs": [],
   "source": [
    "# Ex VII.1: Use a while loop to calculate a factorial\n",
    "\n"
   ]
  },
  {
   "cell_type": "markdown",
   "metadata": {},
   "source": [
    "Did you see the upper case character that should have been lower case? Did you see the missing punctation? How about the extra space?"
   ]
  },
  {
   "cell_type": "markdown",
   "metadata": {},
   "source": [
    "## VIII. For Loops\n",
    "Python, like most programming languages, has another type of loop called a *for* loop. Here is a simple example:"
   ]
  },
  {
   "cell_type": "code",
   "execution_count": null,
   "metadata": {},
   "outputs": [],
   "source": [
    "# for loop example\n",
    "mechanicals = [\"belt\", \"pully\", \"spur gear\", \"bevel gear\", \"worm wheel\"]\n",
    "for word in mechanicals:\n",
    "    print(word)"
   ]
  },
  {
   "cell_type": "markdown",
   "metadata": {},
   "source": [
    "For every string in the list `mechanicals`, the *for* loop printed the string. Here is another example with numbers:"
   ]
  },
  {
   "cell_type": "code",
   "execution_count": null,
   "metadata": {},
   "outputs": [],
   "source": [
    "# for loop with numbers\n",
    "squares = []\n",
    "for num in [0, 1, 2, 3, 4, 5, 6, 7, 8, 9]:\n",
    "    squares.append(num**2)\n",
    "print(squares)"
   ]
  },
  {
   "cell_type": "markdown",
   "metadata": {},
   "source": [
    "The *for* loop squared every number in the list and appended it to a list.\n",
    "\n",
    "Typing out the numbers 1 through 10 wasn't too much work, but what if we wanted to loop through the numbers 1 through 100? That would be tedious. Fortunately Python has a built-in function called `range()` that makes the work easier."
   ]
  },
  {
   "cell_type": "code",
   "execution_count": null,
   "metadata": {},
   "outputs": [],
   "source": [
    "# range function examples\n",
    "for num in range(10):\n",
    "    print(num, end=\", \")\n",
    "    \n",
    "print()\n",
    "print()\n",
    "    \n",
    "for num in range(5):\n",
    "    print(num, end=\", \")"
   ]
  },
  {
   "cell_type": "markdown",
   "metadata": {},
   "source": [
    "The `range()` function causes the `num` variable to be set to all non-negative integers that are *less than* its argument, starting with zero. So `range(10)` causes `num` to be set to zero through nine, and `num` five causes `num` to be set to 0 through four. It may seem a bit confusing that the loop never runs with the values of ten or five, but this syntax makes sense because in the first case, the loop executes five times, and in the second case, the loop executes ten times.\n",
    "\n",
    "Did you notice the trick with the `print()` statement? We added a **named argument** called `end`. Normally `print()` adds a new line to the end of whatever it displays, so any subsequent calls to `print()` will be on a new line. But if we include the `end` parameter when we call `print()`, whatever we pass to `end` will be placed at the end of the text displayed by `print()`. In this case, we passed a string with a comma and a space, causing each number to be displayed on the same line, separated by a comma and space.\n",
    "> **Experiment:** Play with the code to get a feel for how `end` works. Try replacing `', '` with `\"-\"` or `\"\\n\\n\"` (`\"\\n\"` is a special code that stands for a newline character), or remove the `end` argument entirely. Also see what happens when you remove the two empty `print()` statements in the middle of the code cell.\n",
    "\n",
    "But what if we don't want the loop to start with zero? In that case we can add a second argument to `range()`."
   ]
  },
  {
   "cell_type": "code",
   "execution_count": null,
   "metadata": {},
   "outputs": [],
   "source": [
    "# range with two arguments\n",
    "for num in range(13, 19):\n",
    "    print(num, end=\", \")"
   ]
  },
  {
   "cell_type": "markdown",
   "metadata": {},
   "source": [
    "Instead of starting with zero, our loop started with the first argument, 13. The first argument is the *start* value, and the second argument is the *stop* value. Note how the first argument is included in the output, but the second argument is not.  But wait, there's more."
   ]
  },
  {
   "cell_type": "code",
   "execution_count": null,
   "metadata": {},
   "outputs": [],
   "source": [
    "# range with three arguments - Count to 100 by fours.\n",
    "for num in range(4, 101, 4):\n",
    "    print(num, end=\", \")"
   ]
  },
  {
   "cell_type": "markdown",
   "metadata": {},
   "source": [
    "The third argument to `range()` is called the step value. The `range()` function is a good example of how functions can be called with different combinations of arguments and will behave differently as a result. The arguments to `range()` are conceptually similar to the values passed to the slice operator for selecting values from a list:"
   ]
  },
  {
   "cell_type": "code",
   "execution_count": null,
   "metadata": {},
   "outputs": [],
   "source": [
    "list_1to20 = list(range(21))  # Create a list with integers 0 through 20\n",
    "print(\"List of numbers 1 - 20:\\t\\t\\t\\t\", list_1to20)\n",
    "print(\"Select multiples of 3 from list using a slice:\\t\", list_1to20[3:21:3])\n",
    "print(\"Same output using `range()`:\\t\\t\\t\", list(range(3, 21, 3)))"
   ]
  },
  {
   "cell_type": "markdown",
   "metadata": {},
   "source": [
    "Both the arguments to `range()` and the values passed to the slice operator consist of a *start*, *stop*, and *step*.\n",
    "\n",
    "By the way, the `\"\\t\"` represents a tab character. We used `\"\\t\"` to get our output to line up nicely in two columns.\n",
    "\n",
    "Here is one last *for* loop example."
   ]
  },
  {
   "cell_type": "code",
   "execution_count": null,
   "metadata": {},
   "outputs": [],
   "source": [
    "# Sum of first 10 perfect squares\n",
    "sum_squares = 0\n",
    "for num in range(1, 11):\n",
    "    sum_squares += num**2\n",
    "print(sum_squares)"
   ]
  },
  {
   "cell_type": "markdown",
   "metadata": {},
   "source": [
    "### For Loop Exercises"
   ]
  },
  {
   "cell_type": "markdown",
   "metadata": {},
   "source": [
    "**Ex. VIII.1** Predict the output of each code block below. Write the answer as a comment in the code block.\n",
    "#### Block 1\n",
    "```Python\n",
    "    for idx in range(5):\n",
    "        print(idx)\n",
    "```\n",
    "#### Block 2\n",
    "```Python\n",
    "for idx in range(3, 6):\n",
    "    print(idx)\n",
    "```\n",
    "\n",
    "#### Block 3\n",
    "```Python\n",
    "for idx in range(5, -5, -2):\n",
    "    print(idx)\n",
    "```"
   ]
  },
  {
   "cell_type": "code",
   "execution_count": null,
   "metadata": {},
   "outputs": [],
   "source": [
    "# Ex. VIII.1\n"
   ]
  },
  {
   "cell_type": "markdown",
   "metadata": {},
   "source": [
    "**Ex. VIII.2.** Print out all numbers from 1 to 100 that are multiples of 7. Use the *step* feature of the range function (don't use the modulus operator to check every single number)."
   ]
  },
  {
   "cell_type": "code",
   "execution_count": null,
   "metadata": {},
   "outputs": [],
   "source": [
    "# Ex VIII.2: Print all numbers from 1 to 100 that are multiples of 7.\n",
    "\n"
   ]
  },
  {
   "cell_type": "markdown",
   "metadata": {},
   "source": [
    "**Ex. VIII.3.** Use a `for` loop extract the first character from the list of words below. Add the characters to the `chars` list. (Hint: use the `append()` method to add the character to the `chars` list.)"
   ]
  },
  {
   "cell_type": "code",
   "execution_count": null,
   "metadata": {},
   "outputs": [],
   "source": [
    "# Ex. VIII.3: Use a for loop to add the first character of each word to the chars list\n",
    "words = [\"autonomous\", \"Mindstorm\", \"Roborio\", \"Android\", \"drivetrain\", \"end-effector\"]\n",
    "chars = []\n",
    "# Put for loop below this comment\n",
    "\n",
    "\n",
    "    \n",
    "print(chars)"
   ]
  },
  {
   "cell_type": "markdown",
   "metadata": {},
   "source": [
    "**Ex. VIII.4** If we list all the natural numbers below 10 that are multiples of 3 or 5, we get 3, 5, 6 and 9. The sum of these multiples is 23. *Find the sum of all the multiples of 3 or 5 below 1000.*\n",
    "  * Use the modulus operator to determine if a number is a multiple of 3 or 5. You can also use one of the logical operators.\n",
    "  * You'll need to initialize a variable to store the partial sum before the `for` loop.\n",
    "  \n",
    "This is the first problem from Project Euler. See https://projecteuler.net/problem=1. To see if you have the right answer, [create an account on Project Euler](https://projecteuler.net/register) and enter your answer."
   ]
  },
  {
   "cell_type": "code",
   "execution_count": null,
   "metadata": {},
   "outputs": [],
   "source": [
    "# Ex VIII.4: Sum of all multiples of 3 or 5 below 1000\n",
    "\n",
    "\n"
   ]
  },
  {
   "cell_type": "markdown",
   "metadata": {},
   "source": [
    "## IX. Break and Continue Statements\n",
    "There are times when we want to skip a portion of a `for` or `while` loop, or exit the loop prematurely.\n",
    "\n",
    "### The `break` Statement\n",
    "\n",
    "Review the following program for an example of a `break` statement."
   ]
  },
  {
   "cell_type": "code",
   "execution_count": null,
   "metadata": {},
   "outputs": [],
   "source": [
    "# Determine if number is prime\n",
    "check_num = int(input(\"Enter a positive integer: \"))\n",
    "prime = True\n",
    "for factor in range(2, check_num):\n",
    "    if check_num % factor == 0:\n",
    "        prime = False\n",
    "        print(check_num, \"is not prime!\")\n",
    "        print(factor, \"times\", check_num // factor, \"=\", check_num)\n",
    "        break\n",
    "if prime:\n",
    "    print(check_num, \"is prime!\")"
   ]
  },
  {
   "cell_type": "markdown",
   "metadata": {},
   "source": [
    "The program asks a user to enter an integer and determines if the integer is prime. The program uses a *for* loop that checks every integer from 2 to up to one less than the number entered by the user (`check_num`).\n",
    "\n",
    "An `if` statement with a modulus operator checks whether an integer is a factor of `check_num`. Once a factor is found, there is no reason to check any other numbers because we already know the number is not prime. The `break` statement causes Python to terminate the `for` loop.\n",
    "\n",
    "For example, suppose the user enters the number 9. The program will first check to see if 2 is a factor. Next the program will check to see if 3 is a factor. Since the remainder of $ 9 \\: \\div \\: 3$ is 0, the indented statement block below the `if` statement will be executed.The final statement of the block, the `break` statement tells Python to terminate the `for` loop. The `for` loop will not continue on to 4 or any other number and the `for` loop ends.\n",
    "\n",
    "Incidentally, the prime number program is simple, but very inefficient. Can you think of any ways to speed it up?"
   ]
  },
  {
   "cell_type": "markdown",
   "metadata": {},
   "source": [
    "### The `continue` Statement\n",
    "We just saw how a `break` statement causes Python to skip all remaining iterations of a `for` loop. A `continue` statement is a bit different. It causes Python to skip the remaining portion of the current iteration of a loop, but to *continue* with the next iteration."
   ]
  },
  {
   "cell_type": "code",
   "execution_count": null,
   "metadata": {},
   "outputs": [],
   "source": [
    "# Program to demonstrate how `continue` works\n",
    "for num in list(range(6)):\n",
    "    if num % 2 == 0:\n",
    "        print(\"num =\", num, \"Skipping ahead to next loop iteration.\")\n",
    "        continue\n",
    "    print(\"num =\", num, \"Last statement in loop\")  # Final print statement"
   ]
  },
  {
   "cell_type": "markdown",
   "metadata": {},
   "source": [
    "The *for* loop above iterates over the numbers 0 through 5. If the number is divisible by 2, Python continues to the next iteration of the loop, skipping the final print statement. "
   ]
  },
  {
   "cell_type": "markdown",
   "metadata": {},
   "source": [
    "### Using `break` and `continue` with *While* Loops\n",
    "The `break` and `continue` statements work with *while* loops the same way they work with *for* loops. In the example below, the program to check if a number is prime has been rewritten using a *while* loop instead of a *for* loop. The break statement causes the program to jump out of the while loop as soon as a factor is found."
   ]
  },
  {
   "cell_type": "code",
   "execution_count": null,
   "metadata": {},
   "outputs": [],
   "source": [
    "# Determine if number is prime with while loop\n",
    "check_num = int(input(\"Enter a positive integer: \"))\n",
    "prime = True\n",
    "factor = 2\n",
    "while factor < check_num:\n",
    "    if check_num % factor == 0:\n",
    "        prime = False\n",
    "        print(check_num, \"is not prime!\")\n",
    "        print(factor, \"times\", check_num // factor, \"=\", check_num)\n",
    "        break\n",
    "    factor += 1\n",
    "if prime:\n",
    "    print(check_num, \"is prime!\")"
   ]
  },
  {
   "cell_type": "markdown",
   "metadata": {},
   "source": [
    "The following program demonstrates use of `continue` with a *while* loop."
   ]
  },
  {
   "cell_type": "code",
   "execution_count": null,
   "metadata": {},
   "outputs": [],
   "source": [
    "# Program to demonstrate how `continue` works\n",
    "num = 0\n",
    "while num < 6:\n",
    "    if num % 2 == 0:\n",
    "        print(\"num =\", num, \"Skipping ahead to next loop iteration.\")\n",
    "        num += 1\n",
    "        continue\n",
    "    print(\"num =\", num, \"Last statement in loop\")  # Final print statement\n",
    "    num += 1"
   ]
  },
  {
   "cell_type": "markdown",
   "metadata": {},
   "source": [
    "The two *while* loop examples do the same thing as earlier examples that used a *for* loop. It just so happens that any *for* loop can be rewritten as a *while* loop, but the opposite is not true. There are *while* loops that cannot be converted to *for* loops. In the previous two *while* loop examples, we had to manually increment a counting variable (`factor` in the *break* example and `num` in the *continue* example). We'll end up with an infinite loop if we forget to add this increment step. *For* loops can also be easier to understand. So use a *while* loop if you need to, but if it's easy to use a *for* loop, the *for* loop is often a better choice."
   ]
  },
  {
   "cell_type": "markdown",
   "metadata": {},
   "source": [
    "### Exercises with `break` and `continue`"
   ]
  },
  {
   "cell_type": "markdown",
   "metadata": {},
   "source": [
    "**Ex. IX.1.** Print out all of the leap years from 1875 to 2025. Years divisible by 100 are *not* leap years, unless they are also divisible by 400. Use *if* and *continue* statements to skip the print statement for years divisible by 100 but not divisible by 400."
   ]
  },
  {
   "cell_type": "code",
   "execution_count": null,
   "metadata": {},
   "outputs": [],
   "source": [
    "# Ex IX.1.: Print all leap years from 1875 to 2025.\n",
    "\n"
   ]
  },
  {
   "cell_type": "markdown",
   "metadata": {},
   "source": [
    "**Ex. IX.2.** Write a program that repeatedly asks a user to enter a non-negative number. After each number entered, the program should print the total of all numbers entered. The program should exit if the user enters a negative number.\n",
    "  * Put the `input()` function inside a *while* loop so that the user is repeatedly asked to enter a number.\n",
    "  * Check to see if the user input is negative. If so, use a `break` statement to exit from the loop.\n",
    "  \n",
    "The program output should look something like this:\n",
    "```\n",
    "Enter a non-negative integer: 1\n",
    "Current total:  1\n",
    "Enter a non-negative integer: 3\n",
    "Current total:  4\n",
    "Enter a non-negative integer: 1\n",
    "Current total:  5\n",
    "Enter a non-negative integer: 8\n",
    "Current total:  13\n",
    "Enter a non-negative integer: -1\n",
    "Goodbye!\n",
    "```"
   ]
  },
  {
   "cell_type": "code",
   "execution_count": null,
   "metadata": {},
   "outputs": [],
   "source": [
    "# Ex. IX.2 Calculate the sum of all numbers entered by the user.\n",
    "\n",
    "\n"
   ]
  },
  {
   "cell_type": "markdown",
   "metadata": {},
   "source": [
    "**Ex. IX.3.** Write a program that displays a total and an integer to the user and asks the user what to do with the integer.\n",
    "  * The total should start at 0.\n",
    "  * The program should sequentially display the integers 1 through 5 to the user.\n",
    "  * The user should be instructed to enter 'x' to add the integer to the total, 'm' to multiply the total by the integer, 's' to skip the integer entirely, and 'x' to exit the program.\n",
    "  * Use a `continue` statement to continue to the next integer if the user enters 's'.\n",
    "  * Use a `break` statement to exit the loop and program if the user enters 'x'.\n",
    "  * If the user enters 'a' or 'm', then add or multiply the integer by the total, respectively.\n",
    "  \n",
    "The program output should look something like this:\n",
    "```\n",
    "Current total: 0\n",
    "Current integer: 1\n",
    "Enter 'a' to add the integer, 'm' to multiply, 's' to skip, or 'x' to exit the program: s\n",
    "Skipping...\n",
    "Current total: 0\n",
    "Current integer: 2\n",
    "Enter 'a' to add the integer, 'm' to multiply, 's' to skip, or 'x' to exit the program: a\n",
    "Adding...\n",
    "Current total: 2\n",
    "Current integer: 3\n",
    "Enter 'a' to add the integer, 'm' to multiply, 's' to skip, or 'x' to exit the program: m\n",
    "Multiplying...\n",
    "Current total: 6\n",
    "Current integer: 4\n",
    "Enter 'a' to add the integer, 'm' to multiply, 's' to skip, or 'x' to exit the program: x\n",
    "Goodbye\n",
    "The final total is: 6\n",
    "```"
   ]
  },
  {
   "cell_type": "code",
   "execution_count": null,
   "metadata": {},
   "outputs": [],
   "source": [
    "# Ex. IX.3 Display sequence of integers to the user and ask user what to do.\n",
    "\n",
    "\n"
   ]
  },
  {
   "cell_type": "markdown",
   "metadata": {},
   "source": [
    "## X. The `pass` Statement\n",
    "It's possible to have a loop or `if` statement that does absolutely nothing."
   ]
  },
  {
   "cell_type": "code",
   "execution_count": null,
   "metadata": {},
   "outputs": [],
   "source": [
    "# This loop does absolutely nothing.\n",
    "for x in range(100):\n",
    "    pass\n",
    "\n",
    "# This if-statement does nothing.\n",
    "if True:\n",
    "    pass"
   ]
  },
  {
   "cell_type": "markdown",
   "metadata": {},
   "source": [
    "The `pass` statement does nothing. It can be helpful when writing a program. Suppose you want to test parts of your program, but you have not yet written the body of a loop or `if` statement. Placing `pass` after the loop or `if` statement allows the rest of the program to run. Python will generate an error if there are no indented statements following a loop or `if` statement. Try removing one of the `pass` statements and running the cell to see for yourself."
   ]
  },
  {
   "cell_type": "markdown",
   "metadata": {},
   "source": [
    "## XI. Python Tutorial Review\n",
    "The topics covered in this section are also covered in the official *Python Tutorial*. Read through the following section of the tutorial to review the concepts we just covered.\n",
    "* [Section 3.2](https://docs.python.org/3/tutorial/introduction.html#first-steps-towards-programming) of the Python tutorial covers *while* statements. Review this section for a different explanation of how *while* loops work.\n",
    "* [Section 4.1](https://docs.python.org/3/tutorial/controlflow.html#if-statements) covers *if* statements.\n",
    "* [Section 4.2](https://docs.python.org/3/tutorial/controlflow.html#for-statements) covers *for* loops.\n",
    "* [Section 4.3](https://docs.python.org/3/tutorial/controlflow.html#the-range-function) covers the `range()` function.\n",
    "* [Section 4.4](https://docs.python.org/3/tutorial/controlflow.html#break-and-continue-statements-and-else-clauses-on-loops) covers `break` and `continue`.\n",
    "* [Section 4.5](https://docs.python.org/3/tutorial/controlflow.html#pass-statements) coves the `pass` statement.\n",
    "\n",
    "Try out some examples from the *Python Tutorial* below:"
   ]
  },
  {
   "cell_type": "code",
   "execution_count": null,
   "metadata": {},
   "outputs": [],
   "source": [
    "# Examples from Python Tutorial\n",
    "\n",
    "\n"
   ]
  },
  {
   "cell_type": "markdown",
   "metadata": {},
   "source": [
    "## XII. Harder Exercises"
   ]
  },
  {
   "cell_type": "markdown",
   "metadata": {},
   "source": [
    "**Ex. XII.1 Number Averager**  \n",
    "Write a script that prompts (use `input()`) the user for **two numbers**, a and b. Then, prompt the user to enter a type of average out of the three options below. Make it so the user would just type in a **number** 1, 2 or 3 for the average (i.e. 1 for arithmetic mean, 2 for geometric mean, or 3 for root-mean-square). This numerical selection is an example of how to give the user a simple response that will get around potential spelling errors and head off user frustration. This design decision makes the user interaction more robust. Output the correct average, based on what the user selected.\n",
    "1. The arithmetic mean:  $(a + b) / 2 $\n",
    "2. The geometric mean:  $\\sqrt{ab}$\n",
    "3. The root-mean-square: $\\sqrt{\\frac{a^2 + b^2}{2}}$\n",
    "\n",
    "**Note:** You can calculate a square root by taking a number to the power of 0.5: `9**0.5`."
   ]
  },
  {
   "cell_type": "code",
   "execution_count": null,
   "metadata": {},
   "outputs": [],
   "source": [
    "# Ex. XII.1:\n",
    "\n"
   ]
  },
  {
   "cell_type": "markdown",
   "metadata": {},
   "source": [
    "**Ex. XII.2. Income Tax**  \n",
    "The mythical island nation of Laskoatu has a rather simple tax code.  The first 1000 dollars of income is taxed at 5%.  The next 1000 dollars is taxed at 10%.  Any income beyond the first 2000 dollars is taxed at 15%.  Complete the following script so that it asks the user for his or her income (a **number**) and outputs the amount of tax owed. \n",
    "\n",
    "Example:\n",
    "```\n",
    "Please enter your income: 1500\n",
    "\n",
    "The tax owed is: $100 \n",
    "```"
   ]
  },
  {
   "cell_type": "code",
   "execution_count": null,
   "metadata": {},
   "outputs": [],
   "source": [
    "# Ex XII.2\n",
    "\n"
   ]
  },
  {
   "cell_type": "markdown",
   "metadata": {},
   "source": [
    "## XIII. Quiz\n",
    "Write your answers as Python comments in the code cells provided."
   ]
  },
  {
   "cell_type": "markdown",
   "metadata": {},
   "source": [
    "**#1.** Explain the difference between the operators `=` and `==`."
   ]
  },
  {
   "cell_type": "code",
   "execution_count": null,
   "metadata": {},
   "outputs": [],
   "source": [
    "# Quiz-1\n"
   ]
  },
  {
   "cell_type": "markdown",
   "metadata": {},
   "source": [
    "**#2.** Inspect the code snippet below. What will the output of the code be? In other words, which items will evaluate to `True` and which will evaluate to `False`?\n",
    "\n",
    "```python\n",
    "for item in [1, 0, [], [0], \"False\", \"\", -1]:\n",
    "    if item:\n",
    "        print(True)\n",
    "    else:\n",
    "        print(False)\n",
    "```"
   ]
  },
  {
   "cell_type": "code",
   "execution_count": null,
   "metadata": {},
   "outputs": [],
   "source": [
    "# Quiz-2\n"
   ]
  },
  {
   "cell_type": "markdown",
   "metadata": {},
   "source": [
    "**#3.** True or False: A `while` loop can always be converted to a `for` loop and vise-versa."
   ]
  },
  {
   "cell_type": "code",
   "execution_count": null,
   "metadata": {},
   "outputs": [],
   "source": [
    "# Quiz-3\n"
   ]
  },
  {
   "cell_type": "markdown",
   "metadata": {},
   "source": [
    "**#4.** Explain what it means to increment or decrement a variable."
   ]
  },
  {
   "cell_type": "code",
   "execution_count": null,
   "metadata": {},
   "outputs": [],
   "source": [
    "# Quiz-4\n"
   ]
  },
  {
   "cell_type": "markdown",
   "metadata": {},
   "source": [
    "**#5.** Explain the difference between the `break` and `continue` statements."
   ]
  },
  {
   "cell_type": "code",
   "execution_count": null,
   "metadata": {},
   "outputs": [],
   "source": [
    "# Quiz-5\n"
   ]
  },
  {
   "cell_type": "markdown",
   "metadata": {},
   "source": [
    "## XIV. Save Your Work\n",
    "Once you have completed the exercises, save a copy of the notebook outside of the git repository (outside of the *pyclass_frc* folder). Include your name in the file name. Send the notebook file to another student to check your answers."
   ]
  },
  {
   "cell_type": "markdown",
   "metadata": {},
   "source": [
    "## XV. Concept and Terminology Review\n",
    "You should be able to define the following terms or describe the concept. Re-review this and prior sessions if any of the terms are unfamiliar.\n",
    "* Statement\n",
    "* Splitting statements between multiple lines\n",
    "* Variable assignment with `=`\n",
    "* Comparison operators: `==`, `<`, `>`, `<=`, `>=`\n",
    "* Boolean data type\n",
    "* Logical operators: `and`, `or`, `not`\n",
    "* `if` statement\n",
    "* Difference between `else` and `elif`\n",
    "* Assignment with `+=`, `-'`, `*=`, `/=`, `//=`, `%=`, `**=`\n",
    "* Increment and decrement\n",
    "* `while` loops\n",
    "* `for` loops\n",
    "* Looping through all elements of a list with `for`.\n",
    "* The `range()` function, including the purpose of all three arguments.\n",
    "* Using `for` with `range()`\n",
    "* Difference between `break` and `continue` statements"
   ]
  },
  {
   "cell_type": "markdown",
   "metadata": {},
   "source": [
    "## XVI. Loop Humor\n",
    "![While Loop Humor](images/loop_humor.jpg)"
   ]
  },
  {
   "cell_type": "markdown",
   "metadata": {},
   "source": [
    "[Table of Contents](../../index.ipynb)"
   ]
  }
 ],
 "metadata": {
  "kernelspec": {
   "display_name": "Python 3",
   "language": "python",
   "name": "python3"
  },
  "language_info": {
   "codemirror_mode": {
    "name": "ipython",
    "version": 3
   },
   "file_extension": ".py",
   "mimetype": "text/x-python",
   "name": "python",
   "nbconvert_exporter": "python",
   "pygments_lexer": "ipython3",
   "version": "3.8.5"
  }
 },
 "nbformat": 4,
 "nbformat_minor": 2
}
