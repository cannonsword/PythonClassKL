{
 "cells": [
  {
   "cell_type": "markdown",
   "metadata": {},
   "source": [
    "[Table of Contents](../../index.ipynb)"
   ]
  },
  {
   "cell_type": "markdown",
   "metadata": {},
   "source": [
    "# FRC Analytics with Python - Session 04\n",
    "# Command Line Interface\n",
    "**Last Updated: 28 April 2020**"
   ]
  },
  {
   "cell_type": "markdown",
   "metadata": {},
   "source": [
    "## I. Introduction\n",
    "We will take a short break from Python so we can learn how to use command line interfaces, which are an essential tool for programmers and data analysts.\n",
    "\n",
    "### A. Command Line Examples\n",
    "The first personal computer that the mentor remembers using was in the Perturbed Angular Correllation Laboratory in the Physical Sciences Building on the WSU campus. (It's now called Webster Hall, but in our day everyone called it Phy-Sci.)\n",
    "\n",
    "Anyway, this is what you saw when you turned the computer on.\n",
    "\n",
    "![Dos Prompt](images/dos_boot.jpg)\n",
    "\n",
    "Well, not quite like this. The computer clock did not indicate the year was 2020, we were probably on MS-DOS version 3.3, and we most certainly didn't have a *2-gigabyte hard drive*. I still remember one of the grad students exclaiming \"This thing has *two 20-megabyte hard drives! WE'LL NEVER FILL IT UP!*\"\n",
    "\n",
    "If you wanted to run a program, you typed the name of the program and hit enter. If you wanted to find a file, you typed `dir` to see a list of files and subfolders, and you navigated down through subfolders by typing different commands. We didn't have a mouse.\n",
    "\n",
    "This type of interface is called a command line interface (CLI). Even though computers have for many years come standard with easy-to-use graphical interfaces, CLIs are still important and used extensively in computer programming and data analysis. *RStudio's* console, a modern example of a CLI used for statistical analysis, is pictured below:\n",
    "![Console CLI](images/r_cli.png)"
   ]
  },
  {
   "cell_type": "markdown",
   "metadata": {},
   "source": [
    "### B. Command Line Advantages\n",
    "CLIs are still in use because they have several advantages over graphical interfaces.\n",
    "* They require very few system resources to run. This can be especially important on servers with high workload.\n",
    "* With command lines, you can see history - a list of commands that you ran previously (at least until you clear the screen). Graphical user interfaces do not generally show the history of mouse clicks and button presses.\n",
    "* Users who are familiar with command syntax can complete tasks faster with the command line than with a graphical user interface that requires navigating through several program windows.\n",
    "* Repetitive tasks are more easily automated with a command line interface because the commands themselves can be saved to a text file and run as a script.\n",
    "* Command line interfaces are easier and quicker to create than graphical interfaces. Programming buttons, menus, and checkboxes is a lot of work.\n",
    "\n",
    "### C. How the Issaquah Robotics Society uses CLIs\n",
    "Here are a few of the tasks that require a CLI:\n",
    "* Controlling the various servers that make up our scouting system:\n",
    "    * PostrgreSQL Database server\n",
    "    * HTTP server\n",
    "    * Bokeh application server\n",
    "* Source code version control with Git\n",
    "* Configuring Python environments and managing Python packages\n",
    "* Running custom-built Python programs"
   ]
  },
  {
   "cell_type": "markdown",
   "metadata": {},
   "source": [
    "The mentor is not aware of any operating systems without a command line. Mac computers have *Terminal*, Windows has *Command Prompt* and *PowerShell*, and Linux has *Bash*, *Tcsh*, *Ksh*, *Zsh*, and even something called *Fish*. This session will focus on Windows command lines, because the mentor and a majority of the students use the Windows 10 operating system. The mentor would like to add a Mac section to this notebook and encourages any readers who own a Mac to submit revisions.\n",
    "\n",
    "## II. Windows Command Prompt.\n",
    "One easy way to start the command prompt is to type `cmd` into the task bar's search box:\n",
    "\n",
    "![Opening Command Prompt](images/start_cmd.png)\n",
    "\n",
    "You can also find the command prompt on the Windows *Start Menu* in the *Windows System* folder. Go ahead and open the command window using one of these methods. You should see something like this:\n",
    "\n",
    "![Command Prompt](images/cmd.png)\n",
    "\n",
    "Go ahead and type the following command into the commadn prompt and hit ENTER.\n",
    "```Bash\n",
    "exit\n",
    "```\n",
    "\n",
    "The command prompt should have just closed. The `exit` command is the only command we're going to cover for the command prompt because we are going to use Powershell instead."
   ]
  },
  {
   "cell_type": "markdown",
   "metadata": {},
   "source": [
    "## III. Windows Powershell\n",
    "There's actually nothing wrong with the old Windows Command Prompt. It's not going to be removed from Windows anytime soon, if ever. But everything that can be done in the Command Prompt can be done in Powershell. Powershell is the default CLI in Windows and is under active development, so it will get improvements and new features. There are even versions of Powershell for macOS and Linux.\n",
    "\n",
    "Let's start working with Powershell. Find Powershell in the *Windows PowerShell* folder on the *Start* menu.\n",
    "![PowerShell on Start Menu](images/pwrsh_start_menu.png)\n",
    "\n",
    "This is what you will see:\n",
    "\n",
    "![Powershell Window](images/pwrsh.png)\n",
    "\n"
   ]
  },
  {
   "cell_type": "markdown",
   "metadata": {},
   "source": [
    "You can tell that it's a PowerShell window and not the command prompt because it says *Windows PowerShell* in the window's title bar. The bottom line of text, `PS C:\\Users\\stacy` is the prompt. The letters `PS` also indicate that this is a Powershell window, and `C:\\Users\\stacy` is the *current working directory* or *current location*. With some exceptions, commands you type into PowerShell will have different results depending on the current location. By default, the initial starting location is your user folder, `C:\\Users\\{your user name}`.\n",
    "\n",
    "### A. Listing Files with `ls`\n",
    "Let's enter our first command. Type `ls` and hit enter.\n",
    "\n",
    "![ls](images/ls.png)\n",
    "\n",
    "The `ls` command causes Powershell to list the contents of the current working directory. Your output will look slightly different than what is pictured above because your computer has different files, but it's close enough.\n",
    "\n",
    "**Mode:** The mode section displays file attributes, such as whether the file is read-only or hidden. The `d` in the first column means the entry is a directory.\n",
    "\n",
    "**LastWriteTime:** The date and time that the file or directory was last modified.\n",
    "\n",
    "**Length:** The size of the file in *bytes* (will be blank for directories).\n",
    "\n",
    "**Name:** The name of the file or directory.\n",
    "\n",
    "##### But what about `dir`?\n",
    "If you've used the Windows Command Prompt, then you've used `dir` instead of `ls` to list the contents of a directory. The `dir` command works in Powershell just like `ls` and you can use it instead if you prefer. The `dir` command works only in Windows Command Prompt, but `ls` works in all Unix-style operating systems, including Linux and macOS."
   ]
  },
  {
   "cell_type": "markdown",
   "metadata": {},
   "source": [
    "### B. Changing Directories with `cd`\n",
    "Now type `cd downloads` and hit enter. Use the `ls` command to see a list of folders in your downloads folder. Here's what the mentor's downloads file looks like:\n",
    "\n",
    "![Downloads Folder](images/downloads.png)"
   ]
  },
  {
   "cell_type": "markdown",
   "metadata": {},
   "source": [
    "### C. Moving to a Parent Folder with `cd ..`\n",
    "Now type `cd ..` and hit enter. The current location moves back to your user directory, which is the parent directory of *Downloads*. The two periods are an abbreviation for the parent directory, so `cd ..` is the command for changing the current working directory to the parent directory. This syntax is not unique to Powershell. It works in Linux, on macOS, and in Windows Command Prompt. The `..` symbol also shows up in Python and other programming languages.\n",
    "\n",
    "Enter `cd ..` one more time to move up the the *C:\\Users* folder. List the contents of the folder.\n",
    "\n",
    "![Users Folder](images/users.png)"
   ]
  },
  {
   "cell_type": "markdown",
   "metadata": {},
   "source": [
    "### D. Using Absolute Paths\n",
    "So far we've been passing relative paths to the `cd` command. Absolute paths can be used as well. Try entering `cd C:/Windows`"
   ]
  },
  {
   "cell_type": "markdown",
   "metadata": {},
   "source": [
    "### E. Getting Help with `Get-Help`\n",
    "You can get help for any command by typing `Get-Help` and then the name of the command. Try `Get-Help cd`. You should see something like this:\n",
    "\n",
    "![Help](images/help.png)\n",
    "\n",
    "Note that the official name of the `cd` command in Powershell is *Set-Location*."
   ]
  },
  {
   "cell_type": "markdown",
   "metadata": {},
   "source": [
    "### F. Clearing the Screen with `cls`\n",
    "Running the help command left a lot of text on the screen. Type `cls` to clear th escreen."
   ]
  },
  {
   "cell_type": "markdown",
   "metadata": {},
   "source": [
    "### G. Other Userful Commands\n",
    "* `md dir_name` creates a directory in the current folder named *dir_name*.\n",
    "* `rd dir_name` deletes the directory named *dir_name* in the current folder.\n",
    "* `copy file.txt -Destination C:\\Users\\wall_e\\documents` copies the file *file.txt* in the current folder to WALL-E's documents folder.\n",
    "* `move file.txt -Destination C:\\Users\\c3p0\\documents` moves the folder *file.txt* to someone's documents folder.\n",
    "* `del file.txt` deletes the folder *file.txt* from the current folder."
   ]
  },
  {
   "cell_type": "markdown",
   "metadata": {},
   "source": [
    "### H. Opening Powershell in a Specific Folder.\n",
    "Here's a neat trick. First, open the *Windows File Explorer*. You can do this by typing `File Exploer` in the task menu search bar or by finding `File Explorer` on the start menu (in the *Windows System* folder). But my favorite way is to press the *Windows* logo key and *E* at the same time. The *Windows* logo key is the one that looks like a window.\n",
    "\n",
    "Now go to any folder on your computer, type `powershell` in the address bar, and hit ENTER.\n",
    "\n",
    "![Opening PowerShell from Within File Explorer](images/exp_pwrshell.png)\n",
    "\n",
    "A powershell window should have opened to the folder that was selected in *Windows File Explorer*.\n",
    "\n",
    "Here's another trick. In *Windows File Explorer*, hold down the SHIFT key and right click on a folder, like so:\n",
    "\n",
    "![Opening Powershell with SHIFT+click](images/shift_click.png)\n",
    "\n",
    "There is an option on the context menu that will open Powershell in the folder that is currently selected within *Windows File Explorer*.\n"
   ]
  },
  {
   "cell_type": "markdown",
   "metadata": {},
   "source": [
    "## IV. Installing Python\n",
    "So far, we haven't seen how to do anything with a CLI like Powershell that can't easily be done via other means. The benefits of Powershell won't be apparent until we install Python to our local machines. So let's get started. Follow the instructions in [Procedure 01](../../procedures/pc01_install_python/pc01_install_python_windows.ipynb) to install Python on your computer. Return to this session after you have followed all of the steps in procedure 01.\n",
    "\n",
    "The Minconda installer created a shortcut to a special version of *Powershell* that is configured to run Python programs. If you completed pc01, then you used *Powershell* to verify Python was installed, create a new Python environment, and install the *Jupyter* Python package. These tasks would have taken much more time to complete with a graphical user interface."
   ]
  },
  {
   "cell_type": "markdown",
   "metadata": {},
   "source": [
    "## V. Downloading the Python Class Files with Git\n",
    "Accessing the Python class files online is fine, but in the long run it will be more convenient to have them on your own computer. We will use a program called Git and a website called Github to download the Python class files. Git is a version control tool for software. Don't worry if you don't know what that means because we will cover it in more detail later. Github is a website that allows programmers to share code.\n",
    "\n",
    "1. Follow the instruction in [procedure 02](../../procedures/pc02_git/pc02_git.ipynb) to install git and make a copy of all of the Python class files on your computer. You will use Powershell to issue the git commands that download all of the Python class files from the Github website. Return to this session when you are done.\n",
    "2. Open Powershell in the folder that contains the Python class files. Enter the command `jupyter notebook`.\n",
    "3. The main jupyter server window will open in your default browser. Click on the notebook *index.ipynb* to open the Python class table of contents."
   ]
  },
  {
   "cell_type": "markdown",
   "metadata": {},
   "source": [
    "## VI. Updating Your Python Class Files\n",
    "The Python class is still being developed, with new sessions, procedures, and projects being added. You will use Git to keep your version of the Python class synchronized with the Python class files on Github. Foll"
   ]
  },
  {
   "cell_type": "code",
   "execution_count": null,
   "metadata": {},
   "outputs": [],
   "source": []
  },
  {
   "cell_type": "code",
   "execution_count": null,
   "metadata": {},
   "outputs": [],
   "source": []
  }
 ],
 "metadata": {
  "kernelspec": {
   "display_name": "Python 3",
   "language": "python",
   "name": "python3"
  },
  "language_info": {
   "codemirror_mode": {
    "name": "ipython",
    "version": 3
   },
   "file_extension": ".py",
   "mimetype": "text/x-python",
   "name": "python",
   "nbconvert_exporter": "python",
   "pygments_lexer": "ipython3",
   "version": "3.8.2"
  }
 },
 "nbformat": 4,
 "nbformat_minor": 4
}
