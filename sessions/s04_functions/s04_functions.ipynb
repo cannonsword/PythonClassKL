{
 "cells": [
  {
   "cell_type": "markdown",
   "metadata": {},
   "source": [
    "[Table of Contents](../../index.ipynb)"
   ]
  },
  {
   "cell_type": "markdown",
   "metadata": {},
   "source": [
    "# FRC Analytics with Python - Session 03\n",
    "# Functions\n",
    "\n",
    "This session covers one of the most important topics in computer programming. Functions are an essential part of programming. It is difficult to imagine writing a computer program of any consequence without them.\n",
    "\n",
    "We could go over a long list of the benefits of functions right now, like how they help keep computer programs organized, allow us to reuse code, and help prevent software bugs. But those concepts will be difficult to understand since you are all new to programming. So let's jump right in."
   ]
  },
  {
   "cell_type": "markdown",
   "metadata": {},
   "source": [
    "## I. Code Blocks\n",
    "A code block is a group of program statements that will be run together. We already used code blocks with our control statements in session 2. Consider the while loop for calculating a factorial:\n",
    "\n",
    "```Python\n",
    "num = 5\n",
    "step = 1\n",
    "fact = 1\n",
    "while step < num:\n",
    "    step = step + 1\n",
    "    fact = fact * step\n",
    "print(f'Factorial of {num}:', fact)\n",
    "```\n",
    "\n",
    "See how the two lines after the `while` statement are indented? Python uses indentation to define code blocks. The two indented lines will be executed several times because they are part of the while loop. The `print()` statement is not part of the fhile loop because it is not indented. It will only be executed once, at the very end of the program after the while loop is complete.\n",
    "\n",
    "Don't take my word for it - see for yourself. Run the cell below and note the output."
   ]
  },
  {
   "cell_type": "code",
   "execution_count": null,
   "metadata": {},
   "outputs": [],
   "source": [
    "# Calculate the factorial of the number assigned to the variable num\n",
    "num = 5\n",
    "step = 1\n",
    "fact = 1\n",
    "while step < num:\n",
    "    step = step + 1\n",
    "    fact = fact * step\n",
    "print(f'Factorial of {num}:', fact)"
   ]
  },
  {
   "cell_type": "markdown",
   "metadata": {},
   "source": [
    "Now go back and make one change to the code. Put four spaces in front of the `print()` statement so that it is at the same indentation level as the preceeding two lines. Run the cell again.\n",
    "\n",
    "The code spit our four lines of output instead of one. There was one line of output for every time the while loop ran. By indenting the `print()` statement, we told Python that the `print()` statement should be part of the while loop.\n",
    "\n",
    "We also used code blocks in if statements and for loops. Did you notice that Python statements that start new code blocks end in colons? Forgetting to put a colon before starting a code block is a common error.\n",
    "\n",
    "```Python\n",
    "for idx in range(5):\n",
    "    print(idx)\n",
    "```\n",
    "\n",
    "```Python\n",
    "if num_cheetos_left == 0:\n",
    "    print('We need to buy more Cheetos!')\n",
    "```\n",
    "\n",
    "The two code blocks above each contain only a single statement, but they are still code blocks.\n",
    "\n",
    "As you will see in the next section, functions are basically named blocks of code."
   ]
  },
  {
   "cell_type": "markdown",
   "metadata": {},
   "source": [
    "## II. First Function\n",
    "As shown below, functions are defined using the keyword `def` run the cell below to define the function."
   ]
  },
  {
   "cell_type": "code",
   "execution_count": 2,
   "metadata": {},
   "outputs": [],
   "source": [
    "# First function definition\n",
    "def function_a():\n",
    "    msg = 'function_a is now running'\n",
    "    print(msg)"
   ]
  },
  {
   "cell_type": "markdown",
   "metadata": {},
   "source": [
    "It appears that nothing happened when you ran the cell. But something did happen. Python defined a function called `function_a`. We can prove it by running the cell below."
   ]
  },
  {
   "cell_type": "code",
   "execution_count": null,
   "metadata": {},
   "outputs": [],
   "source": [
    "# Run this cell to see currently defined variables and functions\n",
    "dir()"
   ]
  },
  {
   "cell_type": "markdown",
   "metadata": {},
   "source": [
    "See the entry for `function_a` near the bottom of the list? Now let's call the function."
   ]
  },
  {
   "cell_type": "code",
   "execution_count": 10,
   "metadata": {},
   "outputs": [
    {
     "name": "stdout",
     "output_type": "stream",
     "text": [
      "function_a is now running\n"
     ]
    }
   ],
   "source": [
    "# Calling a function\n",
    "function_a()"
   ]
  },
  {
   "cell_type": "markdown",
   "metadata": {},
   "source": [
    "We tell Python to call a function by writing the function name followed by parenethsis."
   ]
  },
  {
   "cell_type": "markdown",
   "metadata": {},
   "source": [
    "## III. Arguments and Return Values"
   ]
  },
  {
   "cell_type": "markdown",
   "metadata": {},
   "source": [
    "Run the two cells below to see an example of a simple function with arguments."
   ]
  },
  {
   "cell_type": "code",
   "execution_count": 17,
   "metadata": {},
   "outputs": [],
   "source": [
    "# Function with Arguments\n",
    "def add_two_numbers(x, y):\n",
    "    print('x =', x)\n",
    "    print('y =', y)\n",
    "    return x + y"
   ]
  },
  {
   "cell_type": "code",
   "execution_count": 18,
   "metadata": {},
   "outputs": [
    {
     "name": "stdout",
     "output_type": "stream",
     "text": [
      "x = 93\n",
      "y = 107\n"
     ]
    },
    {
     "data": {
      "text/plain": [
       "200"
      ]
     },
     "execution_count": 18,
     "metadata": {},
     "output_type": "execute_result"
    }
   ],
   "source": [
    "add_two_numbers(93, 107)"
   ]
  },
  {
   "cell_type": "markdown",
   "metadata": {},
   "source": [
    "Values that we pass into a function within parentheses are called arguments. In this example our arguments are the numbers 93 and 107. From examining the print statements we can see that 93 is assigned to `x` and 107 is assigned to `y`. It's not wrong to call `x` and `y` variables because they behave just like variables inside the function. But *parameter* is a more accurate term. A parameter is a special type of variable that gets it's value from an argument that is passed into the function. This is a tricky distiniction so we'll go over it again.\n",
    "* **Arugment:** A value that is passed into a function when it is called. In the example above, 93 and 107 are the arguments.\n",
    "* **Parameter:** A special variable inside a function that contains one of the function arguments. `x` and `y` are the parameters in the example above.\n",
    "\n",
    "Finally, note the `return` statement. The value to the right of the return statement is the output of the function. Jupyter notebooks will automatically display this value if the function is called in the last line of a code cell.\n",
    "\n",
    "We usually want to save a function's output and use it later. It's more commont to assigne the output, or return value, of a function to a variable like this:"
   ]
  },
  {
   "cell_type": "code",
   "execution_count": 19,
   "metadata": {},
   "outputs": [
    {
     "name": "stdout",
     "output_type": "stream",
     "text": [
      "x = 251\n",
      "y = 164\n"
     ]
    }
   ],
   "source": [
    "# Assigning function's return value to a variable\n",
    "sum = add_two_numbers(251, 164)"
   ]
  },
  {
   "cell_type": "markdown",
   "metadata": {},
   "source": [
    "The return value was not displayed because we assigned it to a variable instead. But it was not lost. Run the next cell to see the return value."
   ]
  },
  {
   "cell_type": "code",
   "execution_count": 21,
   "metadata": {},
   "outputs": [
    {
     "data": {
      "text/plain": [
       "415"
      ]
     },
     "execution_count": 21,
     "metadata": {},
     "output_type": "execute_result"
    }
   ],
   "source": [
    "# Value of sum variable\n",
    "sum"
   ]
  },
  {
   "cell_type": "markdown",
   "metadata": {},
   "source": [
    "Functions are not required to have a `return` statement. Run the cell below to define another example function."
   ]
  },
  {
   "cell_type": "code",
   "execution_count": 22,
   "metadata": {},
   "outputs": [],
   "source": [
    "def returns_nothing(a, b):\n",
    "    print('returns_nothing() is running now.')\n",
    "    a * b"
   ]
  },
  {
   "cell_type": "markdown",
   "metadata": {},
   "source": [
    "Now run the next cell to run `returns_nothing()`."
   ]
  },
  {
   "cell_type": "code",
   "execution_count": 23,
   "metadata": {},
   "outputs": [
    {
     "name": "stdout",
     "output_type": "stream",
     "text": [
      "returns_nothing() is running now.\n"
     ]
    }
   ],
   "source": [
    "returns_nothing(20, 21)"
   ]
  },
  {
   "cell_type": "markdown",
   "metadata": {},
   "source": [
    "We know the function ran because we see the results of the print statement, but the product of a and b was not displayed because we didn't include a `return` statement."
   ]
  },
  {
   "cell_type": "markdown",
   "metadata": {},
   "source": [
    "## IV. Python Tutorial on Functions\n",
    "Now that you've leaned a bit about functions, work through [section 4.6 of the Python Tutorial on defining functions](https://docs.python.org/3/tutorial/controlflow.html#defining-functions).\n",
    "\n",
    "Section 4.6 discusses something called a *symbol table* and documentation strings. Don't spend too much time on those. Just try to understand how the function code works. Section 4.6 introduces a couple new practices you have not seen before.\n",
    "\n",
    "There is a new kind of variable assignment:\n",
    "```Python\n",
    "# Multiple variable assignment\n",
    "a, b, = 0, 1\n",
    "```\n",
    "The statement above assigns two variables in one statement. The value 0 is assigned to variable `a` and the value 1 is assigned to variable `b`.\n",
    "\n",
    "Section 4.6 also uses the print function in a new way:\n",
    "```Python\n",
    "# print() functions 'end' parameter\n",
    "print(a, end=' ')\n",
    "```\n",
    "By default, if `print()` is called multiple times, each call to `print()` will be on a new line. Including `end=' '` in the print statement causes subsequent calls to the print statement to all be printed on the same line, with a space character between each value.\n",
    "\n",
    "Practice with the examples of section 4.6 below."
   ]
  },
  {
   "cell_type": "code",
   "execution_count": 24,
   "metadata": {},
   "outputs": [],
   "source": [
    "# Python Tutorial Function Examples\n",
    "\n",
    "\n"
   ]
  },
  {
   "cell_type": "markdown",
   "metadata": {},
   "source": [
    "## V. First Function Exercise\n",
    "**Ex. #1.** Convert the code for calculating a factorial to a function. (The code is in the first code cell in this notebook). Name the function *factorial()*. *factorial()* should take a single argument, the number for which we will calculate the factorial. Define *factorial()* in the cell below."
   ]
  },
  {
   "cell_type": "code",
   "execution_count": null,
   "metadata": {},
   "outputs": [],
   "source": [
    "# Define factorial() in this cell. Remember to run this cell!\n",
    "\n"
   ]
  },
  {
   "cell_type": "markdown",
   "metadata": {},
   "source": [
    "Run the cell below. It will show the factorial of 10 if you defined the function correctly."
   ]
  },
  {
   "cell_type": "code",
   "execution_count": null,
   "metadata": {},
   "outputs": [],
   "source": [
    "# Run the factorial function\n",
    "factorial(10)"
   ]
  },
  {
   "cell_type": "markdown",
   "metadata": {},
   "source": [
    "If you see \"NameError: name 'factorial' is not defined\", that means you forgot to run the cell that defined the factorial function. Pay attention to this next part - I've seen many FIRST students get confused about this and then spend a lot of time wondering why their code isn't doing anything:\n",
    "* The first cell in this exercise *defines* the function. It says to Python \"Oh, by the way, if anyone tells you to run a function called `factorial()`, run this code here.\" Python responds by saying \"Noted\", but Python doesn't actually run any of the code in the function definition.\n",
    "* The second cell *calls* the function. It says to Python \"Hey, remember that `factorial()` function we told you about earlier? Please run it now, with an argument of 10.\"\n",
    "\n",
    "Common mistakes are:\n",
    "1. Defining a function but then forgetting to call it.\n",
    "2. Defining a function, but never running the code cell or module that defines the function, so that when you try to call it, Python has no idea what you are talking about.\n",
    "\n",
    "Also note that you only have to run the code to *define* a function once. Once it's defined, you can call it as many times as you want."
   ]
  },
  {
   "cell_type": "markdown",
   "metadata": {},
   "source": [
    "## VI. Built-in Python Functions\n",
    "Hopefully the function calls look familiar because we've already called several of Python's built-in functions.\n",
    "\n",
    "1. [The `print()` function displays it's arguments](https://docs.python.org/3/library/functions.html#print).\n",
    "2. [The `range()` function creates a seqence of numbers](https://docs.python.org/3/library/functions.html#func-range).\n",
    "3. [The `round()` function rounds a number to the nearest integer](https://docs.python.org/3/library/functions.html#round).\n",
    "4. [The `len()` function returns the length of a list or string](https://docs.python.org/3/library/functions.html#len).\n",
    "\n",
    "Click on each hyperlink to see the official documentation for each function. The complete list of built-in functions is here: https://docs.python.org/3/library/functions.html. The course designer refers to this page frequently for his own programming projects.\n",
    "\n",
    "We're going to learn one more built-in "
   ]
  },
  {
   "cell_type": "markdown",
   "metadata": {},
   "source": [
    "## VI. More Function Exercises\n",
    "**Ex. #2.** Write a function that takes two arguments. The first argument is the price of a meal, and the second argument is the tip percentage. The function should return the amount of th tip."
   ]
  },
  {
   "cell_type": "code",
   "execution_count": null,
   "metadata": {},
   "outputs": [],
   "source": [
    "# Ex 2: Tip Calculator"
   ]
  },
  {
   "cell_type": "code",
   "execution_count": null,
   "metadata": {},
   "outputs": [],
   "source": []
  },
  {
   "cell_type": "code",
   "execution_count": null,
   "metadata": {},
   "outputs": [],
   "source": []
  },
  {
   "cell_type": "code",
   "execution_count": null,
   "metadata": {},
   "outputs": [],
   "source": []
  },
  {
   "cell_type": "code",
   "execution_count": null,
   "metadata": {},
   "outputs": [],
   "source": []
  },
  {
   "cell_type": "code",
   "execution_count": null,
   "metadata": {},
   "outputs": [],
   "source": []
  },
  {
   "cell_type": "markdown",
   "metadata": {},
   "source": [
    "## IV. Introduction to Functions\n",
    "Now that you've leaned a bit about functions, work through [section 4.6 of the Python Tutorial on defining functions](https://docs.python.org/3/tutorial/controlflow.html#defining-functions).\n",
    "\n",
    "Section 4.6 introduces a type of variable assignment you have not seen before.\n",
    "```Python\n",
    "a, b, = 0, 1\n",
    "```\n",
    "\n",
    "The statement above assigns two variables in one statement. The value 0 is assigned to variable `a` and the value 1 is assigned to variable `b`.\n",
    "\n",
    "Once you've completed the *learnpython.org* functions section, you should be able to answer these questions:\n",
    "1. What is the difference between defining a function and calling a function?\n",
    "2. What keyword is used to define a function?\n",
    "3. What keyword will cause a function to stop executing?\n",
    "4. What is a function parameter?"
   ]
  }
 ],
 "metadata": {
  "kernelspec": {
   "display_name": "Python 3",
   "language": "python",
   "name": "python3"
  },
  "language_info": {
   "codemirror_mode": {
    "name": "ipython",
    "version": 3
   },
   "file_extension": ".py",
   "mimetype": "text/x-python",
   "name": "python",
   "nbconvert_exporter": "python",
   "pygments_lexer": "ipython3",
   "version": "3.7.6"
  }
 },
 "nbformat": 4,
 "nbformat_minor": 4
}
