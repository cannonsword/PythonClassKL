{
 "cells": [
  {
   "cell_type": "markdown",
   "metadata": {},
   "source": [
    "[Table of Contents](../../index.ipynb)"
   ]
  },
  {
   "cell_type": "markdown",
   "metadata": {},
   "source": [
    "# FRC Analytics with Python - Session 07\n",
    "# Python Modules\n",
    "**Last Updated: 7 May 2020**\n",
    "\n",
    "Jupyter notebooks are great for data analysis, experimenting, and running short bits of code. But for serious programs, we need to know how to run Python code outside the Jupyter environment. Python code is generally saved in a text file with a *.py* extension. Each Python file constitutes a unit of code called a *module*. In this session we will first cover an essential tool for working with modules, the programmer's text editor, and then we will cover modules themselves."
   ]
  },
  {
   "cell_type": "markdown",
   "metadata": {},
   "source": [
    "## I. Programming Text Editor\n",
    "\n",
    "### A. Installing Microsoft VS Code\n",
    "You need a programming text editor to create Python programs that you can run on your computer. If you already are familiar with programming text editors and have one that you like (e.g., *Atom*, *Vim*, *Notepad++*), great! Use that one. The examples in this course will use *VS Code* from Microsoft, so if you are not familiar with text editors, it's best to use that one.\n",
    "\n",
    "Follow the instructions in sections I and II of [procedure 5 to install and configure VS Code](../../procedures/pc05_vs_code/pc05_vs_code.ipynb). Stop at section III."
   ]
  },
  {
   "cell_type": "markdown",
   "metadata": {},
   "source": [
    "### B. Getting Started with VS Code\n",
    "\n",
    "You will probably see something like this when you start up *VS Code*:\n",
    "\n",
    "![VS Code Startup](images/vs_startup.png)"
   ]
  },
  {
   "cell_type": "markdown",
   "metadata": {},
   "source": [
    "You might or might not see a menu bar. If the menu bar is hidden:\n",
    "1. Press the ALT key to make the menu bar visible.\n",
    "2. Select *View->Appearance->Show Menu* to make the menu bar stay visible.\n",
    "\n",
    "![Make Menu Bar Visible](images/vs_menu.png)\n",
    "\n",
    "If you can see the menu bar, try making it invisible and then making it visible again, just for practice.\n",
    "\n",
    "You can also use the *View->Appearance->Zoom In/Out* menu options to make the text larger or smaller."
   ]
  },
  {
   "cell_type": "markdown",
   "metadata": {},
   "source": [
    "### C. Open a Folder in VS Code\n",
    "1. Use Windows *File Explorer* or Mac *Finder* to create a folder for this session. The folder should be named *s07* and be located with your other Python programming files, but *outside* the pyclass_frc Git repository.\n",
    "2. Open the *s07* folder you just created in *VS Code*. Select *File->Open Folder...* from the *VS Code* menu (do not select *Open File...*) and select the folder you just created. \n",
    "3. Close the *Welcome* file if it's still open (click the *X* on the tab at the top of the editor window).\n",
    "\n",
    "VS code now displays the contents of the *s07* folder in the side bar on the left side of the *VS Code* window. When working on a project, you will frequently be working with several different files that are contained within the same folder. Being able to view the contents of the folder and quickly open any of its files within *VS Code* is very helpful. The pane that shows the contents of the folder is called the *Explorer* view. You can get back to the *Explorer* view by clicking the top left icon that looks like two sheets of paper, or by selecting *View->Explorer* from the menu."
   ]
  },
  {
   "cell_type": "markdown",
   "metadata": {},
   "source": [
    "### D. Create a Python File and Select an Environment\n",
    "1. Select *File->New File* from the *VS Code* menu.\n",
    "2. Select *File->Save As* from the menu (or hit CTRL+S) to save the file you just created.\n",
    "3. Name the file `misc.py`.\n",
    "4. After saving the file, *VS Code* might display a message that no Python interpreter has been selected. Click the *Select Python Interpreter* button. Skip ahead to step 6. If you didn't see this message, go to step 5.\n",
    "![Python Interpreter Message](images/vs_py_int.png)\n",
    "5. If you don't see the Python interpreter message, select *View->Command Pallette...* from the menu (or hit CTRL+SHIFT+P) to open the command pallete window.\n",
    "![VS Code Command Pallette](images/vs_cmd_pallette.png)\n",
    "*VS Code* has so many options that they can't all fit on a menu. Many options are only available from the command pallette. If you see the option *Python: Select Interpreter*, click on it. If not, start to type `Python: Select Interpreter` in the command pallete search box. Click on it when it appears in the search results.\n",
    "6. You should see a list of Conda environments appear at the top of the screen. Select the *pyclass* environment that you created earlier.\n",
    "![List of Conda Environments](images/vs_py_int_select.png)\n",
    "You should see your Python environment in the bottom left corner of the *VS Code* window after you've completed this step.\n",
    "![Python Environment](images/vs_python_env.png)\n",
    "You can run your Python programs from within *VS Code*, which is very helpful. But first, *VS Code* we must tell *VS Code* which Python environment to use. You can select a different Python environment at any time by completing steps 5 and 6.\n",
    "\n",
    "Finally, if you see a message stating that *Linter pylint is not installed*, click on the *Install* button, then select *Install using Conda* to install pylint. You will see pylint install inside a window within *VS Code*. Pylint is a tool that helps find errors in Python code. We will use it later in the course.\n",
    "![Pylint Message](images/vs_linter_msg.png)"
   ]
  },
  {
   "cell_type": "markdown",
   "metadata": {},
   "source": [
    "## II. Writing a Simple Function\n",
    "Now we will write a simple Python function within *VS Code*.  We'll start with something simple. Write a function called `echo` with one parameter named `stuff`. The function should print a blank line and then print the `stuff` parameter. *VS Code* will highlight any syntax errors that you make - make sure you fix those. Hit CTRL+S to save the file.\n",
    "\n",
    "Now select *Run->Run without Debugging* from the *VS Code* menu (or hit CTRL+F5, or click the little green triangular icon in the upper right that looks like a *Play* button). The Python program will begin to run inside the termainal window within *VS Code*. Did you see any output? If you wrote the function correctly, there should be no output. Why not?\n",
    "\n",
    "Right... we have to *call* the function if we want anthing to happen. Insert a blank line after the function definition, add these two lines to the end of the `misc.py` file:\n",
    "```Python\n",
    "distinct(\"I just repeat what other people say!\")\n",
    "```\n",
    "Now run the file in *VS Code*. You should see the prhase `I just repeat what other people say!` somewhere in the output."
   ]
  },
  {
   "cell_type": "markdown",
   "metadata": {},
   "source": [
    "## III. Running Python from the Command Line\n",
    "1. Open a PowerShell or Terminal window to the folder that contains `misc.py`.\n",
    "2. Run this command:\n",
    "```Bash\n",
    "python misc.py\n",
    "```\n",
    "\n",
    "You should see the output phrase from section II.\n",
    "\n",
    "As you can see, you run a python program by typing `python` at the command line, followed by the name of the Python file. Don't forget the `.py` extension."
   ]
  },
  {
   "cell_type": "code",
   "execution_count": null,
   "metadata": {},
   "outputs": [],
   "source": []
  }
 ],
 "metadata": {
  "kernelspec": {
   "display_name": "Python 3",
   "language": "python",
   "name": "python3"
  },
  "language_info": {
   "codemirror_mode": {
    "name": "ipython",
    "version": 3
   },
   "file_extension": ".py",
   "mimetype": "text/x-python",
   "name": "python",
   "nbconvert_exporter": "python",
   "pygments_lexer": "ipython3",
   "version": "3.8.2"
  }
 },
 "nbformat": 4,
 "nbformat_minor": 4
}
